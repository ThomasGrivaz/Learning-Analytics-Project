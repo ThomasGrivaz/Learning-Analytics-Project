{
 "cells": [
  {
   "cell_type": "markdown",
   "metadata": {},
   "source": [
    "# Digital Education & Learning analytics - Project part. 2"
   ]
  },
  {
   "cell_type": "code",
   "execution_count": 38,
   "metadata": {
    "collapsed": true
   },
   "outputs": [],
   "source": [
    "import pandas as pd\n",
    "import numpy as np\n",
    "from sklearn import linear_model, preprocessing\n",
    "from sklearn.model_selection import train_test_split, cross_val_score\n",
    "from sklearn.metrics import mean_squared_error"
   ]
  },
  {
   "cell_type": "code",
   "execution_count": 2,
   "metadata": {
    "collapsed": false
   },
   "outputs": [
    {
     "data": {
      "text/plain": [
       "Index(['ProblemID', 'UserID', 'SubmissionNumber', 'TimeStamp', 'TimeSinceLast',\n",
       "       'Grade', 'GradeDiff', 'NVideoEvents', 'NForumEvents', 'NumberOfPosts',\n",
       "       'TimeSpentOnForum', 'DurationOfVideoActivity', 'RewatchingScore',\n",
       "       'NumberOfThreadCreated', 'LastVideoEvent', 'NumberVideoWatched',\n",
       "       'NumberOfSlowPlay', 'NumberOfThreadViews', 'LastForumEvent',\n",
       "       'NumberOfVideoInteractions', 'AverageVideoTimeDiffs', 'NumberOfUpvotes',\n",
       "       'NVideoAndForum'],\n",
       "      dtype='object')"
      ]
     },
     "execution_count": 2,
     "metadata": {},
     "output_type": "execute_result"
    }
   ],
   "source": [
    "df = pd.read_csv('OutputTable.csv')\n",
    "df.fillna(0, inplace=True)\n",
    "df.query('SubmissionNumber > 0', inplace=True)\n",
    "df['NVideoAndForum'] = df['NVideoEvents'].add(df['NForumEvents'])\n",
    "df.head()\n",
    "df.columns"
   ]
  },
  {
   "cell_type": "code",
   "execution_count": 14,
   "metadata": {
    "collapsed": false
   },
   "outputs": [],
   "source": [
    "def aggregate_df(df):\n",
    "    aggregations = {\n",
    "        'SubmissionNumber':{\n",
    "            'TotalNumberOfSubmissions': 'last'\n",
    "        },\n",
    "        'TimeSinceLast':{\n",
    "            'AvgTimeBwSubs': lambda x: np.log(np.mean(x))\n",
    "        },\n",
    "        'Grade':{ \n",
    "            'GradeDiff': lambda x: x.iloc[-1] - x.iloc[0]\n",
    "        },\n",
    "        'NVideoEvents':{\n",
    "            'NVideoEvents': 'sum'\n",
    "        },    \n",
    "        'NForumEvents':{\n",
    "            'NForumEvents': 'sum'\n",
    "        },\n",
    "        'NumberOfPosts':{\n",
    "            'NumberOfPosts': 'sum'\n",
    "        },\n",
    "        'TimeSpentOnForum':{\n",
    "            'TimeSpentOnForum': 'sum'\n",
    "        },\n",
    "        'DurationOfVideoActivity':{\n",
    "            'DurationOfVideoActivity': 'sum'\n",
    "        },\n",
    "        'RewatchingScore':{\n",
    "            'RewatchingScore': 'sum'\n",
    "        },\n",
    "        'NumberOfThreadCreated':{\n",
    "            'NumberOfThreadCreated': 'sum'\n",
    "        },\n",
    "        'NumberVideoWatched':{\n",
    "            'NumberVideoWatched': 'sum'\n",
    "        },\n",
    "        'NumberOfThreadViews':{\n",
    "            'NumberOfThreadViews': 'sum'\n",
    "        },\n",
    "        'NumberOfVideoInteractions':{\n",
    "            'NumberOfVideoInteractions': 'sum'\n",
    "        },\n",
    "        'NumberOfUpvotes':{\n",
    "            'NumberOfUpvotes': 'sum'\n",
    "        },\n",
    "        'NVideoAndForum': {\n",
    "            'TotalNVideoAndForum': 'sum',\n",
    "            'ActivityRate': lambda x: np.sum(x !=0) / len(x)\n",
    "        }\n",
    "    }\n",
    "    data = df.groupby(by=['UserID', 'ProblemID'], as_index=True).agg(aggregations)\n",
    "    data.columns = data.columns.droplevel()\n",
    "    data.query('TotalNumberOfSubmissions > 1', inplace=True)\n",
    "    #data.query('TotalNVideoAndForum > 0', inplace=True)\n",
    "    return data"
   ]
  },
  {
   "cell_type": "code",
   "execution_count": 16,
   "metadata": {
    "collapsed": false
   },
   "outputs": [
    {
     "data": {
      "text/html": [
       "<div>\n",
       "<table border=\"1\" class=\"dataframe\">\n",
       "  <thead>\n",
       "    <tr style=\"text-align: right;\">\n",
       "      <th></th>\n",
       "      <th></th>\n",
       "      <th>NVideoEvents</th>\n",
       "      <th>NumberOfPosts</th>\n",
       "      <th>TimeSpentOnForum</th>\n",
       "      <th>NumberOfVideoInteractions</th>\n",
       "      <th>GradeDiff</th>\n",
       "      <th>NForumEvents</th>\n",
       "      <th>RewatchingScore</th>\n",
       "      <th>AvgTimeBwSubs</th>\n",
       "      <th>DurationOfVideoActivity</th>\n",
       "      <th>TotalNumberOfSubmissions</th>\n",
       "      <th>NumberOfThreadCreated</th>\n",
       "      <th>TotalNVideoAndForum</th>\n",
       "      <th>ActivityRate</th>\n",
       "      <th>NumberOfThreadViews</th>\n",
       "      <th>NumberVideoWatched</th>\n",
       "      <th>NumberOfUpvotes</th>\n",
       "    </tr>\n",
       "    <tr>\n",
       "      <th>UserID</th>\n",
       "      <th>ProblemID</th>\n",
       "      <th></th>\n",
       "      <th></th>\n",
       "      <th></th>\n",
       "      <th></th>\n",
       "      <th></th>\n",
       "      <th></th>\n",
       "      <th></th>\n",
       "      <th></th>\n",
       "      <th></th>\n",
       "      <th></th>\n",
       "      <th></th>\n",
       "      <th></th>\n",
       "      <th></th>\n",
       "      <th></th>\n",
       "      <th></th>\n",
       "      <th></th>\n",
       "    </tr>\n",
       "  </thead>\n",
       "  <tbody>\n",
       "    <tr>\n",
       "      <th rowspan=\"5\" valign=\"top\">0009e7ff2e6bad5d80640eeb61cd6e0d</th>\n",
       "      <th>1</th>\n",
       "      <td>0.0</td>\n",
       "      <td>0.0</td>\n",
       "      <td>0.0</td>\n",
       "      <td>0.0</td>\n",
       "      <td>12.500000</td>\n",
       "      <td>0.0</td>\n",
       "      <td>0.0</td>\n",
       "      <td>4.595120</td>\n",
       "      <td>0.0</td>\n",
       "      <td>2</td>\n",
       "      <td>0.0</td>\n",
       "      <td>0.0</td>\n",
       "      <td>0.000000</td>\n",
       "      <td>0.0</td>\n",
       "      <td>0.0</td>\n",
       "      <td>0.0</td>\n",
       "    </tr>\n",
       "    <tr>\n",
       "      <th>4</th>\n",
       "      <td>0.0</td>\n",
       "      <td>0.0</td>\n",
       "      <td>0.0</td>\n",
       "      <td>0.0</td>\n",
       "      <td>100.000000</td>\n",
       "      <td>0.0</td>\n",
       "      <td>0.0</td>\n",
       "      <td>4.276666</td>\n",
       "      <td>0.0</td>\n",
       "      <td>2</td>\n",
       "      <td>0.0</td>\n",
       "      <td>0.0</td>\n",
       "      <td>0.000000</td>\n",
       "      <td>0.0</td>\n",
       "      <td>0.0</td>\n",
       "      <td>0.0</td>\n",
       "    </tr>\n",
       "    <tr>\n",
       "      <th>5</th>\n",
       "      <td>0.0</td>\n",
       "      <td>0.0</td>\n",
       "      <td>0.0</td>\n",
       "      <td>0.0</td>\n",
       "      <td>13.333333</td>\n",
       "      <td>0.0</td>\n",
       "      <td>0.0</td>\n",
       "      <td>5.034786</td>\n",
       "      <td>0.0</td>\n",
       "      <td>3</td>\n",
       "      <td>0.0</td>\n",
       "      <td>0.0</td>\n",
       "      <td>0.000000</td>\n",
       "      <td>0.0</td>\n",
       "      <td>0.0</td>\n",
       "      <td>0.0</td>\n",
       "    </tr>\n",
       "    <tr>\n",
       "      <th>11</th>\n",
       "      <td>0.0</td>\n",
       "      <td>0.0</td>\n",
       "      <td>2328.0</td>\n",
       "      <td>0.0</td>\n",
       "      <td>44.444444</td>\n",
       "      <td>30.0</td>\n",
       "      <td>0.0</td>\n",
       "      <td>6.482087</td>\n",
       "      <td>0.0</td>\n",
       "      <td>15</td>\n",
       "      <td>0.0</td>\n",
       "      <td>30.0</td>\n",
       "      <td>0.133333</td>\n",
       "      <td>14.0</td>\n",
       "      <td>0.0</td>\n",
       "      <td>0.0</td>\n",
       "    </tr>\n",
       "    <tr>\n",
       "      <th>14</th>\n",
       "      <td>0.0</td>\n",
       "      <td>0.0</td>\n",
       "      <td>51.0</td>\n",
       "      <td>0.0</td>\n",
       "      <td>100.000000</td>\n",
       "      <td>12.0</td>\n",
       "      <td>0.0</td>\n",
       "      <td>7.757829</td>\n",
       "      <td>0.0</td>\n",
       "      <td>22</td>\n",
       "      <td>0.0</td>\n",
       "      <td>12.0</td>\n",
       "      <td>0.227273</td>\n",
       "      <td>6.0</td>\n",
       "      <td>0.0</td>\n",
       "      <td>0.0</td>\n",
       "    </tr>\n",
       "  </tbody>\n",
       "</table>\n",
       "</div>"
      ],
      "text/plain": [
       "                                            NVideoEvents  NumberOfPosts  \\\n",
       "UserID                           ProblemID                                \n",
       "0009e7ff2e6bad5d80640eeb61cd6e0d 1                   0.0            0.0   \n",
       "                                 4                   0.0            0.0   \n",
       "                                 5                   0.0            0.0   \n",
       "                                 11                  0.0            0.0   \n",
       "                                 14                  0.0            0.0   \n",
       "\n",
       "                                            TimeSpentOnForum  \\\n",
       "UserID                           ProblemID                     \n",
       "0009e7ff2e6bad5d80640eeb61cd6e0d 1                       0.0   \n",
       "                                 4                       0.0   \n",
       "                                 5                       0.0   \n",
       "                                 11                   2328.0   \n",
       "                                 14                     51.0   \n",
       "\n",
       "                                            NumberOfVideoInteractions  \\\n",
       "UserID                           ProblemID                              \n",
       "0009e7ff2e6bad5d80640eeb61cd6e0d 1                                0.0   \n",
       "                                 4                                0.0   \n",
       "                                 5                                0.0   \n",
       "                                 11                               0.0   \n",
       "                                 14                               0.0   \n",
       "\n",
       "                                             GradeDiff  NForumEvents  \\\n",
       "UserID                           ProblemID                             \n",
       "0009e7ff2e6bad5d80640eeb61cd6e0d 1           12.500000           0.0   \n",
       "                                 4          100.000000           0.0   \n",
       "                                 5           13.333333           0.0   \n",
       "                                 11          44.444444          30.0   \n",
       "                                 14         100.000000          12.0   \n",
       "\n",
       "                                            RewatchingScore  AvgTimeBwSubs  \\\n",
       "UserID                           ProblemID                                   \n",
       "0009e7ff2e6bad5d80640eeb61cd6e0d 1                      0.0       4.595120   \n",
       "                                 4                      0.0       4.276666   \n",
       "                                 5                      0.0       5.034786   \n",
       "                                 11                     0.0       6.482087   \n",
       "                                 14                     0.0       7.757829   \n",
       "\n",
       "                                            DurationOfVideoActivity  \\\n",
       "UserID                           ProblemID                            \n",
       "0009e7ff2e6bad5d80640eeb61cd6e0d 1                              0.0   \n",
       "                                 4                              0.0   \n",
       "                                 5                              0.0   \n",
       "                                 11                             0.0   \n",
       "                                 14                             0.0   \n",
       "\n",
       "                                            TotalNumberOfSubmissions  \\\n",
       "UserID                           ProblemID                             \n",
       "0009e7ff2e6bad5d80640eeb61cd6e0d 1                                 2   \n",
       "                                 4                                 2   \n",
       "                                 5                                 3   \n",
       "                                 11                               15   \n",
       "                                 14                               22   \n",
       "\n",
       "                                            NumberOfThreadCreated  \\\n",
       "UserID                           ProblemID                          \n",
       "0009e7ff2e6bad5d80640eeb61cd6e0d 1                            0.0   \n",
       "                                 4                            0.0   \n",
       "                                 5                            0.0   \n",
       "                                 11                           0.0   \n",
       "                                 14                           0.0   \n",
       "\n",
       "                                            TotalNVideoAndForum  ActivityRate  \\\n",
       "UserID                           ProblemID                                      \n",
       "0009e7ff2e6bad5d80640eeb61cd6e0d 1                          0.0      0.000000   \n",
       "                                 4                          0.0      0.000000   \n",
       "                                 5                          0.0      0.000000   \n",
       "                                 11                        30.0      0.133333   \n",
       "                                 14                        12.0      0.227273   \n",
       "\n",
       "                                            NumberOfThreadViews  \\\n",
       "UserID                           ProblemID                        \n",
       "0009e7ff2e6bad5d80640eeb61cd6e0d 1                          0.0   \n",
       "                                 4                          0.0   \n",
       "                                 5                          0.0   \n",
       "                                 11                        14.0   \n",
       "                                 14                         6.0   \n",
       "\n",
       "                                            NumberVideoWatched  \\\n",
       "UserID                           ProblemID                       \n",
       "0009e7ff2e6bad5d80640eeb61cd6e0d 1                         0.0   \n",
       "                                 4                         0.0   \n",
       "                                 5                         0.0   \n",
       "                                 11                        0.0   \n",
       "                                 14                        0.0   \n",
       "\n",
       "                                            NumberOfUpvotes  \n",
       "UserID                           ProblemID                   \n",
       "0009e7ff2e6bad5d80640eeb61cd6e0d 1                      0.0  \n",
       "                                 4                      0.0  \n",
       "                                 5                      0.0  \n",
       "                                 11                     0.0  \n",
       "                                 14                     0.0  "
      ]
     },
     "execution_count": 16,
     "metadata": {},
     "output_type": "execute_result"
    }
   ],
   "source": [
    "data = aggregate_df(df)\n",
    "data.head()"
   ]
  },
  {
   "cell_type": "code",
   "execution_count": 25,
   "metadata": {
    "collapsed": false
   },
   "outputs": [],
   "source": [
    "y = data.GradeDiff.as_matrix()\n",
    "X = data.drop('GradeDiff', axis=1).as_matrix()\n",
    "X_train, X_test, y_train, y_test = train_test_split(X, y, test_size=0.2)"
   ]
  },
  {
   "cell_type": "markdown",
   "metadata": {},
   "source": [
    "## Baseline model - linear regression"
   ]
  },
  {
   "cell_type": "code",
   "execution_count": 26,
   "metadata": {
    "collapsed": false
   },
   "outputs": [
    {
     "data": {
      "text/plain": [
       "LinearRegression(copy_X=True, fit_intercept=True, n_jobs=1, normalize=False)"
      ]
     },
     "execution_count": 26,
     "metadata": {},
     "output_type": "execute_result"
    }
   ],
   "source": [
    "reg = linear_model.LinearRegression()\n",
    "reg.fit(X_train, y_train)"
   ]
  },
  {
   "cell_type": "code",
   "execution_count": 40,
   "metadata": {
    "collapsed": false
   },
   "outputs": [
    {
     "data": {
      "text/plain": [
       "1242.7413713240019"
      ]
     },
     "execution_count": 40,
     "metadata": {},
     "output_type": "execute_result"
    }
   ],
   "source": [
    "y_pred = reg.predict(X_test)\n",
    "mean_squared_error(y_test, y_pred)"
   ]
  },
  {
   "cell_type": "code",
   "execution_count": 39,
   "metadata": {
    "collapsed": false
   },
   "outputs": [
    {
     "data": {
      "text/plain": [
       "array([-1270.95980092, -1410.0532485 , -1256.8083732 , -1280.21961331,\n",
       "       -1328.30232063])"
      ]
     },
     "execution_count": 39,
     "metadata": {},
     "output_type": "execute_result"
    }
   ],
   "source": [
    "scores = cross_val_score(reg, X, y, cv=5, scoring='neg_mean_squared_error')\n",
    "scores"
   ]
  },
  {
   "cell_type": "code",
   "execution_count": null,
   "metadata": {
    "collapsed": true
   },
   "outputs": [],
   "source": []
  }
 ],
 "metadata": {
  "anaconda-cloud": {},
  "kernelspec": {
   "display_name": "Python [conda root]",
   "language": "python",
   "name": "conda-root-py"
  },
  "language_info": {
   "codemirror_mode": {
    "name": "ipython",
    "version": 3
   },
   "file_extension": ".py",
   "mimetype": "text/x-python",
   "name": "python",
   "nbconvert_exporter": "python",
   "pygments_lexer": "ipython3",
   "version": "3.5.2"
  }
 },
 "nbformat": 4,
 "nbformat_minor": 2
}
