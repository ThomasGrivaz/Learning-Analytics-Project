{
 "cells": [
  {
   "cell_type": "markdown",
   "metadata": {},
   "source": [
    "# Digital Education & Learning analytics - Project part. 2"
   ]
  },
  {
   "cell_type": "code",
   "execution_count": 135,
   "metadata": {
    "collapsed": true
   },
   "outputs": [],
   "source": [
    "import pandas as pd\n",
    "import numpy as np\n",
    "import matplotlib.pyplot as plt\n",
    "from sklearn import linear_model, preprocessing\n",
    "from sklearn.model_selection import train_test_split, cross_val_score, GridSearchCV, learning_curve\n",
    "from sklearn.metrics import mean_squared_error, make_scorer\n",
    "from sklearn.ensemble import RandomForestRegressor\n",
    "from sklearn.neural_network import MLPRegressor\n",
    "from sklearn.feature_selection import SelectFromModel, VarianceThreshold\n",
    "from sklearn.neighbors import KNeighborsRegressor\n",
    "\n",
    "%matplotlib inline"
   ]
  },
  {
   "cell_type": "markdown",
   "metadata": {},
   "source": [
    "## Import data"
   ]
  },
  {
   "cell_type": "code",
   "execution_count": 2,
   "metadata": {
    "collapsed": false
   },
   "outputs": [
    {
     "data": {
      "text/plain": [
       "Index(['ProblemID', 'UserID', 'SubmissionNumber', 'TimeStamp', 'TimeSinceLast',\n",
       "       'Grade', 'GradeDiff', 'NVideoEvents', 'NForumEvents', 'NumberOfPosts',\n",
       "       'TimeSpentOnForum', 'DurationOfVideoActivity', 'RewatchingScore',\n",
       "       'NumberOfThreadCreated', 'LastVideoEvent', 'NumberVideoWatched',\n",
       "       'NumberOfSlowPlay', 'NumberOfThreadViews', 'LastForumEvent',\n",
       "       'NumberOfVideoInteractions', 'AverageVideoTimeDiffs', 'NumberOfUpvotes',\n",
       "       'NVideoAndForum'],\n",
       "      dtype='object')"
      ]
     },
     "execution_count": 2,
     "metadata": {},
     "output_type": "execute_result"
    }
   ],
   "source": [
    "df = pd.read_csv('OutputTable.csv')\n",
    "df.fillna(0, inplace=True)\n",
    "df.query('SubmissionNumber > 0', inplace=True)\n",
    "df['NVideoAndForum'] = df['NVideoEvents'].add(df['NForumEvents'])\n",
    "df.head()\n",
    "df.columns"
   ]
  },
  {
   "cell_type": "markdown",
   "metadata": {},
   "source": [
    "## aggregation function\n",
    "The following function aggregates the database by grouping entries by UserID and ProblemID and do the relevant features aggregations."
   ]
  },
  {
   "cell_type": "code",
   "execution_count": 79,
   "metadata": {
    "collapsed": false
   },
   "outputs": [],
   "source": [
    "def aggregate_df(df):\n",
    "    aggregations = {\n",
    "        'SubmissionNumber':{\n",
    "            'TotalNumberOfSubmissions': 'last'\n",
    "        },\n",
    "        'TimeSinceLast':{\n",
    "            'log_AvgTimeBwSubs': lambda x: np.log(np.mean(x))\n",
    "        },\n",
    "        'Grade':{ \n",
    "            'GradeDiff': lambda x: x.iloc[-1] - x.iloc[0] if len(x) > 1 else x.iloc[0]\n",
    "        },\n",
    "        'NVideoEvents':{\n",
    "            #'NVideoEvents': 'sum',\n",
    "            'log_NVideoEvents': lambda x: np.log(np.sum(x)+1)\n",
    "        },    \n",
    "        'NForumEvents':{\n",
    "            'NForumEvents': 'sum',\n",
    "            'log_NForumEvents': lambda x: np.log(np.sum(x)+1)\n",
    "        },\n",
    "        'NumberOfPosts':{\n",
    "            'NumberOfPosts': 'sum'\n",
    "        },\n",
    "        'TimeSpentOnForum':{\n",
    "            'log_TimeSpentOnForum': lambda x: np.log(np.sum(x)+1)\n",
    "        },\n",
    "        'DurationOfVideoActivity':{\n",
    "            'DurationOfVideoActivity': 'sum'\n",
    "        },\n",
    "        'RewatchingScore':{\n",
    "            'RewatchingScore': 'sum'\n",
    "        },\n",
    "        'NumberOfThreadCreated':{\n",
    "            'NumberOfThreadCreated': 'sum'\n",
    "        },\n",
    "        'NumberVideoWatched':{\n",
    "            'NumberVideoWatched': 'sum'\n",
    "        },\n",
    "        'NumberOfThreadViews':{\n",
    "            'NumberOfThreadViews': 'sum'\n",
    "        },\n",
    "        'NumberOfVideoInteractions':{\n",
    "            'NumberOfVideoInteractions': 'sum'\n",
    "        },\n",
    "        'NumberOfUpvotes':{\n",
    "            'NumberOfUpvotes': 'sum'\n",
    "        },\n",
    "        'NVideoAndForum': {\n",
    "            #'TotalNVideoAndForum': 'sum',\n",
    "            'log_TotalNVideoAndFom': lambda x: np.log(np.sum(x)+1),\n",
    "            'ActivityRate': lambda x: np.sum(x !=0) / len(x)\n",
    "        }\n",
    "    }\n",
    "    data = df.groupby(by=['UserID', 'ProblemID'], as_index=True).agg(aggregations)\n",
    "    data.columns = data.columns.droplevel()\n",
    "    #data.query('TotalNumberOfSubmissions > 1', inplace=True)\n",
    "    #data.query('TotalNVideoAndForum > 0', inplace=True)\n",
    "    return data"
   ]
  },
  {
   "cell_type": "markdown",
   "metadata": {},
   "source": [
    "## Plot the learning curve to assess if models overfit/ underfit (taken from sklearn)"
   ]
  },
  {
   "cell_type": "code",
   "execution_count": 152,
   "metadata": {
    "collapsed": true
   },
   "outputs": [],
   "source": [
    "def plot_learning_curve(estimator, title, X, y, ylim=None, cv=None,\n",
    "                        n_jobs=1, train_sizes=np.linspace(.1, 1.0, 5)):\n",
    "    plt.figure()\n",
    "    plt.title(title)\n",
    "    if ylim is not None:\n",
    "        plt.ylim(*ylim)\n",
    "    plt.xlabel(\"Training examples\")\n",
    "    plt.ylabel(\"Score\")\n",
    "    train_sizes, train_scores, test_scores = learning_curve(\n",
    "        estimator, X, y, cv=cv, n_jobs=n_jobs, train_sizes=train_sizes, scoring=rmse)\n",
    "    train_scores_mean = np.mean(train_scores, axis=1)\n",
    "    train_scores_std = np.std(train_scores, axis=1)\n",
    "    test_scores_mean = np.mean(test_scores, axis=1)\n",
    "    test_scores_std = np.std(test_scores, axis=1)\n",
    "    plt.grid()\n",
    "\n",
    "    plt.fill_between(train_sizes, train_scores_mean - train_scores_std,\n",
    "                     train_scores_mean + train_scores_std, alpha=0.1,\n",
    "                     color=\"r\")\n",
    "    plt.fill_between(train_sizes, test_scores_mean - test_scores_std,\n",
    "                     test_scores_mean + test_scores_std, alpha=0.1, color=\"g\")\n",
    "    plt.plot(train_sizes, train_scores_mean, 'o-', color=\"r\",\n",
    "             label=\"Training score\")\n",
    "    plt.plot(train_sizes, test_scores_mean, 'o-', color=\"g\",\n",
    "             label=\"Cross-validation score\")\n",
    "\n",
    "    plt.legend(loc=\"best\");\n",
    "    return plt"
   ]
  },
  {
   "cell_type": "markdown",
   "metadata": {},
   "source": [
    "## Aggregate training data"
   ]
  },
  {
   "cell_type": "code",
   "execution_count": 140,
   "metadata": {
    "collapsed": false
   },
   "outputs": [
    {
     "data": {
      "text/html": [
       "<div>\n",
       "<table border=\"1\" class=\"dataframe\">\n",
       "  <thead>\n",
       "    <tr style=\"text-align: right;\">\n",
       "      <th></th>\n",
       "      <th></th>\n",
       "      <th>log_NVideoEvents</th>\n",
       "      <th>NumberVideoWatched</th>\n",
       "      <th>TotalNumberOfSubmissions</th>\n",
       "      <th>DurationOfVideoActivity</th>\n",
       "      <th>log_AvgTimeBwSubs</th>\n",
       "      <th>NForumEvents</th>\n",
       "      <th>log_NForumEvents</th>\n",
       "      <th>log_TimeSpentOnForum</th>\n",
       "      <th>NumberOfPosts</th>\n",
       "      <th>NumberOfThreadViews</th>\n",
       "      <th>NumberOfVideoInteractions</th>\n",
       "      <th>log_TotalNVideoAndFom</th>\n",
       "      <th>ActivityRate</th>\n",
       "      <th>GradeDiff</th>\n",
       "      <th>NumberOfThreadCreated</th>\n",
       "      <th>RewatchingScore</th>\n",
       "      <th>NumberOfUpvotes</th>\n",
       "    </tr>\n",
       "    <tr>\n",
       "      <th>UserID</th>\n",
       "      <th>ProblemID</th>\n",
       "      <th></th>\n",
       "      <th></th>\n",
       "      <th></th>\n",
       "      <th></th>\n",
       "      <th></th>\n",
       "      <th></th>\n",
       "      <th></th>\n",
       "      <th></th>\n",
       "      <th></th>\n",
       "      <th></th>\n",
       "      <th></th>\n",
       "      <th></th>\n",
       "      <th></th>\n",
       "      <th></th>\n",
       "      <th></th>\n",
       "      <th></th>\n",
       "      <th></th>\n",
       "    </tr>\n",
       "  </thead>\n",
       "  <tbody>\n",
       "    <tr>\n",
       "      <th rowspan=\"5\" valign=\"top\">0009e7ff2e6bad5d80640eeb61cd6e0d</th>\n",
       "      <th>1</th>\n",
       "      <td>0.0</td>\n",
       "      <td>0.0</td>\n",
       "      <td>2</td>\n",
       "      <td>0.0</td>\n",
       "      <td>4.595120</td>\n",
       "      <td>0.0</td>\n",
       "      <td>0.0</td>\n",
       "      <td>0.0</td>\n",
       "      <td>0.0</td>\n",
       "      <td>0.0</td>\n",
       "      <td>0.0</td>\n",
       "      <td>0.0</td>\n",
       "      <td>0.0</td>\n",
       "      <td>12.500000</td>\n",
       "      <td>0.0</td>\n",
       "      <td>0.0</td>\n",
       "      <td>0.0</td>\n",
       "    </tr>\n",
       "    <tr>\n",
       "      <th>3</th>\n",
       "      <td>0.0</td>\n",
       "      <td>0.0</td>\n",
       "      <td>1</td>\n",
       "      <td>0.0</td>\n",
       "      <td>5.552960</td>\n",
       "      <td>0.0</td>\n",
       "      <td>0.0</td>\n",
       "      <td>0.0</td>\n",
       "      <td>0.0</td>\n",
       "      <td>0.0</td>\n",
       "      <td>0.0</td>\n",
       "      <td>0.0</td>\n",
       "      <td>0.0</td>\n",
       "      <td>100.000000</td>\n",
       "      <td>0.0</td>\n",
       "      <td>0.0</td>\n",
       "      <td>0.0</td>\n",
       "    </tr>\n",
       "    <tr>\n",
       "      <th>4</th>\n",
       "      <td>0.0</td>\n",
       "      <td>0.0</td>\n",
       "      <td>2</td>\n",
       "      <td>0.0</td>\n",
       "      <td>4.276666</td>\n",
       "      <td>0.0</td>\n",
       "      <td>0.0</td>\n",
       "      <td>0.0</td>\n",
       "      <td>0.0</td>\n",
       "      <td>0.0</td>\n",
       "      <td>0.0</td>\n",
       "      <td>0.0</td>\n",
       "      <td>0.0</td>\n",
       "      <td>100.000000</td>\n",
       "      <td>0.0</td>\n",
       "      <td>0.0</td>\n",
       "      <td>0.0</td>\n",
       "    </tr>\n",
       "    <tr>\n",
       "      <th>5</th>\n",
       "      <td>0.0</td>\n",
       "      <td>0.0</td>\n",
       "      <td>3</td>\n",
       "      <td>0.0</td>\n",
       "      <td>5.034786</td>\n",
       "      <td>0.0</td>\n",
       "      <td>0.0</td>\n",
       "      <td>0.0</td>\n",
       "      <td>0.0</td>\n",
       "      <td>0.0</td>\n",
       "      <td>0.0</td>\n",
       "      <td>0.0</td>\n",
       "      <td>0.0</td>\n",
       "      <td>13.333333</td>\n",
       "      <td>0.0</td>\n",
       "      <td>0.0</td>\n",
       "      <td>0.0</td>\n",
       "    </tr>\n",
       "    <tr>\n",
       "      <th>8</th>\n",
       "      <td>0.0</td>\n",
       "      <td>0.0</td>\n",
       "      <td>1</td>\n",
       "      <td>0.0</td>\n",
       "      <td>4.158883</td>\n",
       "      <td>0.0</td>\n",
       "      <td>0.0</td>\n",
       "      <td>0.0</td>\n",
       "      <td>0.0</td>\n",
       "      <td>0.0</td>\n",
       "      <td>0.0</td>\n",
       "      <td>0.0</td>\n",
       "      <td>0.0</td>\n",
       "      <td>100.000000</td>\n",
       "      <td>0.0</td>\n",
       "      <td>0.0</td>\n",
       "      <td>0.0</td>\n",
       "    </tr>\n",
       "  </tbody>\n",
       "</table>\n",
       "</div>"
      ],
      "text/plain": [
       "                                            log_NVideoEvents  \\\n",
       "UserID                           ProblemID                     \n",
       "0009e7ff2e6bad5d80640eeb61cd6e0d 1                       0.0   \n",
       "                                 3                       0.0   \n",
       "                                 4                       0.0   \n",
       "                                 5                       0.0   \n",
       "                                 8                       0.0   \n",
       "\n",
       "                                            NumberVideoWatched  \\\n",
       "UserID                           ProblemID                       \n",
       "0009e7ff2e6bad5d80640eeb61cd6e0d 1                         0.0   \n",
       "                                 3                         0.0   \n",
       "                                 4                         0.0   \n",
       "                                 5                         0.0   \n",
       "                                 8                         0.0   \n",
       "\n",
       "                                            TotalNumberOfSubmissions  \\\n",
       "UserID                           ProblemID                             \n",
       "0009e7ff2e6bad5d80640eeb61cd6e0d 1                                 2   \n",
       "                                 3                                 1   \n",
       "                                 4                                 2   \n",
       "                                 5                                 3   \n",
       "                                 8                                 1   \n",
       "\n",
       "                                            DurationOfVideoActivity  \\\n",
       "UserID                           ProblemID                            \n",
       "0009e7ff2e6bad5d80640eeb61cd6e0d 1                              0.0   \n",
       "                                 3                              0.0   \n",
       "                                 4                              0.0   \n",
       "                                 5                              0.0   \n",
       "                                 8                              0.0   \n",
       "\n",
       "                                            log_AvgTimeBwSubs  NForumEvents  \\\n",
       "UserID                           ProblemID                                    \n",
       "0009e7ff2e6bad5d80640eeb61cd6e0d 1                   4.595120           0.0   \n",
       "                                 3                   5.552960           0.0   \n",
       "                                 4                   4.276666           0.0   \n",
       "                                 5                   5.034786           0.0   \n",
       "                                 8                   4.158883           0.0   \n",
       "\n",
       "                                            log_NForumEvents  \\\n",
       "UserID                           ProblemID                     \n",
       "0009e7ff2e6bad5d80640eeb61cd6e0d 1                       0.0   \n",
       "                                 3                       0.0   \n",
       "                                 4                       0.0   \n",
       "                                 5                       0.0   \n",
       "                                 8                       0.0   \n",
       "\n",
       "                                            log_TimeSpentOnForum  \\\n",
       "UserID                           ProblemID                         \n",
       "0009e7ff2e6bad5d80640eeb61cd6e0d 1                           0.0   \n",
       "                                 3                           0.0   \n",
       "                                 4                           0.0   \n",
       "                                 5                           0.0   \n",
       "                                 8                           0.0   \n",
       "\n",
       "                                            NumberOfPosts  \\\n",
       "UserID                           ProblemID                  \n",
       "0009e7ff2e6bad5d80640eeb61cd6e0d 1                    0.0   \n",
       "                                 3                    0.0   \n",
       "                                 4                    0.0   \n",
       "                                 5                    0.0   \n",
       "                                 8                    0.0   \n",
       "\n",
       "                                            NumberOfThreadViews  \\\n",
       "UserID                           ProblemID                        \n",
       "0009e7ff2e6bad5d80640eeb61cd6e0d 1                          0.0   \n",
       "                                 3                          0.0   \n",
       "                                 4                          0.0   \n",
       "                                 5                          0.0   \n",
       "                                 8                          0.0   \n",
       "\n",
       "                                            NumberOfVideoInteractions  \\\n",
       "UserID                           ProblemID                              \n",
       "0009e7ff2e6bad5d80640eeb61cd6e0d 1                                0.0   \n",
       "                                 3                                0.0   \n",
       "                                 4                                0.0   \n",
       "                                 5                                0.0   \n",
       "                                 8                                0.0   \n",
       "\n",
       "                                            log_TotalNVideoAndFom  \\\n",
       "UserID                           ProblemID                          \n",
       "0009e7ff2e6bad5d80640eeb61cd6e0d 1                            0.0   \n",
       "                                 3                            0.0   \n",
       "                                 4                            0.0   \n",
       "                                 5                            0.0   \n",
       "                                 8                            0.0   \n",
       "\n",
       "                                            ActivityRate   GradeDiff  \\\n",
       "UserID                           ProblemID                             \n",
       "0009e7ff2e6bad5d80640eeb61cd6e0d 1                   0.0   12.500000   \n",
       "                                 3                   0.0  100.000000   \n",
       "                                 4                   0.0  100.000000   \n",
       "                                 5                   0.0   13.333333   \n",
       "                                 8                   0.0  100.000000   \n",
       "\n",
       "                                            NumberOfThreadCreated  \\\n",
       "UserID                           ProblemID                          \n",
       "0009e7ff2e6bad5d80640eeb61cd6e0d 1                            0.0   \n",
       "                                 3                            0.0   \n",
       "                                 4                            0.0   \n",
       "                                 5                            0.0   \n",
       "                                 8                            0.0   \n",
       "\n",
       "                                            RewatchingScore  NumberOfUpvotes  \n",
       "UserID                           ProblemID                                    \n",
       "0009e7ff2e6bad5d80640eeb61cd6e0d 1                      0.0              0.0  \n",
       "                                 3                      0.0              0.0  \n",
       "                                 4                      0.0              0.0  \n",
       "                                 5                      0.0              0.0  \n",
       "                                 8                      0.0              0.0  "
      ]
     },
     "execution_count": 140,
     "metadata": {},
     "output_type": "execute_result"
    }
   ],
   "source": [
    "data = aggregate_df(df)\n",
    "data.head()"
   ]
  },
  {
   "cell_type": "code",
   "execution_count": 141,
   "metadata": {
    "collapsed": false
   },
   "outputs": [],
   "source": [
    "# we add several features based on other statistics\n",
    "data['MeanProblemSubmissionNumber'] = data['TotalNumberOfSubmissions'].groupby(level=1).transform(np.mean)\n",
    "#data"
   ]
  },
  {
   "cell_type": "code",
   "execution_count": 142,
   "metadata": {
    "collapsed": false
   },
   "outputs": [],
   "source": [
    "# convert dataframe in matrix form\n",
    "y = data.GradeDiff.as_matrix()\n",
    "X = data.drop('GradeDiff', axis=1).as_matrix()\n",
    "#X = data.as_matrix()\n",
    "X_train, X_test, y_train, y_test = train_test_split(X, y, test_size=0.2)"
   ]
  },
  {
   "cell_type": "code",
   "execution_count": 143,
   "metadata": {
    "collapsed": false
   },
   "outputs": [
    {
     "data": {
      "image/png": "[encoded data removed]",
      "text/plain": [
       "<matplotlib.figure.Figure at 0x118be1470>"
      ]
     },
     "metadata": {},
     "output_type": "display_data"
    }
   ],
   "source": [
    "# distribution of training grades\n",
    "plt.hist(y, bins=10, range=(0,100))\n",
    "plt.title('Distribution of grade differences in training data');"
   ]
  },
  {
   "cell_type": "code",
   "execution_count": 144,
   "metadata": {
    "collapsed": true
   },
   "outputs": [],
   "source": [
    "# wrapper function to be able to use the RMSE as scoring metric in sklearn functions\n",
    "def rmse_scorer(y_true, y_pred):\n",
    "    return np.sqrt(mean_squared_error(y_true, y_pred))\n",
    "rmse = make_scorer(rmse_scorer)"
   ]
  },
  {
   "cell_type": "markdown",
   "metadata": {},
   "source": [
    "## linear regression"
   ]
  },
  {
   "cell_type": "code",
   "execution_count": 146,
   "metadata": {
    "collapsed": false
   },
   "outputs": [],
   "source": [
    "# there is no hyper paramater to be optimized here, no need for cross validation\n",
    "reg = linear_model.LinearRegression()\n",
    "reg.fit(X_train, y_train)\n",
    "y_preds = reg.predict(X_test)"
   ]
  },
  {
   "cell_type": "code",
   "execution_count": 148,
   "metadata": {
    "collapsed": false
   },
   "outputs": [
    {
     "name": "stdout",
     "output_type": "stream",
     "text": [
      "Performance of linear regression: 39.1050525932\n"
     ]
    }
   ],
   "source": [
    "results = rmse_scorer(y_test, y_preds)\n",
    "print('Performance of linear regression:', results)"
   ]
  },
  {
   "cell_type": "code",
   "execution_count": 157,
   "metadata": {
    "collapsed": false
   },
   "outputs": [
    {
     "data": {
      "image/png": "[encoded data removed]",
      "text/plain": [
       "<matplotlib.figure.Figure at 0x1105dd208>"
      ]
     },
     "metadata": {},
     "output_type": "display_data"
    }
   ],
   "source": [
    "plt.hist(y_preds, bins=10, range=(0,100))\n",
    "plt.title('Distribution of predicted grades');"
   ]
  },
  {
   "cell_type": "markdown",
   "metadata": {},
   "source": [
    "## Some observations:\n",
    "The resulting RMSE on test set is bad. By looking at the distribution of the grades, we can see that the distribution is similar to Gaussian centered at 60, which is the mean obtained grade in the training set. This might indicate under-fitting"
   ]
  },
  {
   "cell_type": "code",
   "execution_count": 155,
   "metadata": {
    "collapsed": false
   },
   "outputs": [
    {
     "data": {
      "image/png": "[encoded data removed]",
      "text/plain": [
       "<matplotlib.figure.Figure at 0x110a6dc50>"
      ]
     },
     "metadata": {},
     "output_type": "display_data"
    }
   ],
   "source": [
    "plot_learning_curve(reg, 'Learning curve for linear regression', X, y);"
   ]
  },
  {
   "cell_type": "markdown",
   "metadata": {},
   "source": [
    "Our first impressions are reinforced by the learning curve plot: training score and cross-validation score are high and close to each other. The model suffers from high bias, we should try a more complex model"
   ]
  },
  {
   "cell_type": "markdown",
   "metadata": {},
   "source": [
    "## random forest"
   ]
  },
  {
   "cell_type": "code",
   "execution_count": 160,
   "metadata": {
    "collapsed": false,
    "scrolled": true
   },
   "outputs": [],
   "source": [
    "# try every combination of parameters using grid search Cv\n",
    "rf = RandomForestRegressor()\n",
    "param_grid_rf = { \n",
    "    'n_estimators': [100, 200, 700],\n",
    "    'max_features': ['auto', 'sqrt', 'log2'],\n",
    "    'max_depth': [1,3,5,7, 10]\n",
    "}\n",
    "CV_rf = GridSearchCV(rf, param_grid=param_grid_rf, cv=5, verbose=2, scoring=rmse)\n",
    "#CV_rf.fit(X, y)"
   ]
  },
  {
   "cell_type": "code",
   "execution_count": 158,
   "metadata": {
    "collapsed": false
   },
   "outputs": [
    {
     "name": "stdout",
     "output_type": "stream",
     "text": [
      "best score: 38.0254590218 \n",
      "with parameters: {'n_estimators': 100, 'max_depth': 1, 'max_features': 'log2'}\n"
     ]
    }
   ],
   "source": [
    "print('best score:', CV_rf.best_score_, '\\nwith parameters:', CV_rf.best_params_)"
   ]
  },
  {
   "cell_type": "code",
   "execution_count": 166,
   "metadata": {
    "collapsed": false
   },
   "outputs": [],
   "source": [
    "best_rf = RandomForestRegressor(n_estimators=100, max_depth=1, max_features='log2')"
   ]
  },
  {
   "cell_type": "code",
   "execution_count": 167,
   "metadata": {
    "collapsed": false
   },
   "outputs": [
    {
     "data": {
      "image/png": "[encoded data removed]",
      "text/plain": [
       "<matplotlib.figure.Figure at 0x118ba2eb8>"
      ]
     },
     "metadata": {},
     "output_type": "display_data"
    }
   ],
   "source": [
    "plot_learning_curve(best_rf, 'Learning curve for random forest', X, y);"
   ]
  },
  {
   "cell_type": "markdown",
   "metadata": {},
   "source": [
    "## MLP regressor"
   ]
  },
  {
   "cell_type": "code",
   "execution_count": 169,
   "metadata": {
    "collapsed": false
   },
   "outputs": [
    {
     "name": "stdout",
     "output_type": "stream",
     "text": [
      "Fitting 5 folds for each of 8 candidates, totalling 40 fits\n",
      "[CV] power_t=0.5, max_iter=200, activation=logistic, learning_rate=adaptive, early_stopping=True, batch_size=auto \n",
      "[CV]  power_t=0.5, max_iter=200, activation=logistic, learning_rate=adaptive, early_stopping=True, batch_size=auto, score=39.606960, total=   2.7s\n",
      "[CV] power_t=0.5, max_iter=200, activation=logistic, learning_rate=adaptive, early_stopping=True, batch_size=auto \n"
     ]
    },
    {
     "name": "stderr",
     "output_type": "stream",
     "text": [
      "[Parallel(n_jobs=1)]: Done   1 out of   1 | elapsed:    2.8s remaining:    0.0s\n"
     ]
    },
    {
     "name": "stdout",
     "output_type": "stream",
     "text": [
      "[CV]  power_t=0.5, max_iter=200, activation=logistic, learning_rate=adaptive, early_stopping=True, batch_size=auto, score=41.329639, total=   2.9s\n",
      "[CV] power_t=0.5, max_iter=200, activation=logistic, learning_rate=adaptive, early_stopping=True, batch_size=auto \n"
     ]
    },
    {
     "name": "stderr",
     "output_type": "stream",
     "text": [
      "[Parallel(n_jobs=1)]: Done   2 out of   2 | elapsed:    5.7s remaining:    0.0s\n",
      "/Users/Thomas/anaconda/lib/python3.5/site-packages/sklearn/neural_network/multilayer_perceptron.py:563: ConvergenceWarning: Stochastic Optimizer: Maximum iterations reached and the optimization hasn't converged yet.\n",
      "  % (), ConvergenceWarning)\n"
     ]
    },
    {
     "name": "stdout",
     "output_type": "stream",
     "text": [
      "[CV]  power_t=0.5, max_iter=200, activation=logistic, learning_rate=adaptive, early_stopping=True, batch_size=auto, score=39.988643, total=   5.0s\n",
      "[CV] power_t=0.5, max_iter=200, activation=logistic, learning_rate=adaptive, early_stopping=True, batch_size=auto \n",
      "[CV]  power_t=0.5, max_iter=200, activation=logistic, learning_rate=adaptive, early_stopping=True, batch_size=auto, score=40.001518, total=   2.2s\n",
      "[CV] power_t=0.5, max_iter=200, activation=logistic, learning_rate=adaptive, early_stopping=True, batch_size=auto \n",
      "[CV]  power_t=0.5, max_iter=200, activation=logistic, learning_rate=adaptive, early_stopping=True, batch_size=auto, score=39.896217, total=   2.3s\n",
      "[CV] power_t=0.5, max_iter=200, activation=logistic, learning_rate=adaptive, early_stopping=False, batch_size=auto \n"
     ]
    },
    {
     "name": "stderr",
     "output_type": "stream",
     "text": [
      "/Users/Thomas/anaconda/lib/python3.5/site-packages/sklearn/neural_network/multilayer_perceptron.py:563: ConvergenceWarning: Stochastic Optimizer: Maximum iterations reached and the optimization hasn't converged yet.\n",
      "  % (), ConvergenceWarning)\n"
     ]
    },
    {
     "name": "stdout",
     "output_type": "stream",
     "text": [
      "[CV]  power_t=0.5, max_iter=200, activation=logistic, learning_rate=adaptive, early_stopping=False, batch_size=auto, score=39.206840, total=   4.4s\n",
      "[CV] power_t=0.5, max_iter=200, activation=logistic, learning_rate=adaptive, early_stopping=False, batch_size=auto \n"
     ]
    },
    {
     "name": "stderr",
     "output_type": "stream",
     "text": [
      "/Users/Thomas/anaconda/lib/python3.5/site-packages/sklearn/neural_network/multilayer_perceptron.py:563: ConvergenceWarning: Stochastic Optimizer: Maximum iterations reached and the optimization hasn't converged yet.\n",
      "  % (), ConvergenceWarning)\n"
     ]
    },
    {
     "name": "stdout",
     "output_type": "stream",
     "text": [
      "[CV]  power_t=0.5, max_iter=200, activation=logistic, learning_rate=adaptive, early_stopping=False, batch_size=auto, score=40.995728, total=   5.0s\n",
      "[CV] power_t=0.5, max_iter=200, activation=logistic, learning_rate=adaptive, early_stopping=False, batch_size=auto \n"
     ]
    },
    {
     "name": "stderr",
     "output_type": "stream",
     "text": [
      "/Users/Thomas/anaconda/lib/python3.5/site-packages/sklearn/neural_network/multilayer_perceptron.py:563: ConvergenceWarning: Stochastic Optimizer: Maximum iterations reached and the optimization hasn't converged yet.\n",
      "  % (), ConvergenceWarning)\n"
     ]
    },
    {
     "name": "stdout",
     "output_type": "stream",
     "text": [
      "[CV]  power_t=0.5, max_iter=200, activation=logistic, learning_rate=adaptive, early_stopping=False, batch_size=auto, score=39.883707, total=   4.5s\n",
      "[CV] power_t=0.5, max_iter=200, activation=logistic, learning_rate=adaptive, early_stopping=False, batch_size=auto \n"
     ]
    },
    {
     "name": "stderr",
     "output_type": "stream",
     "text": [
      "/Users/Thomas/anaconda/lib/python3.5/site-packages/sklearn/neural_network/multilayer_perceptron.py:563: ConvergenceWarning: Stochastic Optimizer: Maximum iterations reached and the optimization hasn't converged yet.\n",
      "  % (), ConvergenceWarning)\n"
     ]
    },
    {
     "name": "stdout",
     "output_type": "stream",
     "text": [
      "[CV]  power_t=0.5, max_iter=200, activation=logistic, learning_rate=adaptive, early_stopping=False, batch_size=auto, score=39.617821, total=   4.1s\n",
      "[CV] power_t=0.5, max_iter=200, activation=logistic, learning_rate=adaptive, early_stopping=False, batch_size=auto \n"
     ]
    },
    {
     "name": "stderr",
     "output_type": "stream",
     "text": [
      "/Users/Thomas/anaconda/lib/python3.5/site-packages/sklearn/neural_network/multilayer_perceptron.py:563: ConvergenceWarning: Stochastic Optimizer: Maximum iterations reached and the optimization hasn't converged yet.\n",
      "  % (), ConvergenceWarning)\n"
     ]
    },
    {
     "name": "stdout",
     "output_type": "stream",
     "text": [
      "[CV]  power_t=0.5, max_iter=200, activation=logistic, learning_rate=adaptive, early_stopping=False, batch_size=auto, score=39.454884, total=   4.7s\n",
      "[CV] power_t=0.5, max_iter=200, activation=logistic, learning_rate=adaptive, early_stopping=True, batch_size=50 \n",
      "[CV]  power_t=0.5, max_iter=200, activation=logistic, learning_rate=adaptive, early_stopping=True, batch_size=50, score=39.681373, total=   1.7s\n",
      "[CV] power_t=0.5, max_iter=200, activation=logistic, learning_rate=adaptive, early_stopping=True, batch_size=50 \n",
      "[CV]  power_t=0.5, max_iter=200, activation=logistic, learning_rate=adaptive, early_stopping=True, batch_size=50, score=40.409816, total=   6.1s\n",
      "[CV] power_t=0.5, max_iter=200, activation=logistic, learning_rate=adaptive, early_stopping=True, batch_size=50 \n",
      "[CV]  power_t=0.5, max_iter=200, activation=logistic, learning_rate=adaptive, early_stopping=True, batch_size=50, score=39.667273, total=   4.8s\n",
      "[CV] power_t=0.5, max_iter=200, activation=logistic, learning_rate=adaptive, early_stopping=True, batch_size=50 \n",
      "[CV]  power_t=0.5, max_iter=200, activation=logistic, learning_rate=adaptive, early_stopping=True, batch_size=50, score=39.421815, total=   7.6s\n",
      "[CV] power_t=0.5, max_iter=200, activation=logistic, learning_rate=adaptive, early_stopping=True, batch_size=50 \n",
      "[CV]  power_t=0.5, max_iter=200, activation=logistic, learning_rate=adaptive, early_stopping=True, batch_size=50, score=39.332017, total=   5.5s\n",
      "[CV] power_t=0.5, max_iter=200, activation=logistic, learning_rate=adaptive, early_stopping=False, batch_size=50 \n",
      "[CV]  power_t=0.5, max_iter=200, activation=logistic, learning_rate=adaptive, early_stopping=False, batch_size=50, score=38.593436, total=   7.6s\n",
      "[CV] power_t=0.5, max_iter=200, activation=logistic, learning_rate=adaptive, early_stopping=False, batch_size=50 \n",
      "[CV]  power_t=0.5, max_iter=200, activation=logistic, learning_rate=adaptive, early_stopping=False, batch_size=50, score=40.246082, total=   7.3s\n",
      "[CV] power_t=0.5, max_iter=200, activation=logistic, learning_rate=adaptive, early_stopping=False, batch_size=50 \n",
      "[CV]  power_t=0.5, max_iter=200, activation=logistic, learning_rate=adaptive, early_stopping=False, batch_size=50, score=39.538823, total=   6.0s\n",
      "[CV] power_t=0.5, max_iter=200, activation=logistic, learning_rate=adaptive, early_stopping=False, batch_size=50 \n",
      "[CV]  power_t=0.5, max_iter=200, activation=logistic, learning_rate=adaptive, early_stopping=False, batch_size=50, score=39.400657, total=   6.6s\n",
      "[CV] power_t=0.5, max_iter=200, activation=logistic, learning_rate=adaptive, early_stopping=False, batch_size=50 \n",
      "[CV]  power_t=0.5, max_iter=200, activation=logistic, learning_rate=adaptive, early_stopping=False, batch_size=50, score=39.347922, total=   7.4s\n",
      "[CV] power_t=0.5, max_iter=200, activation=logistic, learning_rate=adaptive, early_stopping=True, batch_size=100 \n",
      "[CV]  power_t=0.5, max_iter=200, activation=logistic, learning_rate=adaptive, early_stopping=True, batch_size=100, score=39.846207, total=   1.3s\n",
      "[CV] power_t=0.5, max_iter=200, activation=logistic, learning_rate=adaptive, early_stopping=True, batch_size=100 \n",
      "[CV]  power_t=0.5, max_iter=200, activation=logistic, learning_rate=adaptive, early_stopping=True, batch_size=100, score=41.554877, total=   1.3s\n",
      "[CV] power_t=0.5, max_iter=200, activation=logistic, learning_rate=adaptive, early_stopping=True, batch_size=100 \n"
     ]
    },
    {
     "name": "stderr",
     "output_type": "stream",
     "text": [
      "/Users/Thomas/anaconda/lib/python3.5/site-packages/sklearn/neural_network/multilayer_perceptron.py:563: ConvergenceWarning: Stochastic Optimizer: Maximum iterations reached and the optimization hasn't converged yet.\n",
      "  % (), ConvergenceWarning)\n"
     ]
    },
    {
     "name": "stdout",
     "output_type": "stream",
     "text": [
      "[CV]  power_t=0.5, max_iter=200, activation=logistic, learning_rate=adaptive, early_stopping=True, batch_size=100, score=39.657937, total=   5.0s\n",
      "[CV] power_t=0.5, max_iter=200, activation=logistic, learning_rate=adaptive, early_stopping=True, batch_size=100 \n",
      "[CV]  power_t=0.5, max_iter=200, activation=logistic, learning_rate=adaptive, early_stopping=True, batch_size=100, score=39.586834, total=   3.4s\n",
      "[CV] power_t=0.5, max_iter=200, activation=logistic, learning_rate=adaptive, early_stopping=True, batch_size=100 \n",
      "[CV]  power_t=0.5, max_iter=200, activation=logistic, learning_rate=adaptive, early_stopping=True, batch_size=100, score=39.868444, total=   1.9s\n",
      "[CV] power_t=0.5, max_iter=200, activation=logistic, learning_rate=adaptive, early_stopping=False, batch_size=100 \n"
     ]
    },
    {
     "name": "stderr",
     "output_type": "stream",
     "text": [
      "/Users/Thomas/anaconda/lib/python3.5/site-packages/sklearn/neural_network/multilayer_perceptron.py:563: ConvergenceWarning: Stochastic Optimizer: Maximum iterations reached and the optimization hasn't converged yet.\n",
      "  % (), ConvergenceWarning)\n"
     ]
    },
    {
     "name": "stdout",
     "output_type": "stream",
     "text": [
      "[CV]  power_t=0.5, max_iter=200, activation=logistic, learning_rate=adaptive, early_stopping=False, batch_size=100, score=38.674597, total=   5.4s\n",
      "[CV] power_t=0.5, max_iter=200, activation=logistic, learning_rate=adaptive, early_stopping=False, batch_size=100 \n"
     ]
    },
    {
     "name": "stderr",
     "output_type": "stream",
     "text": [
      "/Users/Thomas/anaconda/lib/python3.5/site-packages/sklearn/neural_network/multilayer_perceptron.py:563: ConvergenceWarning: Stochastic Optimizer: Maximum iterations reached and the optimization hasn't converged yet.\n",
      "  % (), ConvergenceWarning)\n"
     ]
    },
    {
     "name": "stdout",
     "output_type": "stream",
     "text": [
      "[CV]  power_t=0.5, max_iter=200, activation=logistic, learning_rate=adaptive, early_stopping=False, batch_size=100, score=40.428016, total=   5.6s\n",
      "[CV] power_t=0.5, max_iter=200, activation=logistic, learning_rate=adaptive, early_stopping=False, batch_size=100 \n"
     ]
    },
    {
     "name": "stderr",
     "output_type": "stream",
     "text": [
      "/Users/Thomas/anaconda/lib/python3.5/site-packages/sklearn/neural_network/multilayer_perceptron.py:563: ConvergenceWarning: Stochastic Optimizer: Maximum iterations reached and the optimization hasn't converged yet.\n",
      "  % (), ConvergenceWarning)\n"
     ]
    },
    {
     "name": "stdout",
     "output_type": "stream",
     "text": [
      "[CV]  power_t=0.5, max_iter=200, activation=logistic, learning_rate=adaptive, early_stopping=False, batch_size=100, score=39.564481, total=   7.2s\n",
      "[CV] power_t=0.5, max_iter=200, activation=logistic, learning_rate=adaptive, early_stopping=False, batch_size=100 \n"
     ]
    },
    {
     "name": "stderr",
     "output_type": "stream",
     "text": [
      "/Users/Thomas/anaconda/lib/python3.5/site-packages/sklearn/neural_network/multilayer_perceptron.py:563: ConvergenceWarning: Stochastic Optimizer: Maximum iterations reached and the optimization hasn't converged yet.\n",
      "  % (), ConvergenceWarning)\n"
     ]
    },
    {
     "name": "stdout",
     "output_type": "stream",
     "text": [
      "[CV]  power_t=0.5, max_iter=200, activation=logistic, learning_rate=adaptive, early_stopping=False, batch_size=100, score=39.439333, total=   7.1s\n",
      "[CV] power_t=0.5, max_iter=200, activation=logistic, learning_rate=adaptive, early_stopping=False, batch_size=100 \n"
     ]
    },
    {
     "name": "stderr",
     "output_type": "stream",
     "text": [
      "/Users/Thomas/anaconda/lib/python3.5/site-packages/sklearn/neural_network/multilayer_perceptron.py:563: ConvergenceWarning: Stochastic Optimizer: Maximum iterations reached and the optimization hasn't converged yet.\n",
      "  % (), ConvergenceWarning)\n"
     ]
    },
    {
     "name": "stdout",
     "output_type": "stream",
     "text": [
      "[CV]  power_t=0.5, max_iter=200, activation=logistic, learning_rate=adaptive, early_stopping=False, batch_size=100, score=39.287091, total=   6.1s\n",
      "[CV] power_t=0.5, max_iter=200, activation=logistic, learning_rate=adaptive, early_stopping=True, batch_size=500 \n"
     ]
    },
    {
     "name": "stderr",
     "output_type": "stream",
     "text": [
      "/Users/Thomas/anaconda/lib/python3.5/site-packages/sklearn/neural_network/multilayer_perceptron.py:563: ConvergenceWarning: Stochastic Optimizer: Maximum iterations reached and the optimization hasn't converged yet.\n",
      "  % (), ConvergenceWarning)\n"
     ]
    },
    {
     "name": "stdout",
     "output_type": "stream",
     "text": [
      "[CV]  power_t=0.5, max_iter=200, activation=logistic, learning_rate=adaptive, early_stopping=True, batch_size=500, score=39.907665, total=   3.6s\n",
      "[CV] power_t=0.5, max_iter=200, activation=logistic, learning_rate=adaptive, early_stopping=True, batch_size=500 \n"
     ]
    },
    {
     "name": "stderr",
     "output_type": "stream",
     "text": [
      "/Users/Thomas/anaconda/lib/python3.5/site-packages/sklearn/neural_network/multilayer_perceptron.py:563: ConvergenceWarning: Stochastic Optimizer: Maximum iterations reached and the optimization hasn't converged yet.\n",
      "  % (), ConvergenceWarning)\n"
     ]
    },
    {
     "name": "stdout",
     "output_type": "stream",
     "text": [
      "[CV]  power_t=0.5, max_iter=200, activation=logistic, learning_rate=adaptive, early_stopping=True, batch_size=500, score=41.674580, total=   3.7s\n",
      "[CV] power_t=0.5, max_iter=200, activation=logistic, learning_rate=adaptive, early_stopping=True, batch_size=500 \n",
      "[CV]  power_t=0.5, max_iter=200, activation=logistic, learning_rate=adaptive, early_stopping=True, batch_size=500, score=40.833721, total=   1.9s\n",
      "[CV] power_t=0.5, max_iter=200, activation=logistic, learning_rate=adaptive, early_stopping=True, batch_size=500 \n"
     ]
    },
    {
     "name": "stderr",
     "output_type": "stream",
     "text": [
      "/Users/Thomas/anaconda/lib/python3.5/site-packages/sklearn/neural_network/multilayer_perceptron.py:563: ConvergenceWarning: Stochastic Optimizer: Maximum iterations reached and the optimization hasn't converged yet.\n",
      "  % (), ConvergenceWarning)\n"
     ]
    },
    {
     "name": "stdout",
     "output_type": "stream",
     "text": [
      "[CV]  power_t=0.5, max_iter=200, activation=logistic, learning_rate=adaptive, early_stopping=True, batch_size=500, score=39.981704, total=   3.8s\n",
      "[CV] power_t=0.5, max_iter=200, activation=logistic, learning_rate=adaptive, early_stopping=True, batch_size=500 \n",
      "[CV]  power_t=0.5, max_iter=200, activation=logistic, learning_rate=adaptive, early_stopping=True, batch_size=500, score=40.068594, total=   3.2s\n",
      "[CV] power_t=0.5, max_iter=200, activation=logistic, learning_rate=adaptive, early_stopping=False, batch_size=500 \n"
     ]
    },
    {
     "name": "stderr",
     "output_type": "stream",
     "text": [
      "/Users/Thomas/anaconda/lib/python3.5/site-packages/sklearn/neural_network/multilayer_perceptron.py:563: ConvergenceWarning: Stochastic Optimizer: Maximum iterations reached and the optimization hasn't converged yet.\n",
      "  % (), ConvergenceWarning)\n"
     ]
    },
    {
     "name": "stdout",
     "output_type": "stream",
     "text": [
      "[CV]  power_t=0.5, max_iter=200, activation=logistic, learning_rate=adaptive, early_stopping=False, batch_size=500, score=39.838959, total=   3.7s\n",
      "[CV] power_t=0.5, max_iter=200, activation=logistic, learning_rate=adaptive, early_stopping=False, batch_size=500 \n"
     ]
    },
    {
     "name": "stderr",
     "output_type": "stream",
     "text": [
      "/Users/Thomas/anaconda/lib/python3.5/site-packages/sklearn/neural_network/multilayer_perceptron.py:563: ConvergenceWarning: Stochastic Optimizer: Maximum iterations reached and the optimization hasn't converged yet.\n",
      "  % (), ConvergenceWarning)\n"
     ]
    },
    {
     "name": "stdout",
     "output_type": "stream",
     "text": [
      "[CV]  power_t=0.5, max_iter=200, activation=logistic, learning_rate=adaptive, early_stopping=False, batch_size=500, score=41.543829, total=   3.0s\n",
      "[CV] power_t=0.5, max_iter=200, activation=logistic, learning_rate=adaptive, early_stopping=False, batch_size=500 \n"
     ]
    },
    {
     "name": "stderr",
     "output_type": "stream",
     "text": [
      "/Users/Thomas/anaconda/lib/python3.5/site-packages/sklearn/neural_network/multilayer_perceptron.py:563: ConvergenceWarning: Stochastic Optimizer: Maximum iterations reached and the optimization hasn't converged yet.\n",
      "  % (), ConvergenceWarning)\n"
     ]
    },
    {
     "name": "stdout",
     "output_type": "stream",
     "text": [
      "[CV]  power_t=0.5, max_iter=200, activation=logistic, learning_rate=adaptive, early_stopping=False, batch_size=500, score=40.253548, total=   3.7s\n",
      "[CV] power_t=0.5, max_iter=200, activation=logistic, learning_rate=adaptive, early_stopping=False, batch_size=500 \n"
     ]
    },
    {
     "name": "stderr",
     "output_type": "stream",
     "text": [
      "/Users/Thomas/anaconda/lib/python3.5/site-packages/sklearn/neural_network/multilayer_perceptron.py:563: ConvergenceWarning: Stochastic Optimizer: Maximum iterations reached and the optimization hasn't converged yet.\n",
      "  % (), ConvergenceWarning)\n"
     ]
    },
    {
     "name": "stdout",
     "output_type": "stream",
     "text": [
      "[CV]  power_t=0.5, max_iter=200, activation=logistic, learning_rate=adaptive, early_stopping=False, batch_size=500, score=39.905012, total=   3.8s\n",
      "[CV] power_t=0.5, max_iter=200, activation=logistic, learning_rate=adaptive, early_stopping=False, batch_size=500 \n"
     ]
    },
    {
     "name": "stderr",
     "output_type": "stream",
     "text": [
      "/Users/Thomas/anaconda/lib/python3.5/site-packages/sklearn/neural_network/multilayer_perceptron.py:563: ConvergenceWarning: Stochastic Optimizer: Maximum iterations reached and the optimization hasn't converged yet.\n",
      "  % (), ConvergenceWarning)\n",
      "[Parallel(n_jobs=1)]: Done  40 out of  40 | elapsed:  3.0min finished\n"
     ]
    },
    {
     "name": "stdout",
     "output_type": "stream",
     "text": [
      "[CV]  power_t=0.5, max_iter=200, activation=logistic, learning_rate=adaptive, early_stopping=False, batch_size=500, score=39.945515, total=   3.8s\n"
     ]
    },
    {
     "data": {
      "text/plain": [
       "GridSearchCV(cv=5, error_score='raise',\n",
       "       estimator=MLPRegressor(activation='relu', alpha=0.0001, batch_size='auto', beta_1=0.9,\n",
       "       beta_2=0.999, early_stopping=False, epsilon=1e-08,\n",
       "       hidden_layer_sizes=(100,), learning_rate='constant',\n",
       "       learning_rate_init=0.001, max_iter=200, momentum=0.9,\n",
       "       nesterovs_momentum=True, power_t=0.5, random_state=None,\n",
       "       shuffle=True, solver='adam', tol=0.0001, validation_fraction=0.1,\n",
       "       verbose=False, warm_start=False),\n",
       "       fit_params={}, iid=True, n_jobs=1,\n",
       "       param_grid={'power_t': [0.5], 'max_iter': [200], 'activation': ['logistic'], 'learning_rate': ['adaptive'], 'early_stopping': [True, False], 'batch_size': ['auto', 50, 100, 500]},\n",
       "       pre_dispatch='2*n_jobs', refit=True, return_train_score=True,\n",
       "       scoring=make_scorer(rmse_scorer), verbose=3)"
      ]
     },
     "execution_count": 169,
     "metadata": {},
     "output_type": "execute_result"
    }
   ],
   "source": [
    "mlp = MLPRegressor()\n",
    "param_grid_mlp = {\n",
    "    'learning_rate': ['adaptive'],\n",
    "    'max_iter': [200],\n",
    "    'power_t': [0.5],\n",
    "    'activation': ['logistic'],\n",
    "    'batch_size': ['auto', 50, 100, 500],\n",
    "    'early_stopping': [True, False]\n",
    "}\n",
    "CV_mlp = GridSearchCV(mlp, param_grid=param_grid_mlp, cv=5, verbose=3, scoring=rmse)\n",
    "X_scaled = preprocessing.minmax_scale(X)\n",
    "CV_mlp.fit(X_scaled,y)"
   ]
  },
  {
   "cell_type": "code",
   "execution_count": 170,
   "metadata": {
    "collapsed": false
   },
   "outputs": [
    {
     "name": "stdout",
     "output_type": "stream",
     "text": [
      "best score: 40.4932528063 \n",
      "with parameters: {'power_t': 0.5, 'max_iter': 200, 'activation': 'logistic', 'learning_rate': 'adaptive', 'early_stopping': True, 'batch_size': 500}\n"
     ]
    }
   ],
   "source": [
    "print('best score:', CV_mlp.best_score_, '\\nwith parameters:', CV_mlp.best_params_)"
   ]
  },
  {
   "cell_type": "code",
   "execution_count": 171,
   "metadata": {
    "collapsed": true
   },
   "outputs": [],
   "source": [
    "best_mlp = MLPRegressor(power_t=0.5, max_iter=200, activation='logistic', learning_rate='adaptive', early_stopping=True, batch_size=500)"
   ]
  },
  {
   "cell_type": "code",
   "execution_count": 172,
   "metadata": {
    "collapsed": false
   },
   "outputs": [
    {
     "name": "stderr",
     "output_type": "stream",
     "text": [
      "/Users/Thomas/anaconda/lib/python3.5/site-packages/sklearn/neural_network/multilayer_perceptron.py:357: UserWarning: Got `batch_size` less than 1 or larger than sample size. It is going to be clipped\n",
      "  warnings.warn(\"Got `batch_size` less than 1 or larger than \"\n",
      "/Users/Thomas/anaconda/lib/python3.5/site-packages/sklearn/neural_network/multilayer_perceptron.py:563: ConvergenceWarning: Stochastic Optimizer: Maximum iterations reached and the optimization hasn't converged yet.\n",
      "  % (), ConvergenceWarning)\n",
      "/Users/Thomas/anaconda/lib/python3.5/site-packages/sklearn/neural_network/multilayer_perceptron.py:563: ConvergenceWarning: Stochastic Optimizer: Maximum iterations reached and the optimization hasn't converged yet.\n",
      "  % (), ConvergenceWarning)\n",
      "/Users/Thomas/anaconda/lib/python3.5/site-packages/sklearn/neural_network/multilayer_perceptron.py:563: ConvergenceWarning: Stochastic Optimizer: Maximum iterations reached and the optimization hasn't converged yet.\n",
      "  % (), ConvergenceWarning)\n",
      "/Users/Thomas/anaconda/lib/python3.5/site-packages/sklearn/neural_network/multilayer_perceptron.py:357: UserWarning: Got `batch_size` less than 1 or larger than sample size. It is going to be clipped\n",
      "  warnings.warn(\"Got `batch_size` less than 1 or larger than \"\n",
      "/Users/Thomas/anaconda/lib/python3.5/site-packages/sklearn/neural_network/multilayer_perceptron.py:563: ConvergenceWarning: Stochastic Optimizer: Maximum iterations reached and the optimization hasn't converged yet.\n",
      "  % (), ConvergenceWarning)\n",
      "/Users/Thomas/anaconda/lib/python3.5/site-packages/sklearn/neural_network/multilayer_perceptron.py:563: ConvergenceWarning: Stochastic Optimizer: Maximum iterations reached and the optimization hasn't converged yet.\n",
      "  % (), ConvergenceWarning)\n",
      "/Users/Thomas/anaconda/lib/python3.5/site-packages/sklearn/neural_network/multilayer_perceptron.py:563: ConvergenceWarning: Stochastic Optimizer: Maximum iterations reached and the optimization hasn't converged yet.\n",
      "  % (), ConvergenceWarning)\n",
      "/Users/Thomas/anaconda/lib/python3.5/site-packages/sklearn/neural_network/multilayer_perceptron.py:357: UserWarning: Got `batch_size` less than 1 or larger than sample size. It is going to be clipped\n",
      "  warnings.warn(\"Got `batch_size` less than 1 or larger than \"\n",
      "/Users/Thomas/anaconda/lib/python3.5/site-packages/sklearn/neural_network/multilayer_perceptron.py:563: ConvergenceWarning: Stochastic Optimizer: Maximum iterations reached and the optimization hasn't converged yet.\n",
      "  % (), ConvergenceWarning)\n",
      "/Users/Thomas/anaconda/lib/python3.5/site-packages/sklearn/neural_network/multilayer_perceptron.py:563: ConvergenceWarning: Stochastic Optimizer: Maximum iterations reached and the optimization hasn't converged yet.\n",
      "  % (), ConvergenceWarning)\n"
     ]
    },
    {
     "data": {
      "image/png": "[encoded data removed]",
      "text/plain": [
       "<matplotlib.figure.Figure at 0x117fd9518>"
      ]
     },
     "metadata": {},
     "output_type": "display_data"
    }
   ],
   "source": [
    "plot_learning_curve(best_mlp, 'Learning curve for MLP', X, y);"
   ]
  },
  {
   "cell_type": "markdown",
   "metadata": {},
   "source": [
    "## k-nearest neighbors "
   ]
  },
  {
   "cell_type": "code",
   "execution_count": 181,
   "metadata": {
    "collapsed": false,
    "scrolled": true
   },
   "outputs": [
    {
     "name": "stdout",
     "output_type": "stream",
     "text": [
      "Fitting 5 folds for each of 36 candidates, totalling 180 fits\n",
      "[CV] leaf_size=5, n_neighbors=3, weights=uniform .....................\n",
      "[CV] ...... leaf_size=5, n_neighbors=3, weights=uniform, total=   0.1s\n",
      "[CV] leaf_size=5, n_neighbors=3, weights=uniform .....................\n"
     ]
    },
    {
     "name": "stderr",
     "output_type": "stream",
     "text": [
      "[Parallel(n_jobs=1)]: Done   1 out of   1 | elapsed:    0.2s remaining:    0.0s\n"
     ]
    },
    {
     "name": "stdout",
     "output_type": "stream",
     "text": [
      "[CV] ...... leaf_size=5, n_neighbors=3, weights=uniform, total=   0.1s\n",
      "[CV] leaf_size=5, n_neighbors=3, weights=uniform .....................\n",
      "[CV] ...... leaf_size=5, n_neighbors=3, weights=uniform, total=   0.1s\n",
      "[CV] leaf_size=5, n_neighbors=3, weights=uniform .....................\n",
      "[CV] ...... leaf_size=5, n_neighbors=3, weights=uniform, total=   0.1s\n",
      "[CV] leaf_size=5, n_neighbors=3, weights=uniform .....................\n",
      "[CV] ...... leaf_size=5, n_neighbors=3, weights=uniform, total=   0.1s\n",
      "[CV] leaf_size=5, n_neighbors=3, weights=distance ....................\n",
      "[CV] ..... leaf_size=5, n_neighbors=3, weights=distance, total=   0.1s\n",
      "[CV] leaf_size=5, n_neighbors=3, weights=distance ....................\n",
      "[CV] ..... leaf_size=5, n_neighbors=3, weights=distance, total=   0.1s\n",
      "[CV] leaf_size=5, n_neighbors=3, weights=distance ....................\n",
      "[CV] ..... leaf_size=5, n_neighbors=3, weights=distance, total=   0.1s\n",
      "[CV] leaf_size=5, n_neighbors=3, weights=distance ....................\n",
      "[CV] ..... leaf_size=5, n_neighbors=3, weights=distance, total=   0.1s\n",
      "[CV] leaf_size=5, n_neighbors=3, weights=distance ....................\n",
      "[CV] ..... leaf_size=5, n_neighbors=3, weights=distance, total=   0.1s\n",
      "[CV] leaf_size=5, n_neighbors=5, weights=uniform .....................\n",
      "[CV] ...... leaf_size=5, n_neighbors=5, weights=uniform, total=   0.1s\n",
      "[CV] leaf_size=5, n_neighbors=5, weights=uniform .....................\n",
      "[CV] ...... leaf_size=5, n_neighbors=5, weights=uniform, total=   0.1s\n",
      "[CV] leaf_size=5, n_neighbors=5, weights=uniform .....................\n",
      "[CV] ...... leaf_size=5, n_neighbors=5, weights=uniform, total=   0.1s\n",
      "[CV] leaf_size=5, n_neighbors=5, weights=uniform .....................\n",
      "[CV] ...... leaf_size=5, n_neighbors=5, weights=uniform, total=   0.1s\n",
      "[CV] leaf_size=5, n_neighbors=5, weights=uniform .....................\n",
      "[CV] ...... leaf_size=5, n_neighbors=5, weights=uniform, total=   0.1s\n",
      "[CV] leaf_size=5, n_neighbors=5, weights=distance ....................\n",
      "[CV] ..... leaf_size=5, n_neighbors=5, weights=distance, total=   0.1s\n",
      "[CV] leaf_size=5, n_neighbors=5, weights=distance ....................\n",
      "[CV] ..... leaf_size=5, n_neighbors=5, weights=distance, total=   0.1s\n",
      "[CV] leaf_size=5, n_neighbors=5, weights=distance ....................\n",
      "[CV] ..... leaf_size=5, n_neighbors=5, weights=distance, total=   0.1s\n",
      "[CV] leaf_size=5, n_neighbors=5, weights=distance ....................\n",
      "[CV] ..... leaf_size=5, n_neighbors=5, weights=distance, total=   0.1s\n",
      "[CV] leaf_size=5, n_neighbors=5, weights=distance ....................\n",
      "[CV] ..... leaf_size=5, n_neighbors=5, weights=distance, total=   0.1s\n",
      "[CV] leaf_size=5, n_neighbors=7, weights=uniform .....................\n",
      "[CV] ...... leaf_size=5, n_neighbors=7, weights=uniform, total=   0.1s\n",
      "[CV] leaf_size=5, n_neighbors=7, weights=uniform .....................\n",
      "[CV] ...... leaf_size=5, n_neighbors=7, weights=uniform, total=   0.1s\n",
      "[CV] leaf_size=5, n_neighbors=7, weights=uniform .....................\n",
      "[CV] ...... leaf_size=5, n_neighbors=7, weights=uniform, total=   0.1s\n",
      "[CV] leaf_size=5, n_neighbors=7, weights=uniform .....................\n",
      "[CV] ...... leaf_size=5, n_neighbors=7, weights=uniform, total=   0.1s\n",
      "[CV] leaf_size=5, n_neighbors=7, weights=uniform .....................\n",
      "[CV] ...... leaf_size=5, n_neighbors=7, weights=uniform, total=   0.1s\n",
      "[CV] leaf_size=5, n_neighbors=7, weights=distance ....................\n",
      "[CV] ..... leaf_size=5, n_neighbors=7, weights=distance, total=   0.1s\n",
      "[CV] leaf_size=5, n_neighbors=7, weights=distance ....................\n",
      "[CV] ..... leaf_size=5, n_neighbors=7, weights=distance, total=   0.1s\n",
      "[CV] leaf_size=5, n_neighbors=7, weights=distance ....................\n",
      "[CV] ..... leaf_size=5, n_neighbors=7, weights=distance, total=   0.1s\n",
      "[CV] leaf_size=5, n_neighbors=7, weights=distance ....................\n",
      "[CV] ..... leaf_size=5, n_neighbors=7, weights=distance, total=   0.1s\n",
      "[CV] leaf_size=5, n_neighbors=7, weights=distance ....................\n",
      "[CV] ..... leaf_size=5, n_neighbors=7, weights=distance, total=   0.1s\n",
      "[CV] leaf_size=10, n_neighbors=3, weights=uniform ....................\n",
      "[CV] ..... leaf_size=10, n_neighbors=3, weights=uniform, total=   0.1s\n",
      "[CV] leaf_size=10, n_neighbors=3, weights=uniform ....................\n",
      "[CV] ..... leaf_size=10, n_neighbors=3, weights=uniform, total=   0.1s\n",
      "[CV] leaf_size=10, n_neighbors=3, weights=uniform ....................\n",
      "[CV] ..... leaf_size=10, n_neighbors=3, weights=uniform, total=   0.1s\n",
      "[CV] leaf_size=10, n_neighbors=3, weights=uniform ....................\n",
      "[CV] ..... leaf_size=10, n_neighbors=3, weights=uniform, total=   0.1s\n",
      "[CV] leaf_size=10, n_neighbors=3, weights=uniform ....................\n",
      "[CV] ..... leaf_size=10, n_neighbors=3, weights=uniform, total=   0.1s\n",
      "[CV] leaf_size=10, n_neighbors=3, weights=distance ...................\n",
      "[CV] .... leaf_size=10, n_neighbors=3, weights=distance, total=   0.1s\n",
      "[CV] leaf_size=10, n_neighbors=3, weights=distance ...................\n",
      "[CV] .... leaf_size=10, n_neighbors=3, weights=distance, total=   0.1s\n",
      "[CV] leaf_size=10, n_neighbors=3, weights=distance ...................\n",
      "[CV] .... leaf_size=10, n_neighbors=3, weights=distance, total=   0.1s\n",
      "[CV] leaf_size=10, n_neighbors=3, weights=distance ...................\n",
      "[CV] .... leaf_size=10, n_neighbors=3, weights=distance, total=   0.1s\n",
      "[CV] leaf_size=10, n_neighbors=3, weights=distance ...................\n",
      "[CV] .... leaf_size=10, n_neighbors=3, weights=distance, total=   0.1s\n",
      "[CV] leaf_size=10, n_neighbors=5, weights=uniform ....................\n",
      "[CV] ..... leaf_size=10, n_neighbors=5, weights=uniform, total=   0.1s\n",
      "[CV] leaf_size=10, n_neighbors=5, weights=uniform ....................\n",
      "[CV] ..... leaf_size=10, n_neighbors=5, weights=uniform, total=   0.1s\n",
      "[CV] leaf_size=10, n_neighbors=5, weights=uniform ....................\n",
      "[CV] ..... leaf_size=10, n_neighbors=5, weights=uniform, total=   0.1s\n",
      "[CV] leaf_size=10, n_neighbors=5, weights=uniform ....................\n",
      "[CV] ..... leaf_size=10, n_neighbors=5, weights=uniform, total=   0.1s\n",
      "[CV] leaf_size=10, n_neighbors=5, weights=uniform ....................\n",
      "[CV] ..... leaf_size=10, n_neighbors=5, weights=uniform, total=   0.1s\n",
      "[CV] leaf_size=10, n_neighbors=5, weights=distance ...................\n",
      "[CV] .... leaf_size=10, n_neighbors=5, weights=distance, total=   0.1s\n",
      "[CV] leaf_size=10, n_neighbors=5, weights=distance ...................\n",
      "[CV] .... leaf_size=10, n_neighbors=5, weights=distance, total=   0.1s\n",
      "[CV] leaf_size=10, n_neighbors=5, weights=distance ...................\n",
      "[CV] .... leaf_size=10, n_neighbors=5, weights=distance, total=   0.1s\n",
      "[CV] leaf_size=10, n_neighbors=5, weights=distance ...................\n",
      "[CV] .... leaf_size=10, n_neighbors=5, weights=distance, total=   0.1s\n",
      "[CV] leaf_size=10, n_neighbors=5, weights=distance ...................\n",
      "[CV] .... leaf_size=10, n_neighbors=5, weights=distance, total=   0.1s\n",
      "[CV] leaf_size=10, n_neighbors=7, weights=uniform ....................\n",
      "[CV] ..... leaf_size=10, n_neighbors=7, weights=uniform, total=   0.1s\n",
      "[CV] leaf_size=10, n_neighbors=7, weights=uniform ....................\n",
      "[CV] ..... leaf_size=10, n_neighbors=7, weights=uniform, total=   0.1s\n",
      "[CV] leaf_size=10, n_neighbors=7, weights=uniform ....................\n",
      "[CV] ..... leaf_size=10, n_neighbors=7, weights=uniform, total=   0.1s\n",
      "[CV] leaf_size=10, n_neighbors=7, weights=uniform ....................\n",
      "[CV] ..... leaf_size=10, n_neighbors=7, weights=uniform, total=   0.1s\n",
      "[CV] leaf_size=10, n_neighbors=7, weights=uniform ....................\n",
      "[CV] ..... leaf_size=10, n_neighbors=7, weights=uniform, total=   0.1s\n",
      "[CV] leaf_size=10, n_neighbors=7, weights=distance ...................\n",
      "[CV] .... leaf_size=10, n_neighbors=7, weights=distance, total=   0.1s\n",
      "[CV] leaf_size=10, n_neighbors=7, weights=distance ...................\n",
      "[CV] .... leaf_size=10, n_neighbors=7, weights=distance, total=   0.1s\n",
      "[CV] leaf_size=10, n_neighbors=7, weights=distance ...................\n",
      "[CV] .... leaf_size=10, n_neighbors=7, weights=distance, total=   0.1s\n",
      "[CV] leaf_size=10, n_neighbors=7, weights=distance ...................\n",
      "[CV] .... leaf_size=10, n_neighbors=7, weights=distance, total=   0.1s\n",
      "[CV] leaf_size=10, n_neighbors=7, weights=distance ...................\n",
      "[CV] .... leaf_size=10, n_neighbors=7, weights=distance, total=   0.1s\n",
      "[CV] leaf_size=20, n_neighbors=3, weights=uniform ....................\n",
      "[CV] ..... leaf_size=20, n_neighbors=3, weights=uniform, total=   0.1s\n",
      "[CV] leaf_size=20, n_neighbors=3, weights=uniform ....................\n",
      "[CV] ..... leaf_size=20, n_neighbors=3, weights=uniform, total=   0.1s\n",
      "[CV] leaf_size=20, n_neighbors=3, weights=uniform ....................\n",
      "[CV] ..... leaf_size=20, n_neighbors=3, weights=uniform, total=   0.1s\n",
      "[CV] leaf_size=20, n_neighbors=3, weights=uniform ....................\n",
      "[CV] ..... leaf_size=20, n_neighbors=3, weights=uniform, total=   0.1s\n",
      "[CV] leaf_size=20, n_neighbors=3, weights=uniform ....................\n",
      "[CV] ..... leaf_size=20, n_neighbors=3, weights=uniform, total=   0.1s\n",
      "[CV] leaf_size=20, n_neighbors=3, weights=distance ...................\n",
      "[CV] .... leaf_size=20, n_neighbors=3, weights=distance, total=   0.1s\n",
      "[CV] leaf_size=20, n_neighbors=3, weights=distance ...................\n",
      "[CV] .... leaf_size=20, n_neighbors=3, weights=distance, total=   0.1s\n",
      "[CV] leaf_size=20, n_neighbors=3, weights=distance ...................\n",
      "[CV] .... leaf_size=20, n_neighbors=3, weights=distance, total=   0.1s\n",
      "[CV] leaf_size=20, n_neighbors=3, weights=distance ...................\n",
      "[CV] .... leaf_size=20, n_neighbors=3, weights=distance, total=   0.1s\n",
      "[CV] leaf_size=20, n_neighbors=3, weights=distance ...................\n",
      "[CV] .... leaf_size=20, n_neighbors=3, weights=distance, total=   0.1s\n",
      "[CV] leaf_size=20, n_neighbors=5, weights=uniform ....................\n",
      "[CV] ..... leaf_size=20, n_neighbors=5, weights=uniform, total=   0.1s\n",
      "[CV] leaf_size=20, n_neighbors=5, weights=uniform ....................\n",
      "[CV] ..... leaf_size=20, n_neighbors=5, weights=uniform, total=   0.1s\n",
      "[CV] leaf_size=20, n_neighbors=5, weights=uniform ....................\n",
      "[CV] ..... leaf_size=20, n_neighbors=5, weights=uniform, total=   0.1s\n",
      "[CV] leaf_size=20, n_neighbors=5, weights=uniform ....................\n",
      "[CV] ..... leaf_size=20, n_neighbors=5, weights=uniform, total=   0.1s\n",
      "[CV] leaf_size=20, n_neighbors=5, weights=uniform ....................\n",
      "[CV] ..... leaf_size=20, n_neighbors=5, weights=uniform, total=   0.1s\n",
      "[CV] leaf_size=20, n_neighbors=5, weights=distance ...................\n",
      "[CV] .... leaf_size=20, n_neighbors=5, weights=distance, total=   0.1s\n",
      "[CV] leaf_size=20, n_neighbors=5, weights=distance ...................\n",
      "[CV] .... leaf_size=20, n_neighbors=5, weights=distance, total=   0.1s\n",
      "[CV] leaf_size=20, n_neighbors=5, weights=distance ...................\n",
      "[CV] .... leaf_size=20, n_neighbors=5, weights=distance, total=   0.1s\n",
      "[CV] leaf_size=20, n_neighbors=5, weights=distance ...................\n",
      "[CV] .... leaf_size=20, n_neighbors=5, weights=distance, total=   0.2s\n",
      "[CV] leaf_size=20, n_neighbors=5, weights=distance ...................\n",
      "[CV] .... leaf_size=20, n_neighbors=5, weights=distance, total=   0.1s\n",
      "[CV] leaf_size=20, n_neighbors=7, weights=uniform ....................\n",
      "[CV] ..... leaf_size=20, n_neighbors=7, weights=uniform, total=   0.1s\n",
      "[CV] leaf_size=20, n_neighbors=7, weights=uniform ....................\n",
      "[CV] ..... leaf_size=20, n_neighbors=7, weights=uniform, total=   0.1s\n",
      "[CV] leaf_size=20, n_neighbors=7, weights=uniform ....................\n",
      "[CV] ..... leaf_size=20, n_neighbors=7, weights=uniform, total=   0.1s\n",
      "[CV] leaf_size=20, n_neighbors=7, weights=uniform ....................\n",
      "[CV] ..... leaf_size=20, n_neighbors=7, weights=uniform, total=   0.1s\n",
      "[CV] leaf_size=20, n_neighbors=7, weights=uniform ....................\n",
      "[CV] ..... leaf_size=20, n_neighbors=7, weights=uniform, total=   0.1s\n",
      "[CV] leaf_size=20, n_neighbors=7, weights=distance ...................\n",
      "[CV] .... leaf_size=20, n_neighbors=7, weights=distance, total=   0.1s\n",
      "[CV] leaf_size=20, n_neighbors=7, weights=distance ...................\n",
      "[CV] .... leaf_size=20, n_neighbors=7, weights=distance, total=   0.1s\n",
      "[CV] leaf_size=20, n_neighbors=7, weights=distance ...................\n",
      "[CV] .... leaf_size=20, n_neighbors=7, weights=distance, total=   0.1s\n",
      "[CV] leaf_size=20, n_neighbors=7, weights=distance ...................\n",
      "[CV] .... leaf_size=20, n_neighbors=7, weights=distance, total=   0.1s\n",
      "[CV] leaf_size=20, n_neighbors=7, weights=distance ...................\n",
      "[CV] .... leaf_size=20, n_neighbors=7, weights=distance, total=   0.1s\n",
      "[CV] leaf_size=30, n_neighbors=3, weights=uniform ....................\n",
      "[CV] ..... leaf_size=30, n_neighbors=3, weights=uniform, total=   0.1s\n",
      "[CV] leaf_size=30, n_neighbors=3, weights=uniform ....................\n",
      "[CV] ..... leaf_size=30, n_neighbors=3, weights=uniform, total=   0.1s\n",
      "[CV] leaf_size=30, n_neighbors=3, weights=uniform ....................\n",
      "[CV] ..... leaf_size=30, n_neighbors=3, weights=uniform, total=   0.1s\n",
      "[CV] leaf_size=30, n_neighbors=3, weights=uniform ....................\n",
      "[CV] ..... leaf_size=30, n_neighbors=3, weights=uniform, total=   0.1s\n",
      "[CV] leaf_size=30, n_neighbors=3, weights=uniform ....................\n",
      "[CV] ..... leaf_size=30, n_neighbors=3, weights=uniform, total=   0.1s\n",
      "[CV] leaf_size=30, n_neighbors=3, weights=distance ...................\n",
      "[CV] .... leaf_size=30, n_neighbors=3, weights=distance, total=   0.1s\n",
      "[CV] leaf_size=30, n_neighbors=3, weights=distance ...................\n",
      "[CV] .... leaf_size=30, n_neighbors=3, weights=distance, total=   0.1s\n",
      "[CV] leaf_size=30, n_neighbors=3, weights=distance ...................\n",
      "[CV] .... leaf_size=30, n_neighbors=3, weights=distance, total=   0.1s\n",
      "[CV] leaf_size=30, n_neighbors=3, weights=distance ...................\n",
      "[CV] .... leaf_size=30, n_neighbors=3, weights=distance, total=   0.1s\n",
      "[CV] leaf_size=30, n_neighbors=3, weights=distance ...................\n",
      "[CV] .... leaf_size=30, n_neighbors=3, weights=distance, total=   0.1s\n",
      "[CV] leaf_size=30, n_neighbors=5, weights=uniform ....................\n",
      "[CV] ..... leaf_size=30, n_neighbors=5, weights=uniform, total=   0.1s\n",
      "[CV] leaf_size=30, n_neighbors=5, weights=uniform ....................\n",
      "[CV] ..... leaf_size=30, n_neighbors=5, weights=uniform, total=   0.1s\n",
      "[CV] leaf_size=30, n_neighbors=5, weights=uniform ....................\n",
      "[CV] ..... leaf_size=30, n_neighbors=5, weights=uniform, total=   0.1s\n",
      "[CV] leaf_size=30, n_neighbors=5, weights=uniform ....................\n",
      "[CV] ..... leaf_size=30, n_neighbors=5, weights=uniform, total=   0.1s\n",
      "[CV] leaf_size=30, n_neighbors=5, weights=uniform ....................\n",
      "[CV] ..... leaf_size=30, n_neighbors=5, weights=uniform, total=   0.1s\n",
      "[CV] leaf_size=30, n_neighbors=5, weights=distance ...................\n",
      "[CV] .... leaf_size=30, n_neighbors=5, weights=distance, total=   0.1s\n",
      "[CV] leaf_size=30, n_neighbors=5, weights=distance ...................\n",
      "[CV] .... leaf_size=30, n_neighbors=5, weights=distance, total=   0.1s\n",
      "[CV] leaf_size=30, n_neighbors=5, weights=distance ...................\n",
      "[CV] .... leaf_size=30, n_neighbors=5, weights=distance, total=   0.1s\n",
      "[CV] leaf_size=30, n_neighbors=5, weights=distance ...................\n",
      "[CV] .... leaf_size=30, n_neighbors=5, weights=distance, total=   0.1s\n",
      "[CV] leaf_size=30, n_neighbors=5, weights=distance ...................\n",
      "[CV] .... leaf_size=30, n_neighbors=5, weights=distance, total=   0.1s\n",
      "[CV] leaf_size=30, n_neighbors=7, weights=uniform ....................\n",
      "[CV] ..... leaf_size=30, n_neighbors=7, weights=uniform, total=   0.1s\n",
      "[CV] leaf_size=30, n_neighbors=7, weights=uniform ....................\n",
      "[CV] ..... leaf_size=30, n_neighbors=7, weights=uniform, total=   0.1s\n",
      "[CV] leaf_size=30, n_neighbors=7, weights=uniform ....................\n",
      "[CV] ..... leaf_size=30, n_neighbors=7, weights=uniform, total=   0.1s\n",
      "[CV] leaf_size=30, n_neighbors=7, weights=uniform ....................\n",
      "[CV] ..... leaf_size=30, n_neighbors=7, weights=uniform, total=   0.1s\n",
      "[CV] leaf_size=30, n_neighbors=7, weights=uniform ....................\n",
      "[CV] ..... leaf_size=30, n_neighbors=7, weights=uniform, total=   0.1s\n",
      "[CV] leaf_size=30, n_neighbors=7, weights=distance ...................\n",
      "[CV] .... leaf_size=30, n_neighbors=7, weights=distance, total=   0.1s\n",
      "[CV] leaf_size=30, n_neighbors=7, weights=distance ...................\n",
      "[CV] .... leaf_size=30, n_neighbors=7, weights=distance, total=   0.1s\n",
      "[CV] leaf_size=30, n_neighbors=7, weights=distance ...................\n",
      "[CV] .... leaf_size=30, n_neighbors=7, weights=distance, total=   0.1s\n",
      "[CV] leaf_size=30, n_neighbors=7, weights=distance ...................\n",
      "[CV] .... leaf_size=30, n_neighbors=7, weights=distance, total=   0.1s\n",
      "[CV] leaf_size=30, n_neighbors=7, weights=distance ...................\n",
      "[CV] .... leaf_size=30, n_neighbors=7, weights=distance, total=   0.1s\n",
      "[CV] leaf_size=40, n_neighbors=3, weights=uniform ....................\n",
      "[CV] ..... leaf_size=40, n_neighbors=3, weights=uniform, total=   0.1s\n",
      "[CV] leaf_size=40, n_neighbors=3, weights=uniform ....................\n",
      "[CV] ..... leaf_size=40, n_neighbors=3, weights=uniform, total=   0.1s\n",
      "[CV] leaf_size=40, n_neighbors=3, weights=uniform ....................\n",
      "[CV] ..... leaf_size=40, n_neighbors=3, weights=uniform, total=   0.1s\n",
      "[CV] leaf_size=40, n_neighbors=3, weights=uniform ....................\n",
      "[CV] ..... leaf_size=40, n_neighbors=3, weights=uniform, total=   0.1s\n",
      "[CV] leaf_size=40, n_neighbors=3, weights=uniform ....................\n",
      "[CV] ..... leaf_size=40, n_neighbors=3, weights=uniform, total=   0.1s\n",
      "[CV] leaf_size=40, n_neighbors=3, weights=distance ...................\n",
      "[CV] .... leaf_size=40, n_neighbors=3, weights=distance, total=   0.1s\n",
      "[CV] leaf_size=40, n_neighbors=3, weights=distance ...................\n",
      "[CV] .... leaf_size=40, n_neighbors=3, weights=distance, total=   0.1s\n",
      "[CV] leaf_size=40, n_neighbors=3, weights=distance ...................\n",
      "[CV] .... leaf_size=40, n_neighbors=3, weights=distance, total=   0.1s\n",
      "[CV] leaf_size=40, n_neighbors=3, weights=distance ...................\n",
      "[CV] .... leaf_size=40, n_neighbors=3, weights=distance, total=   0.1s\n",
      "[CV] leaf_size=40, n_neighbors=3, weights=distance ...................\n",
      "[CV] .... leaf_size=40, n_neighbors=3, weights=distance, total=   0.1s\n",
      "[CV] leaf_size=40, n_neighbors=5, weights=uniform ....................\n",
      "[CV] ..... leaf_size=40, n_neighbors=5, weights=uniform, total=   0.1s\n",
      "[CV] leaf_size=40, n_neighbors=5, weights=uniform ....................\n",
      "[CV] ..... leaf_size=40, n_neighbors=5, weights=uniform, total=   0.1s\n",
      "[CV] leaf_size=40, n_neighbors=5, weights=uniform ....................\n",
      "[CV] ..... leaf_size=40, n_neighbors=5, weights=uniform, total=   0.1s\n",
      "[CV] leaf_size=40, n_neighbors=5, weights=uniform ....................\n",
      "[CV] ..... leaf_size=40, n_neighbors=5, weights=uniform, total=   0.1s\n",
      "[CV] leaf_size=40, n_neighbors=5, weights=uniform ....................\n",
      "[CV] ..... leaf_size=40, n_neighbors=5, weights=uniform, total=   0.1s\n",
      "[CV] leaf_size=40, n_neighbors=5, weights=distance ...................\n",
      "[CV] .... leaf_size=40, n_neighbors=5, weights=distance, total=   0.1s\n",
      "[CV] leaf_size=40, n_neighbors=5, weights=distance ...................\n",
      "[CV] .... leaf_size=40, n_neighbors=5, weights=distance, total=   0.1s\n",
      "[CV] leaf_size=40, n_neighbors=5, weights=distance ...................\n",
      "[CV] .... leaf_size=40, n_neighbors=5, weights=distance, total=   0.1s\n",
      "[CV] leaf_size=40, n_neighbors=5, weights=distance ...................\n",
      "[CV] .... leaf_size=40, n_neighbors=5, weights=distance, total=   0.1s\n",
      "[CV] leaf_size=40, n_neighbors=5, weights=distance ...................\n",
      "[CV] .... leaf_size=40, n_neighbors=5, weights=distance, total=   0.1s\n",
      "[CV] leaf_size=40, n_neighbors=7, weights=uniform ....................\n",
      "[CV] ..... leaf_size=40, n_neighbors=7, weights=uniform, total=   0.1s\n",
      "[CV] leaf_size=40, n_neighbors=7, weights=uniform ....................\n",
      "[CV] ..... leaf_size=40, n_neighbors=7, weights=uniform, total=   0.1s\n",
      "[CV] leaf_size=40, n_neighbors=7, weights=uniform ....................\n",
      "[CV] ..... leaf_size=40, n_neighbors=7, weights=uniform, total=   0.1s\n",
      "[CV] leaf_size=40, n_neighbors=7, weights=uniform ....................\n",
      "[CV] ..... leaf_size=40, n_neighbors=7, weights=uniform, total=   0.1s\n",
      "[CV] leaf_size=40, n_neighbors=7, weights=uniform ....................\n",
      "[CV] ..... leaf_size=40, n_neighbors=7, weights=uniform, total=   0.1s\n",
      "[CV] leaf_size=40, n_neighbors=7, weights=distance ...................\n",
      "[CV] .... leaf_size=40, n_neighbors=7, weights=distance, total=   0.1s\n",
      "[CV] leaf_size=40, n_neighbors=7, weights=distance ...................\n",
      "[CV] .... leaf_size=40, n_neighbors=7, weights=distance, total=   0.1s\n",
      "[CV] leaf_size=40, n_neighbors=7, weights=distance ...................\n",
      "[CV] .... leaf_size=40, n_neighbors=7, weights=distance, total=   0.1s\n",
      "[CV] leaf_size=40, n_neighbors=7, weights=distance ...................\n",
      "[CV] .... leaf_size=40, n_neighbors=7, weights=distance, total=   0.1s\n",
      "[CV] leaf_size=40, n_neighbors=7, weights=distance ...................\n",
      "[CV] .... leaf_size=40, n_neighbors=7, weights=distance, total=   0.1s\n",
      "[CV] leaf_size=50, n_neighbors=3, weights=uniform ....................\n",
      "[CV] ..... leaf_size=50, n_neighbors=3, weights=uniform, total=   0.1s\n",
      "[CV] leaf_size=50, n_neighbors=3, weights=uniform ....................\n",
      "[CV] ..... leaf_size=50, n_neighbors=3, weights=uniform, total=   0.1s\n",
      "[CV] leaf_size=50, n_neighbors=3, weights=uniform ....................\n",
      "[CV] ..... leaf_size=50, n_neighbors=3, weights=uniform, total=   0.1s\n",
      "[CV] leaf_size=50, n_neighbors=3, weights=uniform ....................\n",
      "[CV] ..... leaf_size=50, n_neighbors=3, weights=uniform, total=   0.1s\n",
      "[CV] leaf_size=50, n_neighbors=3, weights=uniform ....................\n",
      "[CV] ..... leaf_size=50, n_neighbors=3, weights=uniform, total=   0.1s\n",
      "[CV] leaf_size=50, n_neighbors=3, weights=distance ...................\n",
      "[CV] .... leaf_size=50, n_neighbors=3, weights=distance, total=   0.1s\n",
      "[CV] leaf_size=50, n_neighbors=3, weights=distance ...................\n",
      "[CV] .... leaf_size=50, n_neighbors=3, weights=distance, total=   0.1s\n",
      "[CV] leaf_size=50, n_neighbors=3, weights=distance ...................\n",
      "[CV] .... leaf_size=50, n_neighbors=3, weights=distance, total=   0.1s\n",
      "[CV] leaf_size=50, n_neighbors=3, weights=distance ...................\n",
      "[CV] .... leaf_size=50, n_neighbors=3, weights=distance, total=   0.1s\n",
      "[CV] leaf_size=50, n_neighbors=3, weights=distance ...................\n",
      "[CV] .... leaf_size=50, n_neighbors=3, weights=distance, total=   0.1s\n",
      "[CV] leaf_size=50, n_neighbors=5, weights=uniform ....................\n",
      "[CV] ..... leaf_size=50, n_neighbors=5, weights=uniform, total=   0.1s\n",
      "[CV] leaf_size=50, n_neighbors=5, weights=uniform ....................\n",
      "[CV] ..... leaf_size=50, n_neighbors=5, weights=uniform, total=   0.1s\n",
      "[CV] leaf_size=50, n_neighbors=5, weights=uniform ....................\n",
      "[CV] ..... leaf_size=50, n_neighbors=5, weights=uniform, total=   0.1s\n",
      "[CV] leaf_size=50, n_neighbors=5, weights=uniform ....................\n",
      "[CV] ..... leaf_size=50, n_neighbors=5, weights=uniform, total=   0.1s\n",
      "[CV] leaf_size=50, n_neighbors=5, weights=uniform ....................\n",
      "[CV] ..... leaf_size=50, n_neighbors=5, weights=uniform, total=   0.1s\n",
      "[CV] leaf_size=50, n_neighbors=5, weights=distance ...................\n",
      "[CV] .... leaf_size=50, n_neighbors=5, weights=distance, total=   0.1s\n",
      "[CV] leaf_size=50, n_neighbors=5, weights=distance ...................\n",
      "[CV] .... leaf_size=50, n_neighbors=5, weights=distance, total=   0.1s\n",
      "[CV] leaf_size=50, n_neighbors=5, weights=distance ...................\n",
      "[CV] .... leaf_size=50, n_neighbors=5, weights=distance, total=   0.1s\n",
      "[CV] leaf_size=50, n_neighbors=5, weights=distance ...................\n",
      "[CV] .... leaf_size=50, n_neighbors=5, weights=distance, total=   0.1s\n",
      "[CV] leaf_size=50, n_neighbors=5, weights=distance ...................\n",
      "[CV] .... leaf_size=50, n_neighbors=5, weights=distance, total=   0.1s\n",
      "[CV] leaf_size=50, n_neighbors=7, weights=uniform ....................\n",
      "[CV] ..... leaf_size=50, n_neighbors=7, weights=uniform, total=   0.1s\n",
      "[CV] leaf_size=50, n_neighbors=7, weights=uniform ....................\n",
      "[CV] ..... leaf_size=50, n_neighbors=7, weights=uniform, total=   0.1s\n",
      "[CV] leaf_size=50, n_neighbors=7, weights=uniform ....................\n",
      "[CV] ..... leaf_size=50, n_neighbors=7, weights=uniform, total=   0.1s\n",
      "[CV] leaf_size=50, n_neighbors=7, weights=uniform ....................\n",
      "[CV] ..... leaf_size=50, n_neighbors=7, weights=uniform, total=   0.1s\n",
      "[CV] leaf_size=50, n_neighbors=7, weights=uniform ....................\n",
      "[CV] ..... leaf_size=50, n_neighbors=7, weights=uniform, total=   0.1s\n",
      "[CV] leaf_size=50, n_neighbors=7, weights=distance ...................\n",
      "[CV] .... leaf_size=50, n_neighbors=7, weights=distance, total=   0.1s\n",
      "[CV] leaf_size=50, n_neighbors=7, weights=distance ...................\n",
      "[CV] .... leaf_size=50, n_neighbors=7, weights=distance, total=   0.1s\n",
      "[CV] leaf_size=50, n_neighbors=7, weights=distance ...................\n",
      "[CV] .... leaf_size=50, n_neighbors=7, weights=distance, total=   0.1s\n",
      "[CV] leaf_size=50, n_neighbors=7, weights=distance ...................\n",
      "[CV] .... leaf_size=50, n_neighbors=7, weights=distance, total=   0.1s\n",
      "[CV] leaf_size=50, n_neighbors=7, weights=distance ...................\n",
      "[CV] .... leaf_size=50, n_neighbors=7, weights=distance, total=   0.1s\n"
     ]
    },
    {
     "name": "stderr",
     "output_type": "stream",
     "text": [
      "[Parallel(n_jobs=1)]: Done 180 out of 180 | elapsed:   47.6s finished\n"
     ]
    },
    {
     "data": {
      "text/plain": [
       "GridSearchCV(cv=5, error_score='raise',\n",
       "       estimator=KNeighborsRegressor(algorithm='auto', leaf_size=30, metric='minkowski',\n",
       "          metric_params=None, n_jobs=1, n_neighbors=5, p=2,\n",
       "          weights='uniform'),\n",
       "       fit_params={}, iid=True, n_jobs=1,\n",
       "       param_grid={'leaf_size': [5, 10, 20, 30, 40, 50], 'n_neighbors': [3, 5, 7], 'weights': ['uniform', 'distance']},\n",
       "       pre_dispatch='2*n_jobs', refit=True, return_train_score=True,\n",
       "       scoring=make_scorer(rmse_scorer), verbose=2)"
      ]
     },
     "execution_count": 181,
     "metadata": {},
     "output_type": "execute_result"
    }
   ],
   "source": [
    "knn = KNeighborsRegressor()\n",
    "param_grid_knn = {\n",
    "    'n_neighbors': [3, 5, 7],\n",
    "    'weights': ['uniform', 'distance'],\n",
    "    'leaf_size': [5 ,10, 20, 30, 40, 50]\n",
    "}\n",
    "CV_knn = GridSearchCV(knn, param_grid_knn, scoring=rmse, cv=5, verbose=2)\n",
    "CV_knn.fit(X, y)"
   ]
  },
  {
   "cell_type": "code",
   "execution_count": 182,
   "metadata": {
    "collapsed": false
   },
   "outputs": [
    {
     "name": "stdout",
     "output_type": "stream",
     "text": [
      "best score: 36.5171332432 \n",
      "with parameters: {'leaf_size': 5, 'n_neighbors': 3, 'weights': 'distance'}\n"
     ]
    }
   ],
   "source": [
    "print('best score:', CV_knn.best_score_, '\\nwith parameters:', CV_knn.best_params_)"
   ]
  },
  {
   "cell_type": "code",
   "execution_count": 183,
   "metadata": {
    "collapsed": true
   },
   "outputs": [],
   "source": [
    "best_knn = KNeighborsRegressor(leaf_size=5, n_neighbors=3, weights='distance')"
   ]
  },
  {
   "cell_type": "code",
   "execution_count": 184,
   "metadata": {
    "collapsed": false
   },
   "outputs": [
    {
     "data": {
      "image/png": "[encoded data removed]",
      "text/plain": [
       "<matplotlib.figure.Figure at 0x118b7f128>"
      ]
     },
     "metadata": {},
     "output_type": "display_data"
    }
   ],
   "source": [
    "plot_learning_curve(best_knn, 'Learning curve for KNN', X, y);"
   ]
  },
  {
   "cell_type": "markdown",
   "metadata": {},
   "source": [
    "From this plot we can see that KNN is clearly overfitting, we should increase the number of neighbors to reduce the model complexity"
   ]
  },
  {
   "cell_type": "code",
   "execution_count": 188,
   "metadata": {
    "collapsed": false,
    "scrolled": true
   },
   "outputs": [
    {
     "name": "stdout",
     "output_type": "stream",
     "text": [
      "Fitting 5 folds for each of 18 candidates, totalling 90 fits\n",
      "[CV] leaf_size=2, n_neighbors=10, weights=uniform ....................\n",
      "[CV] ..... leaf_size=2, n_neighbors=10, weights=uniform, total=   0.1s\n",
      "[CV] leaf_size=2, n_neighbors=10, weights=uniform ....................\n"
     ]
    },
    {
     "name": "stderr",
     "output_type": "stream",
     "text": [
      "[Parallel(n_jobs=1)]: Done   1 out of   1 | elapsed:    0.5s remaining:    0.0s\n"
     ]
    },
    {
     "name": "stdout",
     "output_type": "stream",
     "text": [
      "[CV] ..... leaf_size=2, n_neighbors=10, weights=uniform, total=   0.1s\n",
      "[CV] leaf_size=2, n_neighbors=10, weights=uniform ....................\n",
      "[CV] ..... leaf_size=2, n_neighbors=10, weights=uniform, total=   0.1s\n",
      "[CV] leaf_size=2, n_neighbors=10, weights=uniform ....................\n",
      "[CV] ..... leaf_size=2, n_neighbors=10, weights=uniform, total=   0.1s\n",
      "[CV] leaf_size=2, n_neighbors=10, weights=uniform ....................\n",
      "[CV] ..... leaf_size=2, n_neighbors=10, weights=uniform, total=   0.1s\n",
      "[CV] leaf_size=2, n_neighbors=10, weights=distance ...................\n",
      "[CV] .... leaf_size=2, n_neighbors=10, weights=distance, total=   0.1s\n",
      "[CV] leaf_size=2, n_neighbors=10, weights=distance ...................\n",
      "[CV] .... leaf_size=2, n_neighbors=10, weights=distance, total=   0.1s\n",
      "[CV] leaf_size=2, n_neighbors=10, weights=distance ...................\n",
      "[CV] .... leaf_size=2, n_neighbors=10, weights=distance, total=   0.2s\n",
      "[CV] leaf_size=2, n_neighbors=10, weights=distance ...................\n",
      "[CV] .... leaf_size=2, n_neighbors=10, weights=distance, total=   0.1s\n",
      "[CV] leaf_size=2, n_neighbors=10, weights=distance ...................\n",
      "[CV] .... leaf_size=2, n_neighbors=10, weights=distance, total=   0.1s\n",
      "[CV] leaf_size=2, n_neighbors=11, weights=uniform ....................\n",
      "[CV] ..... leaf_size=2, n_neighbors=11, weights=uniform, total=   0.2s\n",
      "[CV] leaf_size=2, n_neighbors=11, weights=uniform ....................\n",
      "[CV] ..... leaf_size=2, n_neighbors=11, weights=uniform, total=   0.2s\n",
      "[CV] leaf_size=2, n_neighbors=11, weights=uniform ....................\n",
      "[CV] ..... leaf_size=2, n_neighbors=11, weights=uniform, total=   0.4s\n",
      "[CV] leaf_size=2, n_neighbors=11, weights=uniform ....................\n",
      "[CV] ..... leaf_size=2, n_neighbors=11, weights=uniform, total=   0.2s\n",
      "[CV] leaf_size=2, n_neighbors=11, weights=uniform ....................\n",
      "[CV] ..... leaf_size=2, n_neighbors=11, weights=uniform, total=   0.2s\n",
      "[CV] leaf_size=2, n_neighbors=11, weights=distance ...................\n",
      "[CV] .... leaf_size=2, n_neighbors=11, weights=distance, total=   0.2s\n",
      "[CV] leaf_size=2, n_neighbors=11, weights=distance ...................\n",
      "[CV] .... leaf_size=2, n_neighbors=11, weights=distance, total=   0.1s\n",
      "[CV] leaf_size=2, n_neighbors=11, weights=distance ...................\n",
      "[CV] .... leaf_size=2, n_neighbors=11, weights=distance, total=   0.2s\n",
      "[CV] leaf_size=2, n_neighbors=11, weights=distance ...................\n",
      "[CV] .... leaf_size=2, n_neighbors=11, weights=distance, total=   0.1s\n",
      "[CV] leaf_size=2, n_neighbors=11, weights=distance ...................\n",
      "[CV] .... leaf_size=2, n_neighbors=11, weights=distance, total=   0.2s\n",
      "[CV] leaf_size=2, n_neighbors=12, weights=uniform ....................\n",
      "[CV] ..... leaf_size=2, n_neighbors=12, weights=uniform, total=   0.3s\n",
      "[CV] leaf_size=2, n_neighbors=12, weights=uniform ....................\n",
      "[CV] ..... leaf_size=2, n_neighbors=12, weights=uniform, total=   0.1s\n",
      "[CV] leaf_size=2, n_neighbors=12, weights=uniform ....................\n",
      "[CV] ..... leaf_size=2, n_neighbors=12, weights=uniform, total=   0.1s\n",
      "[CV] leaf_size=2, n_neighbors=12, weights=uniform ....................\n",
      "[CV] ..... leaf_size=2, n_neighbors=12, weights=uniform, total=   0.1s\n",
      "[CV] leaf_size=2, n_neighbors=12, weights=uniform ....................\n",
      "[CV] ..... leaf_size=2, n_neighbors=12, weights=uniform, total=   0.1s\n",
      "[CV] leaf_size=2, n_neighbors=12, weights=distance ...................\n",
      "[CV] .... leaf_size=2, n_neighbors=12, weights=distance, total=   0.1s\n",
      "[CV] leaf_size=2, n_neighbors=12, weights=distance ...................\n",
      "[CV] .... leaf_size=2, n_neighbors=12, weights=distance, total=   0.1s\n",
      "[CV] leaf_size=2, n_neighbors=12, weights=distance ...................\n",
      "[CV] .... leaf_size=2, n_neighbors=12, weights=distance, total=   0.1s\n",
      "[CV] leaf_size=2, n_neighbors=12, weights=distance ...................\n",
      "[CV] .... leaf_size=2, n_neighbors=12, weights=distance, total=   0.1s\n",
      "[CV] leaf_size=2, n_neighbors=12, weights=distance ...................\n",
      "[CV] .... leaf_size=2, n_neighbors=12, weights=distance, total=   0.1s\n",
      "[CV] leaf_size=5, n_neighbors=10, weights=uniform ....................\n",
      "[CV] ..... leaf_size=5, n_neighbors=10, weights=uniform, total=   0.1s\n",
      "[CV] leaf_size=5, n_neighbors=10, weights=uniform ....................\n",
      "[CV] ..... leaf_size=5, n_neighbors=10, weights=uniform, total=   0.1s\n",
      "[CV] leaf_size=5, n_neighbors=10, weights=uniform ....................\n",
      "[CV] ..... leaf_size=5, n_neighbors=10, weights=uniform, total=   0.1s\n",
      "[CV] leaf_size=5, n_neighbors=10, weights=uniform ....................\n",
      "[CV] ..... leaf_size=5, n_neighbors=10, weights=uniform, total=   0.1s\n",
      "[CV] leaf_size=5, n_neighbors=10, weights=uniform ....................\n",
      "[CV] ..... leaf_size=5, n_neighbors=10, weights=uniform, total=   0.1s\n",
      "[CV] leaf_size=5, n_neighbors=10, weights=distance ...................\n",
      "[CV] .... leaf_size=5, n_neighbors=10, weights=distance, total=   0.1s\n",
      "[CV] leaf_size=5, n_neighbors=10, weights=distance ...................\n",
      "[CV] .... leaf_size=5, n_neighbors=10, weights=distance, total=   0.1s\n",
      "[CV] leaf_size=5, n_neighbors=10, weights=distance ...................\n",
      "[CV] .... leaf_size=5, n_neighbors=10, weights=distance, total=   0.1s\n",
      "[CV] leaf_size=5, n_neighbors=10, weights=distance ...................\n",
      "[CV] .... leaf_size=5, n_neighbors=10, weights=distance, total=   0.1s\n",
      "[CV] leaf_size=5, n_neighbors=10, weights=distance ...................\n",
      "[CV] .... leaf_size=5, n_neighbors=10, weights=distance, total=   0.1s\n",
      "[CV] leaf_size=5, n_neighbors=11, weights=uniform ....................\n",
      "[CV] ..... leaf_size=5, n_neighbors=11, weights=uniform, total=   0.1s\n",
      "[CV] leaf_size=5, n_neighbors=11, weights=uniform ....................\n",
      "[CV] ..... leaf_size=5, n_neighbors=11, weights=uniform, total=   0.1s\n",
      "[CV] leaf_size=5, n_neighbors=11, weights=uniform ....................\n",
      "[CV] ..... leaf_size=5, n_neighbors=11, weights=uniform, total=   0.1s\n",
      "[CV] leaf_size=5, n_neighbors=11, weights=uniform ....................\n",
      "[CV] ..... leaf_size=5, n_neighbors=11, weights=uniform, total=   0.1s\n",
      "[CV] leaf_size=5, n_neighbors=11, weights=uniform ....................\n",
      "[CV] ..... leaf_size=5, n_neighbors=11, weights=uniform, total=   0.1s\n",
      "[CV] leaf_size=5, n_neighbors=11, weights=distance ...................\n",
      "[CV] .... leaf_size=5, n_neighbors=11, weights=distance, total=   0.1s\n",
      "[CV] leaf_size=5, n_neighbors=11, weights=distance ...................\n",
      "[CV] .... leaf_size=5, n_neighbors=11, weights=distance, total=   0.1s\n",
      "[CV] leaf_size=5, n_neighbors=11, weights=distance ...................\n",
      "[CV] .... leaf_size=5, n_neighbors=11, weights=distance, total=   0.1s\n",
      "[CV] leaf_size=5, n_neighbors=11, weights=distance ...................\n",
      "[CV] .... leaf_size=5, n_neighbors=11, weights=distance, total=   0.1s\n",
      "[CV] leaf_size=5, n_neighbors=11, weights=distance ...................\n",
      "[CV] .... leaf_size=5, n_neighbors=11, weights=distance, total=   0.1s\n",
      "[CV] leaf_size=5, n_neighbors=12, weights=uniform ....................\n",
      "[CV] ..... leaf_size=5, n_neighbors=12, weights=uniform, total=   0.1s\n",
      "[CV] leaf_size=5, n_neighbors=12, weights=uniform ....................\n",
      "[CV] ..... leaf_size=5, n_neighbors=12, weights=uniform, total=   0.1s\n",
      "[CV] leaf_size=5, n_neighbors=12, weights=uniform ....................\n",
      "[CV] ..... leaf_size=5, n_neighbors=12, weights=uniform, total=   0.1s\n",
      "[CV] leaf_size=5, n_neighbors=12, weights=uniform ....................\n",
      "[CV] ..... leaf_size=5, n_neighbors=12, weights=uniform, total=   0.1s\n",
      "[CV] leaf_size=5, n_neighbors=12, weights=uniform ....................\n",
      "[CV] ..... leaf_size=5, n_neighbors=12, weights=uniform, total=   0.1s\n",
      "[CV] leaf_size=5, n_neighbors=12, weights=distance ...................\n",
      "[CV] .... leaf_size=5, n_neighbors=12, weights=distance, total=   0.1s\n",
      "[CV] leaf_size=5, n_neighbors=12, weights=distance ...................\n",
      "[CV] .... leaf_size=5, n_neighbors=12, weights=distance, total=   0.1s\n",
      "[CV] leaf_size=5, n_neighbors=12, weights=distance ...................\n",
      "[CV] .... leaf_size=5, n_neighbors=12, weights=distance, total=   0.1s\n",
      "[CV] leaf_size=5, n_neighbors=12, weights=distance ...................\n",
      "[CV] .... leaf_size=5, n_neighbors=12, weights=distance, total=   0.1s\n",
      "[CV] leaf_size=5, n_neighbors=12, weights=distance ...................\n",
      "[CV] .... leaf_size=5, n_neighbors=12, weights=distance, total=   0.1s\n",
      "[CV] leaf_size=10, n_neighbors=10, weights=uniform ...................\n",
      "[CV] .... leaf_size=10, n_neighbors=10, weights=uniform, total=   0.1s\n",
      "[CV] leaf_size=10, n_neighbors=10, weights=uniform ...................\n",
      "[CV] .... leaf_size=10, n_neighbors=10, weights=uniform, total=   0.1s\n",
      "[CV] leaf_size=10, n_neighbors=10, weights=uniform ...................\n",
      "[CV] .... leaf_size=10, n_neighbors=10, weights=uniform, total=   0.1s\n",
      "[CV] leaf_size=10, n_neighbors=10, weights=uniform ...................\n",
      "[CV] .... leaf_size=10, n_neighbors=10, weights=uniform, total=   0.1s\n",
      "[CV] leaf_size=10, n_neighbors=10, weights=uniform ...................\n",
      "[CV] .... leaf_size=10, n_neighbors=10, weights=uniform, total=   0.1s\n",
      "[CV] leaf_size=10, n_neighbors=10, weights=distance ..................\n",
      "[CV] ... leaf_size=10, n_neighbors=10, weights=distance, total=   0.1s\n",
      "[CV] leaf_size=10, n_neighbors=10, weights=distance ..................\n",
      "[CV] ... leaf_size=10, n_neighbors=10, weights=distance, total=   0.1s\n",
      "[CV] leaf_size=10, n_neighbors=10, weights=distance ..................\n",
      "[CV] ... leaf_size=10, n_neighbors=10, weights=distance, total=   0.1s\n",
      "[CV] leaf_size=10, n_neighbors=10, weights=distance ..................\n",
      "[CV] ... leaf_size=10, n_neighbors=10, weights=distance, total=   0.1s\n",
      "[CV] leaf_size=10, n_neighbors=10, weights=distance ..................\n",
      "[CV] ... leaf_size=10, n_neighbors=10, weights=distance, total=   0.1s\n",
      "[CV] leaf_size=10, n_neighbors=11, weights=uniform ...................\n",
      "[CV] .... leaf_size=10, n_neighbors=11, weights=uniform, total=   0.1s\n",
      "[CV] leaf_size=10, n_neighbors=11, weights=uniform ...................\n",
      "[CV] .... leaf_size=10, n_neighbors=11, weights=uniform, total=   0.1s\n",
      "[CV] leaf_size=10, n_neighbors=11, weights=uniform ...................\n",
      "[CV] .... leaf_size=10, n_neighbors=11, weights=uniform, total=   0.1s\n",
      "[CV] leaf_size=10, n_neighbors=11, weights=uniform ...................\n",
      "[CV] .... leaf_size=10, n_neighbors=11, weights=uniform, total=   0.1s\n",
      "[CV] leaf_size=10, n_neighbors=11, weights=uniform ...................\n",
      "[CV] .... leaf_size=10, n_neighbors=11, weights=uniform, total=   0.1s\n",
      "[CV] leaf_size=10, n_neighbors=11, weights=distance ..................\n",
      "[CV] ... leaf_size=10, n_neighbors=11, weights=distance, total=   0.1s\n",
      "[CV] leaf_size=10, n_neighbors=11, weights=distance ..................\n",
      "[CV] ... leaf_size=10, n_neighbors=11, weights=distance, total=   0.1s\n",
      "[CV] leaf_size=10, n_neighbors=11, weights=distance ..................\n",
      "[CV] ... leaf_size=10, n_neighbors=11, weights=distance, total=   0.1s\n",
      "[CV] leaf_size=10, n_neighbors=11, weights=distance ..................\n",
      "[CV] ... leaf_size=10, n_neighbors=11, weights=distance, total=   0.1s\n",
      "[CV] leaf_size=10, n_neighbors=11, weights=distance ..................\n",
      "[CV] ... leaf_size=10, n_neighbors=11, weights=distance, total=   0.1s\n",
      "[CV] leaf_size=10, n_neighbors=12, weights=uniform ...................\n",
      "[CV] .... leaf_size=10, n_neighbors=12, weights=uniform, total=   0.1s\n",
      "[CV] leaf_size=10, n_neighbors=12, weights=uniform ...................\n",
      "[CV] .... leaf_size=10, n_neighbors=12, weights=uniform, total=   0.1s\n",
      "[CV] leaf_size=10, n_neighbors=12, weights=uniform ...................\n",
      "[CV] .... leaf_size=10, n_neighbors=12, weights=uniform, total=   0.1s\n",
      "[CV] leaf_size=10, n_neighbors=12, weights=uniform ...................\n",
      "[CV] .... leaf_size=10, n_neighbors=12, weights=uniform, total=   0.1s\n",
      "[CV] leaf_size=10, n_neighbors=12, weights=uniform ...................\n",
      "[CV] .... leaf_size=10, n_neighbors=12, weights=uniform, total=   0.1s\n",
      "[CV] leaf_size=10, n_neighbors=12, weights=distance ..................\n",
      "[CV] ... leaf_size=10, n_neighbors=12, weights=distance, total=   0.1s\n",
      "[CV] leaf_size=10, n_neighbors=12, weights=distance ..................\n",
      "[CV] ... leaf_size=10, n_neighbors=12, weights=distance, total=   0.1s\n",
      "[CV] leaf_size=10, n_neighbors=12, weights=distance ..................\n",
      "[CV] ... leaf_size=10, n_neighbors=12, weights=distance, total=   0.1s\n",
      "[CV] leaf_size=10, n_neighbors=12, weights=distance ..................\n",
      "[CV] ... leaf_size=10, n_neighbors=12, weights=distance, total=   0.1s\n",
      "[CV] leaf_size=10, n_neighbors=12, weights=distance ..................\n",
      "[CV] ... leaf_size=10, n_neighbors=12, weights=distance, total=   0.1s\n"
     ]
    },
    {
     "name": "stderr",
     "output_type": "stream",
     "text": [
      "[Parallel(n_jobs=1)]: Done  90 out of  90 | elapsed:   35.6s finished\n"
     ]
    },
    {
     "data": {
      "text/plain": [
       "GridSearchCV(cv=5, error_score='raise',\n",
       "       estimator=KNeighborsRegressor(algorithm='auto', leaf_size=30, metric='minkowski',\n",
       "          metric_params=None, n_jobs=1, n_neighbors=5, p=2,\n",
       "          weights='uniform'),\n",
       "       fit_params={}, iid=True, n_jobs=1,\n",
       "       param_grid={'leaf_size': [2, 5, 10], 'n_neighbors': [10, 11, 12], 'weights': ['uniform', 'distance']},\n",
       "       pre_dispatch='2*n_jobs', refit=True, return_train_score=True,\n",
       "       scoring=make_scorer(rmse_scorer), verbose=2)"
      ]
     },
     "execution_count": 188,
     "metadata": {},
     "output_type": "execute_result"
    }
   ],
   "source": [
    "knn2 = KNeighborsRegressor()\n",
    "param_grid_knn2 = {\n",
    "    'n_neighbors': [10, 11, 12],\n",
    "    'weights': ['uniform', 'distance'],\n",
    "    'leaf_size': [2, 5 ,10]\n",
    "}\n",
    "CV_knn2 = GridSearchCV(knn, param_grid_knn2, scoring=rmse, cv=5, verbose=2)\n",
    "CV_knn2.fit(X, y)"
   ]
  },
  {
   "cell_type": "code",
   "execution_count": 189,
   "metadata": {
    "collapsed": false
   },
   "outputs": [
    {
     "name": "stdout",
     "output_type": "stream",
     "text": [
      "best score: 33.8769185425 \n",
      "with parameters: {'leaf_size': 10, 'n_neighbors': 10, 'weights': 'distance'}\n"
     ]
    }
   ],
   "source": [
    "print('best score:', CV_knn2.best_score_, '\\nwith parameters:', CV_knn2.best_params_)"
   ]
  },
  {
   "cell_type": "code",
   "execution_count": 190,
   "metadata": {
    "collapsed": false
   },
   "outputs": [
    {
     "data": {
      "image/png": "[encoded data removed]",
      "text/plain": [
       "<matplotlib.figure.Figure at 0x10ff05cc0>"
      ]
     },
     "metadata": {},
     "output_type": "display_data"
    }
   ],
   "source": [
    "best_knn2 = KNeighborsRegressor(leaf_size=10, n_neighbors=5, weights='distance')\n",
    "plot_learning_curve(best_knn2, 'Learning curve for KNN', X, y);"
   ]
  },
  {
   "cell_type": "markdown",
   "metadata": {},
   "source": [
    "## Import test data"
   ]
  },
  {
   "cell_type": "code",
   "execution_count": 191,
   "metadata": {
    "collapsed": true
   },
   "outputs": [],
   "source": [
    "test_df = pd.read_csv('OutputTable_test.csv')\n",
    "test_df.fillna(0, inplace=True)\n",
    "test_df.query('SubmissionNumber > 0', inplace=True)\n",
    "test_df['NVideoAndForum'] = test_df['NVideoEvents'].add(test_df['NForumEvents'])"
   ]
  },
  {
   "cell_type": "code",
   "execution_count": 195,
   "metadata": {
    "collapsed": false
   },
   "outputs": [
    {
     "data": {
      "text/html": [
       "<div>\n",
       "<table border=\"1\" class=\"dataframe\">\n",
       "  <thead>\n",
       "    <tr style=\"text-align: right;\">\n",
       "      <th></th>\n",
       "      <th></th>\n",
       "      <th>log_NVideoEvents</th>\n",
       "      <th>NumberVideoWatched</th>\n",
       "      <th>TotalNumberOfSubmissions</th>\n",
       "      <th>DurationOfVideoActivity</th>\n",
       "      <th>log_AvgTimeBwSubs</th>\n",
       "      <th>NForumEvents</th>\n",
       "      <th>log_NForumEvents</th>\n",
       "      <th>log_TimeSpentOnForum</th>\n",
       "      <th>NumberOfPosts</th>\n",
       "      <th>NumberOfThreadViews</th>\n",
       "      <th>NumberOfVideoInteractions</th>\n",
       "      <th>log_TotalNVideoAndFom</th>\n",
       "      <th>ActivityRate</th>\n",
       "      <th>GradeDiff</th>\n",
       "      <th>NumberOfThreadCreated</th>\n",
       "      <th>RewatchingScore</th>\n",
       "      <th>NumberOfUpvotes</th>\n",
       "      <th>MeanProblemSubmissionNumber</th>\n",
       "    </tr>\n",
       "    <tr>\n",
       "      <th>UserID</th>\n",
       "      <th>ProblemID</th>\n",
       "      <th></th>\n",
       "      <th></th>\n",
       "      <th></th>\n",
       "      <th></th>\n",
       "      <th></th>\n",
       "      <th></th>\n",
       "      <th></th>\n",
       "      <th></th>\n",
       "      <th></th>\n",
       "      <th></th>\n",
       "      <th></th>\n",
       "      <th></th>\n",
       "      <th></th>\n",
       "      <th></th>\n",
       "      <th></th>\n",
       "      <th></th>\n",
       "      <th></th>\n",
       "      <th></th>\n",
       "    </tr>\n",
       "  </thead>\n",
       "  <tbody>\n",
       "    <tr>\n",
       "      <th rowspan=\"4\" valign=\"top\">000143a7618ac9cae91b0bf7d059c1fd</th>\n",
       "      <th>4</th>\n",
       "      <td>0.000000</td>\n",
       "      <td>0.0</td>\n",
       "      <td>2</td>\n",
       "      <td>0.0</td>\n",
       "      <td>5.209486</td>\n",
       "      <td>0.0</td>\n",
       "      <td>0.0</td>\n",
       "      <td>0.0</td>\n",
       "      <td>0.0</td>\n",
       "      <td>0.0</td>\n",
       "      <td>0.0</td>\n",
       "      <td>0.000000</td>\n",
       "      <td>0.0</td>\n",
       "      <td>0.0</td>\n",
       "      <td>0.0</td>\n",
       "      <td>0.0</td>\n",
       "      <td>0.0</td>\n",
       "      <td>4.724490</td>\n",
       "    </tr>\n",
       "    <tr>\n",
       "      <th>5</th>\n",
       "      <td>0.000000</td>\n",
       "      <td>0.0</td>\n",
       "      <td>13</td>\n",
       "      <td>0.0</td>\n",
       "      <td>8.222636</td>\n",
       "      <td>0.0</td>\n",
       "      <td>0.0</td>\n",
       "      <td>0.0</td>\n",
       "      <td>0.0</td>\n",
       "      <td>0.0</td>\n",
       "      <td>0.0</td>\n",
       "      <td>0.000000</td>\n",
       "      <td>0.0</td>\n",
       "      <td>0.0</td>\n",
       "      <td>0.0</td>\n",
       "      <td>0.0</td>\n",
       "      <td>0.0</td>\n",
       "      <td>5.255208</td>\n",
       "    </tr>\n",
       "    <tr>\n",
       "      <th>6</th>\n",
       "      <td>0.000000</td>\n",
       "      <td>0.0</td>\n",
       "      <td>2</td>\n",
       "      <td>0.0</td>\n",
       "      <td>6.791783</td>\n",
       "      <td>0.0</td>\n",
       "      <td>0.0</td>\n",
       "      <td>0.0</td>\n",
       "      <td>0.0</td>\n",
       "      <td>0.0</td>\n",
       "      <td>0.0</td>\n",
       "      <td>0.000000</td>\n",
       "      <td>0.0</td>\n",
       "      <td>0.0</td>\n",
       "      <td>0.0</td>\n",
       "      <td>0.0</td>\n",
       "      <td>0.0</td>\n",
       "      <td>2.746269</td>\n",
       "    </tr>\n",
       "    <tr>\n",
       "      <th>7</th>\n",
       "      <td>0.000000</td>\n",
       "      <td>0.0</td>\n",
       "      <td>2</td>\n",
       "      <td>0.0</td>\n",
       "      <td>6.280396</td>\n",
       "      <td>0.0</td>\n",
       "      <td>0.0</td>\n",
       "      <td>0.0</td>\n",
       "      <td>0.0</td>\n",
       "      <td>0.0</td>\n",
       "      <td>0.0</td>\n",
       "      <td>0.000000</td>\n",
       "      <td>0.0</td>\n",
       "      <td>0.0</td>\n",
       "      <td>0.0</td>\n",
       "      <td>0.0</td>\n",
       "      <td>0.0</td>\n",
       "      <td>4.996667</td>\n",
       "    </tr>\n",
       "    <tr>\n",
       "      <th>0019bbc70f71e4620273237a1e99bfde</th>\n",
       "      <th>1</th>\n",
       "      <td>5.283204</td>\n",
       "      <td>14.0</td>\n",
       "      <td>2</td>\n",
       "      <td>977978.0</td>\n",
       "      <td>13.336700</td>\n",
       "      <td>0.0</td>\n",
       "      <td>0.0</td>\n",
       "      <td>0.0</td>\n",
       "      <td>0.0</td>\n",
       "      <td>0.0</td>\n",
       "      <td>89.0</td>\n",
       "      <td>5.283204</td>\n",
       "      <td>0.5</td>\n",
       "      <td>0.0</td>\n",
       "      <td>0.0</td>\n",
       "      <td>2.0</td>\n",
       "      <td>0.0</td>\n",
       "      <td>4.157407</td>\n",
       "    </tr>\n",
       "  </tbody>\n",
       "</table>\n",
       "</div>"
      ],
      "text/plain": [
       "                                            log_NVideoEvents  \\\n",
       "UserID                           ProblemID                     \n",
       "000143a7618ac9cae91b0bf7d059c1fd 4                  0.000000   \n",
       "                                 5                  0.000000   \n",
       "                                 6                  0.000000   \n",
       "                                 7                  0.000000   \n",
       "0019bbc70f71e4620273237a1e99bfde 1                  5.283204   \n",
       "\n",
       "                                            NumberVideoWatched  \\\n",
       "UserID                           ProblemID                       \n",
       "000143a7618ac9cae91b0bf7d059c1fd 4                         0.0   \n",
       "                                 5                         0.0   \n",
       "                                 6                         0.0   \n",
       "                                 7                         0.0   \n",
       "0019bbc70f71e4620273237a1e99bfde 1                        14.0   \n",
       "\n",
       "                                            TotalNumberOfSubmissions  \\\n",
       "UserID                           ProblemID                             \n",
       "000143a7618ac9cae91b0bf7d059c1fd 4                                 2   \n",
       "                                 5                                13   \n",
       "                                 6                                 2   \n",
       "                                 7                                 2   \n",
       "0019bbc70f71e4620273237a1e99bfde 1                                 2   \n",
       "\n",
       "                                            DurationOfVideoActivity  \\\n",
       "UserID                           ProblemID                            \n",
       "000143a7618ac9cae91b0bf7d059c1fd 4                              0.0   \n",
       "                                 5                              0.0   \n",
       "                                 6                              0.0   \n",
       "                                 7                              0.0   \n",
       "0019bbc70f71e4620273237a1e99bfde 1                         977978.0   \n",
       "\n",
       "                                            log_AvgTimeBwSubs  NForumEvents  \\\n",
       "UserID                           ProblemID                                    \n",
       "000143a7618ac9cae91b0bf7d059c1fd 4                   5.209486           0.0   \n",
       "                                 5                   8.222636           0.0   \n",
       "                                 6                   6.791783           0.0   \n",
       "                                 7                   6.280396           0.0   \n",
       "0019bbc70f71e4620273237a1e99bfde 1                  13.336700           0.0   \n",
       "\n",
       "                                            log_NForumEvents  \\\n",
       "UserID                           ProblemID                     \n",
       "000143a7618ac9cae91b0bf7d059c1fd 4                       0.0   \n",
       "                                 5                       0.0   \n",
       "                                 6                       0.0   \n",
       "                                 7                       0.0   \n",
       "0019bbc70f71e4620273237a1e99bfde 1                       0.0   \n",
       "\n",
       "                                            log_TimeSpentOnForum  \\\n",
       "UserID                           ProblemID                         \n",
       "000143a7618ac9cae91b0bf7d059c1fd 4                           0.0   \n",
       "                                 5                           0.0   \n",
       "                                 6                           0.0   \n",
       "                                 7                           0.0   \n",
       "0019bbc70f71e4620273237a1e99bfde 1                           0.0   \n",
       "\n",
       "                                            NumberOfPosts  \\\n",
       "UserID                           ProblemID                  \n",
       "000143a7618ac9cae91b0bf7d059c1fd 4                    0.0   \n",
       "                                 5                    0.0   \n",
       "                                 6                    0.0   \n",
       "                                 7                    0.0   \n",
       "0019bbc70f71e4620273237a1e99bfde 1                    0.0   \n",
       "\n",
       "                                            NumberOfThreadViews  \\\n",
       "UserID                           ProblemID                        \n",
       "000143a7618ac9cae91b0bf7d059c1fd 4                          0.0   \n",
       "                                 5                          0.0   \n",
       "                                 6                          0.0   \n",
       "                                 7                          0.0   \n",
       "0019bbc70f71e4620273237a1e99bfde 1                          0.0   \n",
       "\n",
       "                                            NumberOfVideoInteractions  \\\n",
       "UserID                           ProblemID                              \n",
       "000143a7618ac9cae91b0bf7d059c1fd 4                                0.0   \n",
       "                                 5                                0.0   \n",
       "                                 6                                0.0   \n",
       "                                 7                                0.0   \n",
       "0019bbc70f71e4620273237a1e99bfde 1                               89.0   \n",
       "\n",
       "                                            log_TotalNVideoAndFom  \\\n",
       "UserID                           ProblemID                          \n",
       "000143a7618ac9cae91b0bf7d059c1fd 4                       0.000000   \n",
       "                                 5                       0.000000   \n",
       "                                 6                       0.000000   \n",
       "                                 7                       0.000000   \n",
       "0019bbc70f71e4620273237a1e99bfde 1                       5.283204   \n",
       "\n",
       "                                            ActivityRate  GradeDiff  \\\n",
       "UserID                           ProblemID                            \n",
       "000143a7618ac9cae91b0bf7d059c1fd 4                   0.0        0.0   \n",
       "                                 5                   0.0        0.0   \n",
       "                                 6                   0.0        0.0   \n",
       "                                 7                   0.0        0.0   \n",
       "0019bbc70f71e4620273237a1e99bfde 1                   0.5        0.0   \n",
       "\n",
       "                                            NumberOfThreadCreated  \\\n",
       "UserID                           ProblemID                          \n",
       "000143a7618ac9cae91b0bf7d059c1fd 4                            0.0   \n",
       "                                 5                            0.0   \n",
       "                                 6                            0.0   \n",
       "                                 7                            0.0   \n",
       "0019bbc70f71e4620273237a1e99bfde 1                            0.0   \n",
       "\n",
       "                                            RewatchingScore  NumberOfUpvotes  \\\n",
       "UserID                           ProblemID                                     \n",
       "000143a7618ac9cae91b0bf7d059c1fd 4                      0.0              0.0   \n",
       "                                 5                      0.0              0.0   \n",
       "                                 6                      0.0              0.0   \n",
       "                                 7                      0.0              0.0   \n",
       "0019bbc70f71e4620273237a1e99bfde 1                      2.0              0.0   \n",
       "\n",
       "                                            MeanProblemSubmissionNumber  \n",
       "UserID                           ProblemID                               \n",
       "000143a7618ac9cae91b0bf7d059c1fd 4                             4.724490  \n",
       "                                 5                             5.255208  \n",
       "                                 6                             2.746269  \n",
       "                                 7                             4.996667  \n",
       "0019bbc70f71e4620273237a1e99bfde 1                             4.157407  "
      ]
     },
     "execution_count": 195,
     "metadata": {},
     "output_type": "execute_result"
    }
   ],
   "source": [
    "test_data = aggregate_df(test_df)\n",
    "test_data['MeanProblemSubmissionNumber'] = test_data['TotalNumberOfSubmissions'].groupby(level=1).transform(np.mean)\n",
    "\n",
    "test_data.head()"
   ]
  },
  {
   "cell_type": "code",
   "execution_count": 196,
   "metadata": {
    "collapsed": false
   },
   "outputs": [],
   "source": [
    "X_test = test_data.drop('GradeDiff', axis=1).as_matrix()\n",
    "best_model = CV_knn2\n",
    "preds = best_model.predict(X_test)"
   ]
  },
  {
   "cell_type": "code",
   "execution_count": 198,
   "metadata": {
    "collapsed": false
   },
   "outputs": [],
   "source": [
    "test_data['OveralGradeDiff'] = preds\n",
    "test_data[test_data['OveralGradeDiff'] > 100] = 100\n",
    "test_data[test_data['OveralGradeDiff'] < 0] = 0\n",
    "test_data.reset_index(inplace=True)\n",
    "test_data['uniqRowID'] = test_data.UserID.astype(str) + '_' + test_data.ProblemID.astype(str)"
   ]
  },
  {
   "cell_type": "code",
   "execution_count": 199,
   "metadata": {
    "collapsed": false
   },
   "outputs": [],
   "source": [
    "classifier_template = pd.read_csv('data/regression_template.csv')\n",
    "kaggle_submission = pd.merge(test_data, classifier_template, on='uniqRowID')\n",
    "kaggle_submission = kaggle_submission[['uniqRowID', 'OveralGradeDiff']]"
   ]
  },
  {
   "cell_type": "code",
   "execution_count": 200,
   "metadata": {
    "collapsed": false
   },
   "outputs": [
    {
     "data": {
      "text/plain": [
       "(3767, 2)"
      ]
     },
     "execution_count": 200,
     "metadata": {},
     "output_type": "execute_result"
    }
   ],
   "source": [
    "kaggle_submission.shape"
   ]
  },
  {
   "cell_type": "code",
   "execution_count": 201,
   "metadata": {
    "collapsed": false
   },
   "outputs": [],
   "source": [
    "kaggle_submission.to_csv('data/regression_results.csv', index=False)"
   ]
  }
 ],
 "metadata": {
  "anaconda-cloud": {},
  "kernelspec": {
   "display_name": "Python [conda root]",
   "language": "python",
   "name": "conda-root-py"
  },
  "language_info": {
   "codemirror_mode": {
    "name": "ipython",
    "version": 3
   },
   "file_extension": ".py",
   "mimetype": "text/x-python",
   "name": "python",
   "nbconvert_exporter": "python",
   "pygments_lexer": "ipython3",
   "version": "3.5.2"
  }
 },
 "nbformat": 4,
 "nbformat_minor": 2
}
