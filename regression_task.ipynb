{
 "cells": [
  {
   "cell_type": "markdown",
   "metadata": {},
   "source": [
    "# Digital Education & Learning analytics - Project part. 2"
   ]
  },
  {
   "cell_type": "code",
   "execution_count": 1,
   "metadata": {
    "collapsed": true
   },
   "outputs": [],
   "source": [
    "import pandas as pd\n",
    "import numpy as np\n",
    "import matplotlib.pyplot as plt\n",
    "from sklearn import linear_model, preprocessing\n",
    "from sklearn.model_selection import train_test_split, cross_val_score, GridSearchCV, learning_curve\n",
    "from sklearn.metrics import mean_squared_error, make_scorer\n",
    "from sklearn.ensemble import RandomForestRegressor\n",
    "from sklearn.neural_network import MLPRegressor\n",
    "from sklearn.feature_selection import SelectFromModel, VarianceThreshold\n",
    "from sklearn.neighbors import KNeighborsRegressor\n",
    "\n",
    "%matplotlib inline"
   ]
  },
  {
   "cell_type": "markdown",
   "metadata": {},
   "source": [
    "## Import data"
   ]
  },
  {
   "cell_type": "code",
   "execution_count": 2,
   "metadata": {
    "collapsed": false
   },
   "outputs": [
    {
     "data": {
      "text/plain": [
       "Index(['ProblemID', 'UserID', 'SubmissionNumber', 'TimeStamp', 'TimeSinceLast',\n",
       "       'Grade', 'GradeDiff', 'NVideoEvents', 'NForumEvents', 'NumberOfPosts',\n",
       "       'TimeSpentOnForum', 'DurationOfVideoActivity', 'RewatchingScore',\n",
       "       'NumberOfThreadCreated', 'LastVideoEvent', 'NumberVideoWatched',\n",
       "       'NumberOfSlowPlay', 'NumberOfThreadViews', 'LastForumEvent',\n",
       "       'NumberOfVideoInteractions', 'AverageVideoTimeDiffs', 'NumberOfUpvotes',\n",
       "       'NVideoAndForum'],\n",
       "      dtype='object')"
      ]
     },
     "execution_count": 2,
     "metadata": {},
     "output_type": "execute_result"
    }
   ],
   "source": [
    "df = pd.read_csv('OutputTable.csv')\n",
    "df.fillna(0, inplace=True)\n",
    "df.query('SubmissionNumber > 0', inplace=True)\n",
    "df['NVideoAndForum'] = df['NVideoEvents'].add(df['NForumEvents'])\n",
    "df.head()\n",
    "df.columns"
   ]
  },
  {
   "cell_type": "markdown",
   "metadata": {},
   "source": [
    "## aggregation function\n",
    "The following function aggregates the database by grouping entries by UserID and ProblemID and do the relevant features aggregations."
   ]
  },
  {
   "cell_type": "code",
   "execution_count": 3,
   "metadata": {
    "collapsed": false
   },
   "outputs": [],
   "source": [
    "def aggregate_df(df):\n",
    "    aggregations = {\n",
    "        'SubmissionNumber':{\n",
    "            'TotalNumberOfSubmissions': 'last'\n",
    "        },\n",
    "        'TimeSinceLast':{\n",
    "            'log_AvgTimeBwSubs': lambda x: np.log(np.mean(x))\n",
    "        },\n",
    "        'Grade':{ \n",
    "            'GradeDiff': lambda x: x.iloc[-1] - x.iloc[0] if len(x) > 1 else x.iloc[0]\n",
    "        },\n",
    "        'NVideoEvents':{\n",
    "            #'NVideoEvents': 'sum',\n",
    "            'log_NVideoEvents': lambda x: np.log(np.sum(x)+1)\n",
    "        },    \n",
    "        'NForumEvents':{\n",
    "            'NForumEvents': 'sum',\n",
    "            'log_NForumEvents': lambda x: np.log(np.sum(x)+1)\n",
    "        },\n",
    "        'NumberOfPosts':{\n",
    "            'NumberOfPosts': 'sum'\n",
    "        },\n",
    "        'TimeSpentOnForum':{\n",
    "            'log_TimeSpentOnForum': lambda x: np.log(np.sum(x)+1)\n",
    "        },\n",
    "        'DurationOfVideoActivity':{\n",
    "            'DurationOfVideoActivity': 'sum'\n",
    "        },\n",
    "        'RewatchingScore':{\n",
    "            'RewatchingScore': 'sum'\n",
    "        },\n",
    "        'NumberOfThreadCreated':{\n",
    "            'NumberOfThreadCreated': 'sum'\n",
    "        },\n",
    "        'NumberVideoWatched':{\n",
    "            'NumberVideoWatched': 'sum'\n",
    "        },\n",
    "        'NumberOfThreadViews':{\n",
    "            'NumberOfThreadViews': 'sum'\n",
    "        },\n",
    "        'NumberOfVideoInteractions':{\n",
    "            'NumberOfVideoInteractions': 'sum'\n",
    "        },\n",
    "        'NumberOfUpvotes':{\n",
    "            'NumberOfUpvotes': 'sum'\n",
    "        },\n",
    "        'NVideoAndForum': {\n",
    "            #'TotalNVideoAndForum': 'sum',\n",
    "            'log_TotalNVideoAndFom': lambda x: np.log(np.sum(x)+1),\n",
    "            'ActivityRate': lambda x: np.sum(x !=0) / len(x)\n",
    "        }\n",
    "    }\n",
    "    data = df.groupby(by=['UserID', 'ProblemID'], as_index=True).agg(aggregations)\n",
    "    data.columns = data.columns.droplevel()\n",
    "    #data.query('TotalNumberOfSubmissions > 1', inplace=True)\n",
    "    #data.query('TotalNVideoAndForum > 0', inplace=True)\n",
    "    return data"
   ]
  },
  {
   "cell_type": "markdown",
   "metadata": {},
   "source": [
    "## Plot the learning curve to assess if models overfit/ underfit (taken from sklearn)"
   ]
  },
  {
   "cell_type": "code",
   "execution_count": 4,
   "metadata": {
    "collapsed": true
   },
   "outputs": [],
   "source": [
    "def plot_learning_curve(estimator, title, X, y, ylim=None, cv=None,\n",
    "                        n_jobs=1, train_sizes=np.linspace(.1, 1.0, 5)):\n",
    "    plt.figure()\n",
    "    plt.title(title)\n",
    "    if ylim is not None:\n",
    "        plt.ylim(*ylim)\n",
    "    plt.xlabel(\"Training examples\")\n",
    "    plt.ylabel(\"Score\")\n",
    "    train_sizes, train_scores, test_scores = learning_curve(\n",
    "        estimator, X, y, cv=cv, n_jobs=n_jobs, train_sizes=train_sizes, scoring=rmse)\n",
    "    train_scores_mean = np.mean(train_scores, axis=1)\n",
    "    train_scores_std = np.std(train_scores, axis=1)\n",
    "    test_scores_mean = np.mean(test_scores, axis=1)\n",
    "    test_scores_std = np.std(test_scores, axis=1)\n",
    "    plt.grid()\n",
    "\n",
    "    plt.fill_between(train_sizes, train_scores_mean - train_scores_std,\n",
    "                     train_scores_mean + train_scores_std, alpha=0.1,\n",
    "                     color=\"r\")\n",
    "    plt.fill_between(train_sizes, test_scores_mean - test_scores_std,\n",
    "                     test_scores_mean + test_scores_std, alpha=0.1, color=\"g\")\n",
    "    plt.plot(train_sizes, train_scores_mean, 'o-', color=\"r\",\n",
    "             label=\"Training score\")\n",
    "    plt.plot(train_sizes, test_scores_mean, 'o-', color=\"g\",\n",
    "             label=\"Cross-validation score\")\n",
    "\n",
    "    plt.legend(loc=\"best\");\n",
    "    return plt"
   ]
  },
  {
   "cell_type": "markdown",
   "metadata": {},
   "source": [
    "## Aggregate training data"
   ]
  },
  {
   "cell_type": "code",
   "execution_count": 5,
   "metadata": {
    "collapsed": false
   },
   "outputs": [
    {
     "data": {
      "text/html": [
       "<div>\n",
       "<table border=\"1\" class=\"dataframe\">\n",
       "  <thead>\n",
       "    <tr style=\"text-align: right;\">\n",
       "      <th></th>\n",
       "      <th></th>\n",
       "      <th>DurationOfVideoActivity</th>\n",
       "      <th>ActivityRate</th>\n",
       "      <th>log_TotalNVideoAndFom</th>\n",
       "      <th>TotalNumberOfSubmissions</th>\n",
       "      <th>log_TimeSpentOnForum</th>\n",
       "      <th>log_AvgTimeBwSubs</th>\n",
       "      <th>GradeDiff</th>\n",
       "      <th>NumberOfThreadViews</th>\n",
       "      <th>NumberOfPosts</th>\n",
       "      <th>NumberOfThreadCreated</th>\n",
       "      <th>NumberOfVideoInteractions</th>\n",
       "      <th>NForumEvents</th>\n",
       "      <th>log_NForumEvents</th>\n",
       "      <th>NumberOfUpvotes</th>\n",
       "      <th>log_NVideoEvents</th>\n",
       "      <th>NumberVideoWatched</th>\n",
       "      <th>RewatchingScore</th>\n",
       "    </tr>\n",
       "    <tr>\n",
       "      <th>UserID</th>\n",
       "      <th>ProblemID</th>\n",
       "      <th></th>\n",
       "      <th></th>\n",
       "      <th></th>\n",
       "      <th></th>\n",
       "      <th></th>\n",
       "      <th></th>\n",
       "      <th></th>\n",
       "      <th></th>\n",
       "      <th></th>\n",
       "      <th></th>\n",
       "      <th></th>\n",
       "      <th></th>\n",
       "      <th></th>\n",
       "      <th></th>\n",
       "      <th></th>\n",
       "      <th></th>\n",
       "      <th></th>\n",
       "    </tr>\n",
       "  </thead>\n",
       "  <tbody>\n",
       "    <tr>\n",
       "      <th rowspan=\"5\" valign=\"top\">0009e7ff2e6bad5d80640eeb61cd6e0d</th>\n",
       "      <th>1</th>\n",
       "      <td>0.0</td>\n",
       "      <td>0.0</td>\n",
       "      <td>0.0</td>\n",
       "      <td>2</td>\n",
       "      <td>0.0</td>\n",
       "      <td>4.595120</td>\n",
       "      <td>12.500000</td>\n",
       "      <td>0.0</td>\n",
       "      <td>0.0</td>\n",
       "      <td>0.0</td>\n",
       "      <td>0.0</td>\n",
       "      <td>0.0</td>\n",
       "      <td>0.0</td>\n",
       "      <td>0.0</td>\n",
       "      <td>0.0</td>\n",
       "      <td>0.0</td>\n",
       "      <td>0.0</td>\n",
       "    </tr>\n",
       "    <tr>\n",
       "      <th>3</th>\n",
       "      <td>0.0</td>\n",
       "      <td>0.0</td>\n",
       "      <td>0.0</td>\n",
       "      <td>1</td>\n",
       "      <td>0.0</td>\n",
       "      <td>5.552960</td>\n",
       "      <td>100.000000</td>\n",
       "      <td>0.0</td>\n",
       "      <td>0.0</td>\n",
       "      <td>0.0</td>\n",
       "      <td>0.0</td>\n",
       "      <td>0.0</td>\n",
       "      <td>0.0</td>\n",
       "      <td>0.0</td>\n",
       "      <td>0.0</td>\n",
       "      <td>0.0</td>\n",
       "      <td>0.0</td>\n",
       "    </tr>\n",
       "    <tr>\n",
       "      <th>4</th>\n",
       "      <td>0.0</td>\n",
       "      <td>0.0</td>\n",
       "      <td>0.0</td>\n",
       "      <td>2</td>\n",
       "      <td>0.0</td>\n",
       "      <td>4.276666</td>\n",
       "      <td>100.000000</td>\n",
       "      <td>0.0</td>\n",
       "      <td>0.0</td>\n",
       "      <td>0.0</td>\n",
       "      <td>0.0</td>\n",
       "      <td>0.0</td>\n",
       "      <td>0.0</td>\n",
       "      <td>0.0</td>\n",
       "      <td>0.0</td>\n",
       "      <td>0.0</td>\n",
       "      <td>0.0</td>\n",
       "    </tr>\n",
       "    <tr>\n",
       "      <th>5</th>\n",
       "      <td>0.0</td>\n",
       "      <td>0.0</td>\n",
       "      <td>0.0</td>\n",
       "      <td>3</td>\n",
       "      <td>0.0</td>\n",
       "      <td>5.034786</td>\n",
       "      <td>13.333333</td>\n",
       "      <td>0.0</td>\n",
       "      <td>0.0</td>\n",
       "      <td>0.0</td>\n",
       "      <td>0.0</td>\n",
       "      <td>0.0</td>\n",
       "      <td>0.0</td>\n",
       "      <td>0.0</td>\n",
       "      <td>0.0</td>\n",
       "      <td>0.0</td>\n",
       "      <td>0.0</td>\n",
       "    </tr>\n",
       "    <tr>\n",
       "      <th>8</th>\n",
       "      <td>0.0</td>\n",
       "      <td>0.0</td>\n",
       "      <td>0.0</td>\n",
       "      <td>1</td>\n",
       "      <td>0.0</td>\n",
       "      <td>4.158883</td>\n",
       "      <td>100.000000</td>\n",
       "      <td>0.0</td>\n",
       "      <td>0.0</td>\n",
       "      <td>0.0</td>\n",
       "      <td>0.0</td>\n",
       "      <td>0.0</td>\n",
       "      <td>0.0</td>\n",
       "      <td>0.0</td>\n",
       "      <td>0.0</td>\n",
       "      <td>0.0</td>\n",
       "      <td>0.0</td>\n",
       "    </tr>\n",
       "  </tbody>\n",
       "</table>\n",
       "</div>"
      ],
      "text/plain": [
       "                                            DurationOfVideoActivity  \\\n",
       "UserID                           ProblemID                            \n",
       "0009e7ff2e6bad5d80640eeb61cd6e0d 1                              0.0   \n",
       "                                 3                              0.0   \n",
       "                                 4                              0.0   \n",
       "                                 5                              0.0   \n",
       "                                 8                              0.0   \n",
       "\n",
       "                                            ActivityRate  \\\n",
       "UserID                           ProblemID                 \n",
       "0009e7ff2e6bad5d80640eeb61cd6e0d 1                   0.0   \n",
       "                                 3                   0.0   \n",
       "                                 4                   0.0   \n",
       "                                 5                   0.0   \n",
       "                                 8                   0.0   \n",
       "\n",
       "                                            log_TotalNVideoAndFom  \\\n",
       "UserID                           ProblemID                          \n",
       "0009e7ff2e6bad5d80640eeb61cd6e0d 1                            0.0   \n",
       "                                 3                            0.0   \n",
       "                                 4                            0.0   \n",
       "                                 5                            0.0   \n",
       "                                 8                            0.0   \n",
       "\n",
       "                                            TotalNumberOfSubmissions  \\\n",
       "UserID                           ProblemID                             \n",
       "0009e7ff2e6bad5d80640eeb61cd6e0d 1                                 2   \n",
       "                                 3                                 1   \n",
       "                                 4                                 2   \n",
       "                                 5                                 3   \n",
       "                                 8                                 1   \n",
       "\n",
       "                                            log_TimeSpentOnForum  \\\n",
       "UserID                           ProblemID                         \n",
       "0009e7ff2e6bad5d80640eeb61cd6e0d 1                           0.0   \n",
       "                                 3                           0.0   \n",
       "                                 4                           0.0   \n",
       "                                 5                           0.0   \n",
       "                                 8                           0.0   \n",
       "\n",
       "                                            log_AvgTimeBwSubs   GradeDiff  \\\n",
       "UserID                           ProblemID                                  \n",
       "0009e7ff2e6bad5d80640eeb61cd6e0d 1                   4.595120   12.500000   \n",
       "                                 3                   5.552960  100.000000   \n",
       "                                 4                   4.276666  100.000000   \n",
       "                                 5                   5.034786   13.333333   \n",
       "                                 8                   4.158883  100.000000   \n",
       "\n",
       "                                            NumberOfThreadViews  \\\n",
       "UserID                           ProblemID                        \n",
       "0009e7ff2e6bad5d80640eeb61cd6e0d 1                          0.0   \n",
       "                                 3                          0.0   \n",
       "                                 4                          0.0   \n",
       "                                 5                          0.0   \n",
       "                                 8                          0.0   \n",
       "\n",
       "                                            NumberOfPosts  \\\n",
       "UserID                           ProblemID                  \n",
       "0009e7ff2e6bad5d80640eeb61cd6e0d 1                    0.0   \n",
       "                                 3                    0.0   \n",
       "                                 4                    0.0   \n",
       "                                 5                    0.0   \n",
       "                                 8                    0.0   \n",
       "\n",
       "                                            NumberOfThreadCreated  \\\n",
       "UserID                           ProblemID                          \n",
       "0009e7ff2e6bad5d80640eeb61cd6e0d 1                            0.0   \n",
       "                                 3                            0.0   \n",
       "                                 4                            0.0   \n",
       "                                 5                            0.0   \n",
       "                                 8                            0.0   \n",
       "\n",
       "                                            NumberOfVideoInteractions  \\\n",
       "UserID                           ProblemID                              \n",
       "0009e7ff2e6bad5d80640eeb61cd6e0d 1                                0.0   \n",
       "                                 3                                0.0   \n",
       "                                 4                                0.0   \n",
       "                                 5                                0.0   \n",
       "                                 8                                0.0   \n",
       "\n",
       "                                            NForumEvents  log_NForumEvents  \\\n",
       "UserID                           ProblemID                                   \n",
       "0009e7ff2e6bad5d80640eeb61cd6e0d 1                   0.0               0.0   \n",
       "                                 3                   0.0               0.0   \n",
       "                                 4                   0.0               0.0   \n",
       "                                 5                   0.0               0.0   \n",
       "                                 8                   0.0               0.0   \n",
       "\n",
       "                                            NumberOfUpvotes  log_NVideoEvents  \\\n",
       "UserID                           ProblemID                                      \n",
       "0009e7ff2e6bad5d80640eeb61cd6e0d 1                      0.0               0.0   \n",
       "                                 3                      0.0               0.0   \n",
       "                                 4                      0.0               0.0   \n",
       "                                 5                      0.0               0.0   \n",
       "                                 8                      0.0               0.0   \n",
       "\n",
       "                                            NumberVideoWatched  \\\n",
       "UserID                           ProblemID                       \n",
       "0009e7ff2e6bad5d80640eeb61cd6e0d 1                         0.0   \n",
       "                                 3                         0.0   \n",
       "                                 4                         0.0   \n",
       "                                 5                         0.0   \n",
       "                                 8                         0.0   \n",
       "\n",
       "                                            RewatchingScore  \n",
       "UserID                           ProblemID                   \n",
       "0009e7ff2e6bad5d80640eeb61cd6e0d 1                      0.0  \n",
       "                                 3                      0.0  \n",
       "                                 4                      0.0  \n",
       "                                 5                      0.0  \n",
       "                                 8                      0.0  "
      ]
     },
     "execution_count": 5,
     "metadata": {},
     "output_type": "execute_result"
    }
   ],
   "source": [
    "data = aggregate_df(df)\n",
    "data.head()"
   ]
  },
  {
   "cell_type": "code",
   "execution_count": 6,
   "metadata": {
    "collapsed": false
   },
   "outputs": [],
   "source": [
    "# we add several features based on other statistics\n",
    "data['MeanProblemSubmissionNumber'] = data['TotalNumberOfSubmissions'].groupby(level=1).transform(np.mean)\n",
    "#data"
   ]
  },
  {
   "cell_type": "markdown",
   "metadata": {},
   "source": [
    "## Descriptive statistics"
   ]
  },
  {
   "cell_type": "code",
   "execution_count": 7,
   "metadata": {
    "collapsed": false
   },
   "outputs": [
    {
     "data": {
      "text/html": [
       "<div>\n",
       "<table border=\"1\" class=\"dataframe\">\n",
       "  <thead>\n",
       "    <tr style=\"text-align: right;\">\n",
       "      <th></th>\n",
       "      <th>DurationOfVideoActivity</th>\n",
       "      <th>ActivityRate</th>\n",
       "      <th>log_TotalNVideoAndFom</th>\n",
       "      <th>TotalNumberOfSubmissions</th>\n",
       "      <th>log_TimeSpentOnForum</th>\n",
       "      <th>log_AvgTimeBwSubs</th>\n",
       "      <th>GradeDiff</th>\n",
       "      <th>NumberOfThreadViews</th>\n",
       "      <th>NumberOfPosts</th>\n",
       "      <th>NumberOfThreadCreated</th>\n",
       "      <th>NumberOfVideoInteractions</th>\n",
       "      <th>NForumEvents</th>\n",
       "      <th>log_NForumEvents</th>\n",
       "      <th>NumberOfUpvotes</th>\n",
       "      <th>log_NVideoEvents</th>\n",
       "      <th>NumberVideoWatched</th>\n",
       "      <th>RewatchingScore</th>\n",
       "      <th>MeanProblemSubmissionNumber</th>\n",
       "    </tr>\n",
       "  </thead>\n",
       "  <tbody>\n",
       "    <tr>\n",
       "      <th>count</th>\n",
       "      <td>5.850000e+03</td>\n",
       "      <td>5850.000000</td>\n",
       "      <td>5850.000000</td>\n",
       "      <td>5850.000000</td>\n",
       "      <td>5850.000000</td>\n",
       "      <td>5850.000000</td>\n",
       "      <td>5850.000000</td>\n",
       "      <td>5850.000000</td>\n",
       "      <td>5850.000000</td>\n",
       "      <td>5850.000000</td>\n",
       "      <td>5850.000000</td>\n",
       "      <td>5850.000000</td>\n",
       "      <td>5850.000000</td>\n",
       "      <td>5850.000000</td>\n",
       "      <td>5850.000000</td>\n",
       "      <td>5850.000000</td>\n",
       "      <td>5850.00000</td>\n",
       "      <td>5850.000000</td>\n",
       "    </tr>\n",
       "    <tr>\n",
       "      <th>mean</th>\n",
       "      <td>2.139977e+04</td>\n",
       "      <td>0.131085</td>\n",
       "      <td>0.986772</td>\n",
       "      <td>5.467521</td>\n",
       "      <td>2.259728</td>\n",
       "      <td>6.983195</td>\n",
       "      <td>56.441609</td>\n",
       "      <td>3.969060</td>\n",
       "      <td>0.273675</td>\n",
       "      <td>0.067863</td>\n",
       "      <td>3.405128</td>\n",
       "      <td>8.238974</td>\n",
       "      <td>0.833474</td>\n",
       "      <td>0.019145</td>\n",
       "      <td>0.328075</td>\n",
       "      <td>0.537265</td>\n",
       "      <td>0.22359</td>\n",
       "      <td>5.467521</td>\n",
       "    </tr>\n",
       "    <tr>\n",
       "      <th>std</th>\n",
       "      <td>2.009962e+05</td>\n",
       "      <td>0.234074</td>\n",
       "      <td>1.533852</td>\n",
       "      <td>7.677910</td>\n",
       "      <td>3.834975</td>\n",
       "      <td>2.141955</td>\n",
       "      <td>40.350829</td>\n",
       "      <td>14.846714</td>\n",
       "      <td>1.369180</td>\n",
       "      <td>0.351354</td>\n",
       "      <td>28.490657</td>\n",
       "      <td>30.359069</td>\n",
       "      <td>1.361470</td>\n",
       "      <td>0.226420</td>\n",
       "      <td>1.057222</td>\n",
       "      <td>2.272449</td>\n",
       "      <td>1.94933</td>\n",
       "      <td>2.397424</td>\n",
       "    </tr>\n",
       "    <tr>\n",
       "      <th>min</th>\n",
       "      <td>0.000000e+00</td>\n",
       "      <td>0.000000</td>\n",
       "      <td>0.000000</td>\n",
       "      <td>1.000000</td>\n",
       "      <td>0.000000</td>\n",
       "      <td>1.252763</td>\n",
       "      <td>-100.000000</td>\n",
       "      <td>0.000000</td>\n",
       "      <td>0.000000</td>\n",
       "      <td>0.000000</td>\n",
       "      <td>0.000000</td>\n",
       "      <td>0.000000</td>\n",
       "      <td>0.000000</td>\n",
       "      <td>0.000000</td>\n",
       "      <td>0.000000</td>\n",
       "      <td>0.000000</td>\n",
       "      <td>0.00000</td>\n",
       "      <td>2.081081</td>\n",
       "    </tr>\n",
       "    <tr>\n",
       "      <th>25%</th>\n",
       "      <td>0.000000e+00</td>\n",
       "      <td>0.000000</td>\n",
       "      <td>0.000000</td>\n",
       "      <td>2.000000</td>\n",
       "      <td>0.000000</td>\n",
       "      <td>5.448019</td>\n",
       "      <td>20.000000</td>\n",
       "      <td>0.000000</td>\n",
       "      <td>0.000000</td>\n",
       "      <td>0.000000</td>\n",
       "      <td>0.000000</td>\n",
       "      <td>0.000000</td>\n",
       "      <td>0.000000</td>\n",
       "      <td>0.000000</td>\n",
       "      <td>0.000000</td>\n",
       "      <td>0.000000</td>\n",
       "      <td>0.00000</td>\n",
       "      <td>4.371373</td>\n",
       "    </tr>\n",
       "    <tr>\n",
       "      <th>50%</th>\n",
       "      <td>0.000000e+00</td>\n",
       "      <td>0.000000</td>\n",
       "      <td>0.000000</td>\n",
       "      <td>3.000000</td>\n",
       "      <td>0.000000</td>\n",
       "      <td>6.260535</td>\n",
       "      <td>52.500000</td>\n",
       "      <td>0.000000</td>\n",
       "      <td>0.000000</td>\n",
       "      <td>0.000000</td>\n",
       "      <td>0.000000</td>\n",
       "      <td>0.000000</td>\n",
       "      <td>0.000000</td>\n",
       "      <td>0.000000</td>\n",
       "      <td>0.000000</td>\n",
       "      <td>0.000000</td>\n",
       "      <td>0.00000</td>\n",
       "      <td>5.239316</td>\n",
       "    </tr>\n",
       "    <tr>\n",
       "      <th>75%</th>\n",
       "      <td>0.000000e+00</td>\n",
       "      <td>0.200000</td>\n",
       "      <td>2.079442</td>\n",
       "      <td>6.000000</td>\n",
       "      <td>4.510860</td>\n",
       "      <td>8.284005</td>\n",
       "      <td>100.000000</td>\n",
       "      <td>2.000000</td>\n",
       "      <td>0.000000</td>\n",
       "      <td>0.000000</td>\n",
       "      <td>0.000000</td>\n",
       "      <td>4.000000</td>\n",
       "      <td>1.609438</td>\n",
       "      <td>0.000000</td>\n",
       "      <td>0.000000</td>\n",
       "      <td>0.000000</td>\n",
       "      <td>0.00000</td>\n",
       "      <td>6.231959</td>\n",
       "    </tr>\n",
       "    <tr>\n",
       "      <th>max</th>\n",
       "      <td>5.051918e+06</td>\n",
       "      <td>1.000000</td>\n",
       "      <td>7.516433</td>\n",
       "      <td>127.000000</td>\n",
       "      <td>15.362969</td>\n",
       "      <td>15.233862</td>\n",
       "      <td>100.000000</td>\n",
       "      <td>398.000000</td>\n",
       "      <td>34.000000</td>\n",
       "      <td>9.000000</td>\n",
       "      <td>1340.000000</td>\n",
       "      <td>899.000000</td>\n",
       "      <td>6.802395</td>\n",
       "      <td>8.000000</td>\n",
       "      <td>7.368340</td>\n",
       "      <td>32.000000</td>\n",
       "      <td>78.00000</td>\n",
       "      <td>12.081466</td>\n",
       "    </tr>\n",
       "  </tbody>\n",
       "</table>\n",
       "</div>"
      ],
      "text/plain": [
       "       DurationOfVideoActivity  ActivityRate  log_TotalNVideoAndFom  \\\n",
       "count             5.850000e+03   5850.000000            5850.000000   \n",
       "mean              2.139977e+04      0.131085               0.986772   \n",
       "std               2.009962e+05      0.234074               1.533852   \n",
       "min               0.000000e+00      0.000000               0.000000   \n",
       "25%               0.000000e+00      0.000000               0.000000   \n",
       "50%               0.000000e+00      0.000000               0.000000   \n",
       "75%               0.000000e+00      0.200000               2.079442   \n",
       "max               5.051918e+06      1.000000               7.516433   \n",
       "\n",
       "       TotalNumberOfSubmissions  log_TimeSpentOnForum  log_AvgTimeBwSubs  \\\n",
       "count               5850.000000           5850.000000        5850.000000   \n",
       "mean                   5.467521              2.259728           6.983195   \n",
       "std                    7.677910              3.834975           2.141955   \n",
       "min                    1.000000              0.000000           1.252763   \n",
       "25%                    2.000000              0.000000           5.448019   \n",
       "50%                    3.000000              0.000000           6.260535   \n",
       "75%                    6.000000              4.510860           8.284005   \n",
       "max                  127.000000             15.362969          15.233862   \n",
       "\n",
       "         GradeDiff  NumberOfThreadViews  NumberOfPosts  NumberOfThreadCreated  \\\n",
       "count  5850.000000          5850.000000    5850.000000            5850.000000   \n",
       "mean     56.441609             3.969060       0.273675               0.067863   \n",
       "std      40.350829            14.846714       1.369180               0.351354   \n",
       "min    -100.000000             0.000000       0.000000               0.000000   \n",
       "25%      20.000000             0.000000       0.000000               0.000000   \n",
       "50%      52.500000             0.000000       0.000000               0.000000   \n",
       "75%     100.000000             2.000000       0.000000               0.000000   \n",
       "max     100.000000           398.000000      34.000000               9.000000   \n",
       "\n",
       "       NumberOfVideoInteractions  NForumEvents  log_NForumEvents  \\\n",
       "count                5850.000000   5850.000000       5850.000000   \n",
       "mean                    3.405128      8.238974          0.833474   \n",
       "std                    28.490657     30.359069          1.361470   \n",
       "min                     0.000000      0.000000          0.000000   \n",
       "25%                     0.000000      0.000000          0.000000   \n",
       "50%                     0.000000      0.000000          0.000000   \n",
       "75%                     0.000000      4.000000          1.609438   \n",
       "max                  1340.000000    899.000000          6.802395   \n",
       "\n",
       "       NumberOfUpvotes  log_NVideoEvents  NumberVideoWatched  RewatchingScore  \\\n",
       "count      5850.000000       5850.000000         5850.000000       5850.00000   \n",
       "mean          0.019145          0.328075            0.537265          0.22359   \n",
       "std           0.226420          1.057222            2.272449          1.94933   \n",
       "min           0.000000          0.000000            0.000000          0.00000   \n",
       "25%           0.000000          0.000000            0.000000          0.00000   \n",
       "50%           0.000000          0.000000            0.000000          0.00000   \n",
       "75%           0.000000          0.000000            0.000000          0.00000   \n",
       "max           8.000000          7.368340           32.000000         78.00000   \n",
       "\n",
       "       MeanProblemSubmissionNumber  \n",
       "count                  5850.000000  \n",
       "mean                      5.467521  \n",
       "std                       2.397424  \n",
       "min                       2.081081  \n",
       "25%                       4.371373  \n",
       "50%                       5.239316  \n",
       "75%                       6.231959  \n",
       "max                      12.081466  "
      ]
     },
     "execution_count": 7,
     "metadata": {},
     "output_type": "execute_result"
    }
   ],
   "source": [
    "data.describe()"
   ]
  },
  {
   "cell_type": "markdown",
   "metadata": {},
   "source": [
    "## Prepare dataframe for training models"
   ]
  },
  {
   "cell_type": "code",
   "execution_count": 8,
   "metadata": {
    "collapsed": false
   },
   "outputs": [],
   "source": [
    "# convert dataframe in matrix form\n",
    "y = data.GradeDiff.as_matrix()\n",
    "X = data.drop('GradeDiff', axis=1).as_matrix()\n",
    "#X = data.as_matrix()\n",
    "X_train, X_test, y_train, y_test = train_test_split(X, y, test_size=0.2)"
   ]
  },
  {
   "cell_type": "code",
   "execution_count": 9,
   "metadata": {
    "collapsed": false
   },
   "outputs": [
    {
     "data": {
      "image/png": "[encoded data removed]",
      "text/plain": [
       "<matplotlib.figure.Figure at 0x112018630>"
      ]
     },
     "metadata": {},
     "output_type": "display_data"
    }
   ],
   "source": [
    "# distribution of training grades\n",
    "plt.hist(y, bins=10, range=(0,100))\n",
    "plt.title('Distribution of grade differences in training data');"
   ]
  },
  {
   "cell_type": "code",
   "execution_count": 10,
   "metadata": {
    "collapsed": true
   },
   "outputs": [],
   "source": [
    "# wrapper function to be able to use the RMSE as scoring metric in sklearn functions\n",
    "def rmse_scorer(y_true, y_pred):\n",
    "    return np.sqrt(mean_squared_error(y_true, y_pred))\n",
    "rmse = make_scorer(rmse_scorer)"
   ]
  },
  {
   "cell_type": "markdown",
   "metadata": {},
   "source": [
    "## Linear Regression"
   ]
  },
  {
   "cell_type": "code",
   "execution_count": 11,
   "metadata": {
    "collapsed": false
   },
   "outputs": [],
   "source": [
    "# there is no hyper paramater to be optimized here, no need for cross validation\n",
    "reg = linear_model.LinearRegression()\n",
    "reg.fit(X_train, y_train)\n",
    "y_preds = reg.predict(X_test)"
   ]
  },
  {
   "cell_type": "code",
   "execution_count": 12,
   "metadata": {
    "collapsed": false
   },
   "outputs": [
    {
     "name": "stdout",
     "output_type": "stream",
     "text": [
      "Performance of linear regression: 40.2730237671\n"
     ]
    }
   ],
   "source": [
    "results = rmse_scorer(y_test, y_preds)\n",
    "print('Performance of linear regression:', results)"
   ]
  },
  {
   "cell_type": "code",
   "execution_count": 13,
   "metadata": {
    "collapsed": false
   },
   "outputs": [
    {
     "data": {
      "image/png": "[encoded data removed]",
      "text/plain": [
       "<matplotlib.figure.Figure at 0x1132fa0b8>"
      ]
     },
     "metadata": {},
     "output_type": "display_data"
    }
   ],
   "source": [
    "plt.hist(y_preds, bins=10, range=(0,100))\n",
    "plt.title('Distribution of predicted grades');"
   ]
  },
  {
   "cell_type": "markdown",
   "metadata": {},
   "source": [
    "## Some observations:\n",
    "The resulting RMSE on test set is bad. By looking at the distribution of the grades, we can see that the distribution is similar to Gaussian centered at 60, which is the mean obtained grade in the training set. This might indicate under-fitting"
   ]
  },
  {
   "cell_type": "code",
   "execution_count": 14,
   "metadata": {
    "collapsed": false
   },
   "outputs": [
    {
     "data": {
      "image/png": "[encoded data removed]",
      "text/plain": [
       "<matplotlib.figure.Figure at 0x1132fd4a8>"
      ]
     },
     "metadata": {},
     "output_type": "display_data"
    }
   ],
   "source": [
    "plot_learning_curve(reg, 'Learning curve for linear regression', X, y);"
   ]
  },
  {
   "cell_type": "markdown",
   "metadata": {},
   "source": [
    "Our first impressions are reinforced by the learning curve plot: training score and cross-validation score are high and close to each other. The model suffers from high bias, we should try a more complex model"
   ]
  },
  {
   "cell_type": "markdown",
   "metadata": {},
   "source": [
    "## Random Forest"
   ]
  },
  {
   "cell_type": "code",
   "execution_count": 15,
   "metadata": {
    "collapsed": false,
    "scrolled": true
   },
   "outputs": [
    {
     "name": "stdout",
     "output_type": "stream",
     "text": [
      "Fitting 5 folds for each of 45 candidates, totalling 225 fits\n",
      "[CV] max_depth=1, max_features=auto, n_estimators=100 ................\n",
      "[CV] . max_depth=1, max_features=auto, n_estimators=100, total=   0.3s\n",
      "[CV] max_depth=1, max_features=auto, n_estimators=100 ................\n"
     ]
    },
    {
     "name": "stderr",
     "output_type": "stream",
     "text": [
      "[Parallel(n_jobs=1)]: Done   1 out of   1 | elapsed:    0.3s remaining:    0.0s\n"
     ]
    },
    {
     "name": "stdout",
     "output_type": "stream",
     "text": [
      "[CV] . max_depth=1, max_features=auto, n_estimators=100, total=   0.2s\n",
      "[CV] max_depth=1, max_features=auto, n_estimators=100 ................\n",
      "[CV] . max_depth=1, max_features=auto, n_estimators=100, total=   0.2s\n",
      "[CV] max_depth=1, max_features=auto, n_estimators=100 ................\n",
      "[CV] . max_depth=1, max_features=auto, n_estimators=100, total=   0.2s\n",
      "[CV] max_depth=1, max_features=auto, n_estimators=100 ................\n",
      "[CV] . max_depth=1, max_features=auto, n_estimators=100, total=   0.3s\n",
      "[CV] max_depth=1, max_features=auto, n_estimators=200 ................\n",
      "[CV] . max_depth=1, max_features=auto, n_estimators=200, total=   0.5s\n",
      "[CV] max_depth=1, max_features=auto, n_estimators=200 ................\n",
      "[CV] . max_depth=1, max_features=auto, n_estimators=200, total=   0.4s\n",
      "[CV] max_depth=1, max_features=auto, n_estimators=200 ................\n",
      "[CV] . max_depth=1, max_features=auto, n_estimators=200, total=   0.4s\n",
      "[CV] max_depth=1, max_features=auto, n_estimators=200 ................\n",
      "[CV] . max_depth=1, max_features=auto, n_estimators=200, total=   0.4s\n",
      "[CV] max_depth=1, max_features=auto, n_estimators=200 ................\n",
      "[CV] . max_depth=1, max_features=auto, n_estimators=200, total=   0.4s\n",
      "[CV] max_depth=1, max_features=auto, n_estimators=700 ................\n",
      "[CV] . max_depth=1, max_features=auto, n_estimators=700, total=   2.7s\n",
      "[CV] max_depth=1, max_features=auto, n_estimators=700 ................\n",
      "[CV] . max_depth=1, max_features=auto, n_estimators=700, total=   5.2s\n",
      "[CV] max_depth=1, max_features=auto, n_estimators=700 ................\n",
      "[CV] . max_depth=1, max_features=auto, n_estimators=700, total=   2.8s\n",
      "[CV] max_depth=1, max_features=auto, n_estimators=700 ................\n",
      "[CV] . max_depth=1, max_features=auto, n_estimators=700, total=   1.5s\n",
      "[CV] max_depth=1, max_features=auto, n_estimators=700 ................\n",
      "[CV] . max_depth=1, max_features=auto, n_estimators=700, total=   1.6s\n",
      "[CV] max_depth=1, max_features=sqrt, n_estimators=100 ................\n",
      "[CV] . max_depth=1, max_features=sqrt, n_estimators=100, total=   0.1s\n",
      "[CV] max_depth=1, max_features=sqrt, n_estimators=100 ................\n",
      "[CV] . max_depth=1, max_features=sqrt, n_estimators=100, total=   0.1s\n",
      "[CV] max_depth=1, max_features=sqrt, n_estimators=100 ................\n",
      "[CV] . max_depth=1, max_features=sqrt, n_estimators=100, total=   0.1s\n",
      "[CV] max_depth=1, max_features=sqrt, n_estimators=100 ................\n",
      "[CV] . max_depth=1, max_features=sqrt, n_estimators=100, total=   0.1s\n",
      "[CV] max_depth=1, max_features=sqrt, n_estimators=100 ................\n",
      "[CV] . max_depth=1, max_features=sqrt, n_estimators=100, total=   0.1s\n",
      "[CV] max_depth=1, max_features=sqrt, n_estimators=200 ................\n",
      "[CV] . max_depth=1, max_features=sqrt, n_estimators=200, total=   0.3s\n",
      "[CV] max_depth=1, max_features=sqrt, n_estimators=200 ................\n",
      "[CV] . max_depth=1, max_features=sqrt, n_estimators=200, total=   0.3s\n",
      "[CV] max_depth=1, max_features=sqrt, n_estimators=200 ................\n",
      "[CV] . max_depth=1, max_features=sqrt, n_estimators=200, total=   0.3s\n",
      "[CV] max_depth=1, max_features=sqrt, n_estimators=200 ................\n",
      "[CV] . max_depth=1, max_features=sqrt, n_estimators=200, total=   0.3s\n",
      "[CV] max_depth=1, max_features=sqrt, n_estimators=200 ................\n",
      "[CV] . max_depth=1, max_features=sqrt, n_estimators=200, total=   0.3s\n",
      "[CV] max_depth=1, max_features=sqrt, n_estimators=700 ................\n",
      "[CV] . max_depth=1, max_features=sqrt, n_estimators=700, total=   1.0s\n",
      "[CV] max_depth=1, max_features=sqrt, n_estimators=700 ................\n",
      "[CV] . max_depth=1, max_features=sqrt, n_estimators=700, total=   0.9s\n",
      "[CV] max_depth=1, max_features=sqrt, n_estimators=700 ................\n",
      "[CV] . max_depth=1, max_features=sqrt, n_estimators=700, total=   0.9s\n",
      "[CV] max_depth=1, max_features=sqrt, n_estimators=700 ................\n",
      "[CV] . max_depth=1, max_features=sqrt, n_estimators=700, total=   0.9s\n",
      "[CV] max_depth=1, max_features=sqrt, n_estimators=700 ................\n",
      "[CV] . max_depth=1, max_features=sqrt, n_estimators=700, total=   2.8s\n",
      "[CV] max_depth=1, max_features=log2, n_estimators=100 ................\n",
      "[CV] . max_depth=1, max_features=log2, n_estimators=100, total=   0.4s\n",
      "[CV] max_depth=1, max_features=log2, n_estimators=100 ................\n",
      "[CV] . max_depth=1, max_features=log2, n_estimators=100, total=   0.3s\n",
      "[CV] max_depth=1, max_features=log2, n_estimators=100 ................\n",
      "[CV] . max_depth=1, max_features=log2, n_estimators=100, total=   0.4s\n",
      "[CV] max_depth=1, max_features=log2, n_estimators=100 ................\n",
      "[CV] . max_depth=1, max_features=log2, n_estimators=100, total=   0.9s\n",
      "[CV] max_depth=1, max_features=log2, n_estimators=100 ................\n",
      "[CV] . max_depth=1, max_features=log2, n_estimators=100, total=   1.1s\n",
      "[CV] max_depth=1, max_features=log2, n_estimators=200 ................\n",
      "[CV] . max_depth=1, max_features=log2, n_estimators=200, total=   1.6s\n",
      "[CV] max_depth=1, max_features=log2, n_estimators=200 ................\n",
      "[CV] . max_depth=1, max_features=log2, n_estimators=200, total=   1.5s\n",
      "[CV] max_depth=1, max_features=log2, n_estimators=200 ................\n",
      "[CV] . max_depth=1, max_features=log2, n_estimators=200, total=   1.6s\n",
      "[CV] max_depth=1, max_features=log2, n_estimators=200 ................\n",
      "[CV] . max_depth=1, max_features=log2, n_estimators=200, total=   1.4s\n",
      "[CV] max_depth=1, max_features=log2, n_estimators=200 ................\n",
      "[CV] . max_depth=1, max_features=log2, n_estimators=200, total=   0.8s\n",
      "[CV] max_depth=1, max_features=log2, n_estimators=700 ................\n",
      "[CV] . max_depth=1, max_features=log2, n_estimators=700, total=   1.5s\n",
      "[CV] max_depth=1, max_features=log2, n_estimators=700 ................\n",
      "[CV] . max_depth=1, max_features=log2, n_estimators=700, total=   0.9s\n",
      "[CV] max_depth=1, max_features=log2, n_estimators=700 ................\n",
      "[CV] . max_depth=1, max_features=log2, n_estimators=700, total=   0.9s\n",
      "[CV] max_depth=1, max_features=log2, n_estimators=700 ................\n",
      "[CV] . max_depth=1, max_features=log2, n_estimators=700, total=   0.9s\n",
      "[CV] max_depth=1, max_features=log2, n_estimators=700 ................\n",
      "[CV] . max_depth=1, max_features=log2, n_estimators=700, total=   0.9s\n",
      "[CV] max_depth=3, max_features=auto, n_estimators=100 ................\n",
      "[CV] . max_depth=3, max_features=auto, n_estimators=100, total=   0.4s\n",
      "[CV] max_depth=3, max_features=auto, n_estimators=100 ................\n",
      "[CV] . max_depth=3, max_features=auto, n_estimators=100, total=   0.4s\n",
      "[CV] max_depth=3, max_features=auto, n_estimators=100 ................\n",
      "[CV] . max_depth=3, max_features=auto, n_estimators=100, total=   0.3s\n",
      "[CV] max_depth=3, max_features=auto, n_estimators=100 ................\n",
      "[CV] . max_depth=3, max_features=auto, n_estimators=100, total=   0.4s\n",
      "[CV] max_depth=3, max_features=auto, n_estimators=100 ................\n",
      "[CV] . max_depth=3, max_features=auto, n_estimators=100, total=   0.5s\n",
      "[CV] max_depth=3, max_features=auto, n_estimators=200 ................\n",
      "[CV] . max_depth=3, max_features=auto, n_estimators=200, total=   2.5s\n",
      "[CV] max_depth=3, max_features=auto, n_estimators=200 ................\n",
      "[CV] . max_depth=3, max_features=auto, n_estimators=200, total=   4.0s\n",
      "[CV] max_depth=3, max_features=auto, n_estimators=200 ................\n",
      "[CV] . max_depth=3, max_features=auto, n_estimators=200, total=   2.1s\n",
      "[CV] max_depth=3, max_features=auto, n_estimators=200 ................\n",
      "[CV] . max_depth=3, max_features=auto, n_estimators=200, total=   0.9s\n",
      "[CV] max_depth=3, max_features=auto, n_estimators=200 ................\n",
      "[CV] . max_depth=3, max_features=auto, n_estimators=200, total=   1.4s\n",
      "[CV] max_depth=3, max_features=auto, n_estimators=700 ................\n",
      "[CV] . max_depth=3, max_features=auto, n_estimators=700, total=   9.2s\n",
      "[CV] max_depth=3, max_features=auto, n_estimators=700 ................\n",
      "[CV] . max_depth=3, max_features=auto, n_estimators=700, total=   2.8s\n",
      "[CV] max_depth=3, max_features=auto, n_estimators=700 ................\n",
      "[CV] . max_depth=3, max_features=auto, n_estimators=700, total=   2.7s\n",
      "[CV] max_depth=3, max_features=auto, n_estimators=700 ................\n",
      "[CV] . max_depth=3, max_features=auto, n_estimators=700, total=   4.1s\n",
      "[CV] max_depth=3, max_features=auto, n_estimators=700 ................\n",
      "[CV] . max_depth=3, max_features=auto, n_estimators=700, total=   5.3s\n",
      "[CV] max_depth=3, max_features=sqrt, n_estimators=100 ................\n",
      "[CV] . max_depth=3, max_features=sqrt, n_estimators=100, total=   0.2s\n",
      "[CV] max_depth=3, max_features=sqrt, n_estimators=100 ................\n",
      "[CV] . max_depth=3, max_features=sqrt, n_estimators=100, total=   0.2s\n",
      "[CV] max_depth=3, max_features=sqrt, n_estimators=100 ................\n",
      "[CV] . max_depth=3, max_features=sqrt, n_estimators=100, total=   0.2s\n",
      "[CV] max_depth=3, max_features=sqrt, n_estimators=100 ................\n",
      "[CV] . max_depth=3, max_features=sqrt, n_estimators=100, total=   0.2s\n",
      "[CV] max_depth=3, max_features=sqrt, n_estimators=100 ................\n",
      "[CV] . max_depth=3, max_features=sqrt, n_estimators=100, total=   0.2s\n",
      "[CV] max_depth=3, max_features=sqrt, n_estimators=200 ................\n",
      "[CV] . max_depth=3, max_features=sqrt, n_estimators=200, total=   0.5s\n",
      "[CV] max_depth=3, max_features=sqrt, n_estimators=200 ................\n",
      "[CV] . max_depth=3, max_features=sqrt, n_estimators=200, total=   0.4s\n",
      "[CV] max_depth=3, max_features=sqrt, n_estimators=200 ................\n",
      "[CV] . max_depth=3, max_features=sqrt, n_estimators=200, total=   0.4s\n",
      "[CV] max_depth=3, max_features=sqrt, n_estimators=200 ................\n",
      "[CV] . max_depth=3, max_features=sqrt, n_estimators=200, total=   0.4s\n",
      "[CV] max_depth=3, max_features=sqrt, n_estimators=200 ................\n",
      "[CV] . max_depth=3, max_features=sqrt, n_estimators=200, total=   0.5s\n",
      "[CV] max_depth=3, max_features=sqrt, n_estimators=700 ................\n",
      "[CV] . max_depth=3, max_features=sqrt, n_estimators=700, total=   1.4s\n",
      "[CV] max_depth=3, max_features=sqrt, n_estimators=700 ................\n",
      "[CV] . max_depth=3, max_features=sqrt, n_estimators=700, total=   3.5s\n",
      "[CV] max_depth=3, max_features=sqrt, n_estimators=700 ................\n",
      "[CV] . max_depth=3, max_features=sqrt, n_estimators=700, total=   3.3s\n",
      "[CV] max_depth=3, max_features=sqrt, n_estimators=700 ................\n",
      "[CV] . max_depth=3, max_features=sqrt, n_estimators=700, total=   1.6s\n",
      "[CV] max_depth=3, max_features=sqrt, n_estimators=700 ................\n",
      "[CV] . max_depth=3, max_features=sqrt, n_estimators=700, total=   1.5s\n",
      "[CV] max_depth=3, max_features=log2, n_estimators=100 ................\n",
      "[CV] . max_depth=3, max_features=log2, n_estimators=100, total=   0.2s\n",
      "[CV] max_depth=3, max_features=log2, n_estimators=100 ................\n",
      "[CV] . max_depth=3, max_features=log2, n_estimators=100, total=   0.2s\n",
      "[CV] max_depth=3, max_features=log2, n_estimators=100 ................\n",
      "[CV] . max_depth=3, max_features=log2, n_estimators=100, total=   0.2s\n",
      "[CV] max_depth=3, max_features=log2, n_estimators=100 ................\n",
      "[CV] . max_depth=3, max_features=log2, n_estimators=100, total=   0.2s\n",
      "[CV] max_depth=3, max_features=log2, n_estimators=100 ................\n",
      "[CV] . max_depth=3, max_features=log2, n_estimators=100, total=   0.2s\n",
      "[CV] max_depth=3, max_features=log2, n_estimators=200 ................\n",
      "[CV] . max_depth=3, max_features=log2, n_estimators=200, total=   0.9s\n",
      "[CV] max_depth=3, max_features=log2, n_estimators=200 ................\n",
      "[CV] . max_depth=3, max_features=log2, n_estimators=200, total=   0.9s\n",
      "[CV] max_depth=3, max_features=log2, n_estimators=200 ................\n",
      "[CV] . max_depth=3, max_features=log2, n_estimators=200, total=   1.2s\n",
      "[CV] max_depth=3, max_features=log2, n_estimators=200 ................\n",
      "[CV] . max_depth=3, max_features=log2, n_estimators=200, total=   1.3s\n",
      "[CV] max_depth=3, max_features=log2, n_estimators=200 ................\n",
      "[CV] . max_depth=3, max_features=log2, n_estimators=200, total=   1.0s\n",
      "[CV] max_depth=3, max_features=log2, n_estimators=700 ................\n",
      "[CV] . max_depth=3, max_features=log2, n_estimators=700, total=   3.5s\n",
      "[CV] max_depth=3, max_features=log2, n_estimators=700 ................\n",
      "[CV] . max_depth=3, max_features=log2, n_estimators=700, total=   3.8s\n",
      "[CV] max_depth=3, max_features=log2, n_estimators=700 ................\n",
      "[CV] . max_depth=3, max_features=log2, n_estimators=700, total=   1.6s\n",
      "[CV] max_depth=3, max_features=log2, n_estimators=700 ................\n",
      "[CV] . max_depth=3, max_features=log2, n_estimators=700, total=   1.2s\n",
      "[CV] max_depth=3, max_features=log2, n_estimators=700 ................\n",
      "[CV] . max_depth=3, max_features=log2, n_estimators=700, total=   1.2s\n",
      "[CV] max_depth=5, max_features=auto, n_estimators=100 ................\n",
      "[CV] . max_depth=5, max_features=auto, n_estimators=100, total=   0.5s\n",
      "[CV] max_depth=5, max_features=auto, n_estimators=100 ................\n",
      "[CV] . max_depth=5, max_features=auto, n_estimators=100, total=   0.5s\n",
      "[CV] max_depth=5, max_features=auto, n_estimators=100 ................\n",
      "[CV] . max_depth=5, max_features=auto, n_estimators=100, total=   0.5s\n",
      "[CV] max_depth=5, max_features=auto, n_estimators=100 ................\n",
      "[CV] . max_depth=5, max_features=auto, n_estimators=100, total=   0.5s\n",
      "[CV] max_depth=5, max_features=auto, n_estimators=100 ................\n",
      "[CV] . max_depth=5, max_features=auto, n_estimators=100, total=   1.1s\n",
      "[CV] max_depth=5, max_features=auto, n_estimators=200 ................\n",
      "[CV] . max_depth=5, max_features=auto, n_estimators=200, total=   3.3s\n",
      "[CV] max_depth=5, max_features=auto, n_estimators=200 ................\n",
      "[CV] . max_depth=5, max_features=auto, n_estimators=200, total=   2.7s\n",
      "[CV] max_depth=5, max_features=auto, n_estimators=200 ................\n",
      "[CV] . max_depth=5, max_features=auto, n_estimators=200, total=   1.2s\n",
      "[CV] max_depth=5, max_features=auto, n_estimators=200 ................\n",
      "[CV] . max_depth=5, max_features=auto, n_estimators=200, total=   1.2s\n",
      "[CV] max_depth=5, max_features=auto, n_estimators=200 ................\n",
      "[CV] . max_depth=5, max_features=auto, n_estimators=200, total=   1.1s\n",
      "[CV] max_depth=5, max_features=auto, n_estimators=700 ................\n",
      "[CV] . max_depth=5, max_features=auto, n_estimators=700, total=   9.8s\n",
      "[CV] max_depth=5, max_features=auto, n_estimators=700 ................\n",
      "[CV] . max_depth=5, max_features=auto, n_estimators=700, total=   3.8s\n",
      "[CV] max_depth=5, max_features=auto, n_estimators=700 ................\n",
      "[CV] . max_depth=5, max_features=auto, n_estimators=700, total=  10.3s\n",
      "[CV] max_depth=5, max_features=auto, n_estimators=700 ................\n",
      "[CV] . max_depth=5, max_features=auto, n_estimators=700, total=   4.9s\n",
      "[CV] max_depth=5, max_features=auto, n_estimators=700 ................\n",
      "[CV] . max_depth=5, max_features=auto, n_estimators=700, total=   9.6s\n",
      "[CV] max_depth=5, max_features=sqrt, n_estimators=100 ................\n",
      "[CV] . max_depth=5, max_features=sqrt, n_estimators=100, total=   0.8s\n",
      "[CV] max_depth=5, max_features=sqrt, n_estimators=100 ................\n",
      "[CV] . max_depth=5, max_features=sqrt, n_estimators=100, total=   0.9s\n",
      "[CV] max_depth=5, max_features=sqrt, n_estimators=100 ................\n",
      "[CV] . max_depth=5, max_features=sqrt, n_estimators=100, total=   0.9s\n",
      "[CV] max_depth=5, max_features=sqrt, n_estimators=100 ................\n",
      "[CV] . max_depth=5, max_features=sqrt, n_estimators=100, total=   0.4s\n",
      "[CV] max_depth=5, max_features=sqrt, n_estimators=100 ................\n",
      "[CV] . max_depth=5, max_features=sqrt, n_estimators=100, total=   0.2s\n",
      "[CV] max_depth=5, max_features=sqrt, n_estimators=200 ................\n",
      "[CV] . max_depth=5, max_features=sqrt, n_estimators=200, total=   0.4s\n",
      "[CV] max_depth=5, max_features=sqrt, n_estimators=200 ................\n",
      "[CV] . max_depth=5, max_features=sqrt, n_estimators=200, total=   0.4s\n",
      "[CV] max_depth=5, max_features=sqrt, n_estimators=200 ................\n",
      "[CV] . max_depth=5, max_features=sqrt, n_estimators=200, total=   0.5s\n",
      "[CV] max_depth=5, max_features=sqrt, n_estimators=200 ................\n",
      "[CV] . max_depth=5, max_features=sqrt, n_estimators=200, total=   0.4s\n",
      "[CV] max_depth=5, max_features=sqrt, n_estimators=200 ................\n",
      "[CV] . max_depth=5, max_features=sqrt, n_estimators=200, total=   0.4s\n",
      "[CV] max_depth=5, max_features=sqrt, n_estimators=700 ................\n",
      "[CV] . max_depth=5, max_features=sqrt, n_estimators=700, total=   1.5s\n",
      "[CV] max_depth=5, max_features=sqrt, n_estimators=700 ................\n",
      "[CV] . max_depth=5, max_features=sqrt, n_estimators=700, total=   3.0s\n",
      "[CV] max_depth=5, max_features=sqrt, n_estimators=700 ................\n",
      "[CV] . max_depth=5, max_features=sqrt, n_estimators=700, total=   4.7s\n",
      "[CV] max_depth=5, max_features=sqrt, n_estimators=700 ................\n",
      "[CV] . max_depth=5, max_features=sqrt, n_estimators=700, total=   3.2s\n",
      "[CV] max_depth=5, max_features=sqrt, n_estimators=700 ................\n",
      "[CV] . max_depth=5, max_features=sqrt, n_estimators=700, total=   2.6s\n",
      "[CV] max_depth=5, max_features=log2, n_estimators=100 ................\n",
      "[CV] . max_depth=5, max_features=log2, n_estimators=100, total=   0.8s\n",
      "[CV] max_depth=5, max_features=log2, n_estimators=100 ................\n",
      "[CV] . max_depth=5, max_features=log2, n_estimators=100, total=   0.7s\n",
      "[CV] max_depth=5, max_features=log2, n_estimators=100 ................\n",
      "[CV] . max_depth=5, max_features=log2, n_estimators=100, total=   0.8s\n",
      "[CV] max_depth=5, max_features=log2, n_estimators=100 ................\n",
      "[CV] . max_depth=5, max_features=log2, n_estimators=100, total=   0.7s\n",
      "[CV] max_depth=5, max_features=log2, n_estimators=100 ................\n",
      "[CV] . max_depth=5, max_features=log2, n_estimators=100, total=   0.8s\n",
      "[CV] max_depth=5, max_features=log2, n_estimators=200 ................\n",
      "[CV] . max_depth=5, max_features=log2, n_estimators=200, total=   1.4s\n",
      "[CV] max_depth=5, max_features=log2, n_estimators=200 ................\n",
      "[CV] . max_depth=5, max_features=log2, n_estimators=200, total=   1.4s\n",
      "[CV] max_depth=5, max_features=log2, n_estimators=200 ................\n",
      "[CV] . max_depth=5, max_features=log2, n_estimators=200, total=   1.7s\n",
      "[CV] max_depth=5, max_features=log2, n_estimators=200 ................\n",
      "[CV] . max_depth=5, max_features=log2, n_estimators=200, total=   1.3s\n",
      "[CV] max_depth=5, max_features=log2, n_estimators=200 ................\n",
      "[CV] . max_depth=5, max_features=log2, n_estimators=200, total=   0.7s\n",
      "[CV] max_depth=5, max_features=log2, n_estimators=700 ................\n",
      "[CV] . max_depth=5, max_features=log2, n_estimators=700, total=   1.5s\n",
      "[CV] max_depth=5, max_features=log2, n_estimators=700 ................\n",
      "[CV] . max_depth=5, max_features=log2, n_estimators=700, total=   2.2s\n",
      "[CV] max_depth=5, max_features=log2, n_estimators=700 ................\n",
      "[CV] . max_depth=5, max_features=log2, n_estimators=700, total=   3.3s\n",
      "[CV] max_depth=5, max_features=log2, n_estimators=700 ................\n",
      "[CV] . max_depth=5, max_features=log2, n_estimators=700, total=   5.5s\n",
      "[CV] max_depth=5, max_features=log2, n_estimators=700 ................\n",
      "[CV] . max_depth=5, max_features=log2, n_estimators=700, total=   5.3s\n",
      "[CV] max_depth=7, max_features=auto, n_estimators=100 ................\n",
      "[CV] . max_depth=7, max_features=auto, n_estimators=100, total=   1.9s\n",
      "[CV] max_depth=7, max_features=auto, n_estimators=100 ................\n",
      "[CV] . max_depth=7, max_features=auto, n_estimators=100, total=   1.8s\n",
      "[CV] max_depth=7, max_features=auto, n_estimators=100 ................\n",
      "[CV] . max_depth=7, max_features=auto, n_estimators=100, total=   1.8s\n",
      "[CV] max_depth=7, max_features=auto, n_estimators=100 ................\n",
      "[CV] . max_depth=7, max_features=auto, n_estimators=100, total=   1.9s\n",
      "[CV] max_depth=7, max_features=auto, n_estimators=100 ................\n",
      "[CV] . max_depth=7, max_features=auto, n_estimators=100, total=   1.8s\n",
      "[CV] max_depth=7, max_features=auto, n_estimators=200 ................\n",
      "[CV] . max_depth=7, max_features=auto, n_estimators=200, total=   1.9s\n",
      "[CV] max_depth=7, max_features=auto, n_estimators=200 ................\n",
      "[CV] . max_depth=7, max_features=auto, n_estimators=200, total=   1.6s\n",
      "[CV] max_depth=7, max_features=auto, n_estimators=200 ................\n",
      "[CV] . max_depth=7, max_features=auto, n_estimators=200, total=   3.9s\n",
      "[CV] max_depth=7, max_features=auto, n_estimators=200 ................\n",
      "[CV] . max_depth=7, max_features=auto, n_estimators=200, total=   3.8s\n",
      "[CV] max_depth=7, max_features=auto, n_estimators=200 ................\n",
      "[CV] . max_depth=7, max_features=auto, n_estimators=200, total=   3.5s\n",
      "[CV] max_depth=7, max_features=auto, n_estimators=700 ................\n",
      "[CV] . max_depth=7, max_features=auto, n_estimators=700, total=   6.5s\n",
      "[CV] max_depth=7, max_features=auto, n_estimators=700 ................\n",
      "[CV] . max_depth=7, max_features=auto, n_estimators=700, total=  15.6s\n",
      "[CV] max_depth=7, max_features=auto, n_estimators=700 ................\n",
      "[CV] . max_depth=7, max_features=auto, n_estimators=700, total=  13.9s\n",
      "[CV] max_depth=7, max_features=auto, n_estimators=700 ................\n",
      "[CV] . max_depth=7, max_features=auto, n_estimators=700, total=  13.6s\n",
      "[CV] max_depth=7, max_features=auto, n_estimators=700 ................\n",
      "[CV] . max_depth=7, max_features=auto, n_estimators=700, total=   6.4s\n",
      "[CV] max_depth=7, max_features=sqrt, n_estimators=100 ................\n",
      "[CV] . max_depth=7, max_features=sqrt, n_estimators=100, total=   0.8s\n",
      "[CV] max_depth=7, max_features=sqrt, n_estimators=100 ................\n",
      "[CV] . max_depth=7, max_features=sqrt, n_estimators=100, total=   0.5s\n",
      "[CV] max_depth=7, max_features=sqrt, n_estimators=100 ................\n",
      "[CV] . max_depth=7, max_features=sqrt, n_estimators=100, total=   0.6s\n",
      "[CV] max_depth=7, max_features=sqrt, n_estimators=100 ................\n",
      "[CV] . max_depth=7, max_features=sqrt, n_estimators=100, total=   0.6s\n",
      "[CV] max_depth=7, max_features=sqrt, n_estimators=100 ................\n",
      "[CV] . max_depth=7, max_features=sqrt, n_estimators=100, total=   0.5s\n",
      "[CV] max_depth=7, max_features=sqrt, n_estimators=200 ................\n",
      "[CV] . max_depth=7, max_features=sqrt, n_estimators=200, total=   1.4s\n",
      "[CV] max_depth=7, max_features=sqrt, n_estimators=200 ................\n",
      "[CV] . max_depth=7, max_features=sqrt, n_estimators=200, total=   1.5s\n",
      "[CV] max_depth=7, max_features=sqrt, n_estimators=200 ................\n",
      "[CV] . max_depth=7, max_features=sqrt, n_estimators=200, total=   2.6s\n",
      "[CV] max_depth=7, max_features=sqrt, n_estimators=200 ................\n",
      "[CV] . max_depth=7, max_features=sqrt, n_estimators=200, total=   1.8s\n",
      "[CV] max_depth=7, max_features=sqrt, n_estimators=200 ................\n",
      "[CV] . max_depth=7, max_features=sqrt, n_estimators=200, total=   0.8s\n",
      "[CV] max_depth=7, max_features=sqrt, n_estimators=700 ................\n",
      "[CV] . max_depth=7, max_features=sqrt, n_estimators=700, total=   1.9s\n",
      "[CV] max_depth=7, max_features=sqrt, n_estimators=700 ................\n",
      "[CV] . max_depth=7, max_features=sqrt, n_estimators=700, total=   2.0s\n",
      "[CV] max_depth=7, max_features=sqrt, n_estimators=700 ................\n",
      "[CV] . max_depth=7, max_features=sqrt, n_estimators=700, total=   4.8s\n",
      "[CV] max_depth=7, max_features=sqrt, n_estimators=700 ................\n",
      "[CV] . max_depth=7, max_features=sqrt, n_estimators=700, total=   4.0s\n",
      "[CV] max_depth=7, max_features=sqrt, n_estimators=700 ................\n",
      "[CV] . max_depth=7, max_features=sqrt, n_estimators=700, total=   2.0s\n",
      "[CV] max_depth=7, max_features=log2, n_estimators=100 ................\n",
      "[CV] . max_depth=7, max_features=log2, n_estimators=100, total=   0.3s\n",
      "[CV] max_depth=7, max_features=log2, n_estimators=100 ................\n",
      "[CV] . max_depth=7, max_features=log2, n_estimators=100, total=   0.3s\n",
      "[CV] max_depth=7, max_features=log2, n_estimators=100 ................\n",
      "[CV] . max_depth=7, max_features=log2, n_estimators=100, total=   0.3s\n",
      "[CV] max_depth=7, max_features=log2, n_estimators=100 ................\n",
      "[CV] . max_depth=7, max_features=log2, n_estimators=100, total=   0.3s\n",
      "[CV] max_depth=7, max_features=log2, n_estimators=100 ................\n",
      "[CV] . max_depth=7, max_features=log2, n_estimators=100, total=   0.3s\n",
      "[CV] max_depth=7, max_features=log2, n_estimators=200 ................\n",
      "[CV] . max_depth=7, max_features=log2, n_estimators=200, total=   0.5s\n",
      "[CV] max_depth=7, max_features=log2, n_estimators=200 ................\n",
      "[CV] . max_depth=7, max_features=log2, n_estimators=200, total=   1.2s\n",
      "[CV] max_depth=7, max_features=log2, n_estimators=200 ................\n",
      "[CV] . max_depth=7, max_features=log2, n_estimators=200, total=   1.4s\n",
      "[CV] max_depth=7, max_features=log2, n_estimators=200 ................\n",
      "[CV] . max_depth=7, max_features=log2, n_estimators=200, total=   1.4s\n",
      "[CV] max_depth=7, max_features=log2, n_estimators=200 ................\n",
      "[CV] . max_depth=7, max_features=log2, n_estimators=200, total=   1.6s\n",
      "[CV] max_depth=7, max_features=log2, n_estimators=700 ................\n",
      "[CV] . max_depth=7, max_features=log2, n_estimators=700, total=   6.8s\n",
      "[CV] max_depth=7, max_features=log2, n_estimators=700 ................\n",
      "[CV] . max_depth=7, max_features=log2, n_estimators=700, total=   4.9s\n",
      "[CV] max_depth=7, max_features=log2, n_estimators=700 ................\n",
      "[CV] . max_depth=7, max_features=log2, n_estimators=700, total=   1.8s\n",
      "[CV] max_depth=7, max_features=log2, n_estimators=700 ................\n",
      "[CV] . max_depth=7, max_features=log2, n_estimators=700, total=   1.8s\n",
      "[CV] max_depth=7, max_features=log2, n_estimators=700 ................\n",
      "[CV] . max_depth=7, max_features=log2, n_estimators=700, total=   5.0s\n",
      "[CV] max_depth=10, max_features=auto, n_estimators=100 ...............\n",
      "[CV]  max_depth=10, max_features=auto, n_estimators=100, total=   2.5s\n",
      "[CV] max_depth=10, max_features=auto, n_estimators=100 ...............\n",
      "[CV]  max_depth=10, max_features=auto, n_estimators=100, total=   2.5s\n",
      "[CV] max_depth=10, max_features=auto, n_estimators=100 ...............\n",
      "[CV]  max_depth=10, max_features=auto, n_estimators=100, total=   0.9s\n",
      "[CV] max_depth=10, max_features=auto, n_estimators=100 ...............\n",
      "[CV]  max_depth=10, max_features=auto, n_estimators=100, total=   1.0s\n",
      "[CV] max_depth=10, max_features=auto, n_estimators=100 ...............\n",
      "[CV]  max_depth=10, max_features=auto, n_estimators=100, total=   0.9s\n",
      "[CV] max_depth=10, max_features=auto, n_estimators=200 ...............\n",
      "[CV]  max_depth=10, max_features=auto, n_estimators=200, total=   3.3s\n",
      "[CV] max_depth=10, max_features=auto, n_estimators=200 ...............\n",
      "[CV]  max_depth=10, max_features=auto, n_estimators=200, total=   5.2s\n",
      "[CV] max_depth=10, max_features=auto, n_estimators=200 ...............\n",
      "[CV]  max_depth=10, max_features=auto, n_estimators=200, total=   3.2s\n",
      "[CV] max_depth=10, max_features=auto, n_estimators=200 ...............\n",
      "[CV]  max_depth=10, max_features=auto, n_estimators=200, total=   1.7s\n",
      "[CV] max_depth=10, max_features=auto, n_estimators=200 ...............\n",
      "[CV]  max_depth=10, max_features=auto, n_estimators=200, total=   2.8s\n",
      "[CV] max_depth=10, max_features=auto, n_estimators=700 ...............\n",
      "[CV]  max_depth=10, max_features=auto, n_estimators=700, total=  11.0s\n",
      "[CV] max_depth=10, max_features=auto, n_estimators=700 ...............\n",
      "[CV]  max_depth=10, max_features=auto, n_estimators=700, total=  16.9s\n",
      "[CV] max_depth=10, max_features=auto, n_estimators=700 ...............\n",
      "[CV]  max_depth=10, max_features=auto, n_estimators=700, total=  12.7s\n",
      "[CV] max_depth=10, max_features=auto, n_estimators=700 ...............\n",
      "[CV]  max_depth=10, max_features=auto, n_estimators=700, total=  16.8s\n",
      "[CV] max_depth=10, max_features=auto, n_estimators=700 ...............\n",
      "[CV]  max_depth=10, max_features=auto, n_estimators=700, total=  17.1s\n",
      "[CV] max_depth=10, max_features=sqrt, n_estimators=100 ...............\n",
      "[CV]  max_depth=10, max_features=sqrt, n_estimators=100, total=   0.9s\n",
      "[CV] max_depth=10, max_features=sqrt, n_estimators=100 ...............\n",
      "[CV]  max_depth=10, max_features=sqrt, n_estimators=100, total=   0.9s\n",
      "[CV] max_depth=10, max_features=sqrt, n_estimators=100 ...............\n",
      "[CV]  max_depth=10, max_features=sqrt, n_estimators=100, total=   0.9s\n",
      "[CV] max_depth=10, max_features=sqrt, n_estimators=100 ...............\n",
      "[CV]  max_depth=10, max_features=sqrt, n_estimators=100, total=   0.9s\n",
      "[CV] max_depth=10, max_features=sqrt, n_estimators=100 ...............\n",
      "[CV]  max_depth=10, max_features=sqrt, n_estimators=100, total=   1.1s\n",
      "[CV] max_depth=10, max_features=sqrt, n_estimators=200 ...............\n",
      "[CV]  max_depth=10, max_features=sqrt, n_estimators=200, total=   1.9s\n",
      "[CV] max_depth=10, max_features=sqrt, n_estimators=200 ...............\n",
      "[CV]  max_depth=10, max_features=sqrt, n_estimators=200, total=   0.7s\n",
      "[CV] max_depth=10, max_features=sqrt, n_estimators=200 ...............\n",
      "[CV]  max_depth=10, max_features=sqrt, n_estimators=200, total=   0.8s\n",
      "[CV] max_depth=10, max_features=sqrt, n_estimators=200 ...............\n",
      "[CV]  max_depth=10, max_features=sqrt, n_estimators=200, total=   1.4s\n",
      "[CV] max_depth=10, max_features=sqrt, n_estimators=200 ...............\n",
      "[CV]  max_depth=10, max_features=sqrt, n_estimators=200, total=   1.7s\n",
      "[CV] max_depth=10, max_features=sqrt, n_estimators=700 ...............\n",
      "[CV]  max_depth=10, max_features=sqrt, n_estimators=700, total=   6.1s\n",
      "[CV] max_depth=10, max_features=sqrt, n_estimators=700 ...............\n",
      "[CV]  max_depth=10, max_features=sqrt, n_estimators=700, total=   6.2s\n",
      "[CV] max_depth=10, max_features=sqrt, n_estimators=700 ...............\n",
      "[CV]  max_depth=10, max_features=sqrt, n_estimators=700, total=   6.5s\n",
      "[CV] max_depth=10, max_features=sqrt, n_estimators=700 ...............\n",
      "[CV]  max_depth=10, max_features=sqrt, n_estimators=700, total=   6.1s\n",
      "[CV] max_depth=10, max_features=sqrt, n_estimators=700 ...............\n",
      "[CV]  max_depth=10, max_features=sqrt, n_estimators=700, total=   8.4s\n",
      "[CV] max_depth=10, max_features=log2, n_estimators=100 ...............\n",
      "[CV]  max_depth=10, max_features=log2, n_estimators=100, total=   1.5s\n",
      "[CV] max_depth=10, max_features=log2, n_estimators=100 ...............\n",
      "[CV]  max_depth=10, max_features=log2, n_estimators=100, total=   1.0s\n",
      "[CV] max_depth=10, max_features=log2, n_estimators=100 ...............\n",
      "[CV]  max_depth=10, max_features=log2, n_estimators=100, total=   0.8s\n",
      "[CV] max_depth=10, max_features=log2, n_estimators=100 ...............\n",
      "[CV]  max_depth=10, max_features=log2, n_estimators=100, total=   1.2s\n",
      "[CV] max_depth=10, max_features=log2, n_estimators=100 ...............\n",
      "[CV]  max_depth=10, max_features=log2, n_estimators=100, total=   1.1s\n",
      "[CV] max_depth=10, max_features=log2, n_estimators=200 ...............\n",
      "[CV]  max_depth=10, max_features=log2, n_estimators=200, total=   1.7s\n",
      "[CV] max_depth=10, max_features=log2, n_estimators=200 ...............\n",
      "[CV]  max_depth=10, max_features=log2, n_estimators=200, total=   1.7s\n",
      "[CV] max_depth=10, max_features=log2, n_estimators=200 ...............\n",
      "[CV]  max_depth=10, max_features=log2, n_estimators=200, total=   1.7s\n",
      "[CV] max_depth=10, max_features=log2, n_estimators=200 ...............\n",
      "[CV]  max_depth=10, max_features=log2, n_estimators=200, total=   2.0s\n",
      "[CV] max_depth=10, max_features=log2, n_estimators=200 ...............\n",
      "[CV]  max_depth=10, max_features=log2, n_estimators=200, total=   2.1s\n",
      "[CV] max_depth=10, max_features=log2, n_estimators=700 ...............\n",
      "[CV]  max_depth=10, max_features=log2, n_estimators=700, total=   6.4s\n",
      "[CV] max_depth=10, max_features=log2, n_estimators=700 ...............\n",
      "[CV]  max_depth=10, max_features=log2, n_estimators=700, total=   7.5s\n",
      "[CV] max_depth=10, max_features=log2, n_estimators=700 ...............\n",
      "[CV]  max_depth=10, max_features=log2, n_estimators=700, total=   6.9s\n",
      "[CV] max_depth=10, max_features=log2, n_estimators=700 ...............\n",
      "[CV]  max_depth=10, max_features=log2, n_estimators=700, total=   6.8s\n",
      "[CV] max_depth=10, max_features=log2, n_estimators=700 ...............\n",
      "[CV]  max_depth=10, max_features=log2, n_estimators=700, total=   7.9s\n"
     ]
    },
    {
     "name": "stderr",
     "output_type": "stream",
     "text": [
      "[Parallel(n_jobs=1)]: Done 225 out of 225 | elapsed:  9.5min finished\n"
     ]
    },
    {
     "data": {
      "text/plain": [
       "GridSearchCV(cv=5, error_score='raise',\n",
       "       estimator=RandomForestRegressor(bootstrap=True, criterion='mse', max_depth=None,\n",
       "           max_features='auto', max_leaf_nodes=None,\n",
       "           min_impurity_split=1e-07, min_samples_leaf=1,\n",
       "           min_samples_split=2, min_weight_fraction_leaf=0.0,\n",
       "           n_estimators=10, n_jobs=1, oob_score=False, random_state=None,\n",
       "           verbose=0, warm_start=False),\n",
       "       fit_params={}, iid=True, n_jobs=1,\n",
       "       param_grid={'max_depth': [1, 3, 5, 7, 10], 'max_features': ['auto', 'sqrt', 'log2'], 'n_estimators': [100, 200, 700]},\n",
       "       pre_dispatch='2*n_jobs', refit=True, return_train_score=True,\n",
       "       scoring=make_scorer(rmse_scorer), verbose=2)"
      ]
     },
     "execution_count": 15,
     "metadata": {},
     "output_type": "execute_result"
    }
   ],
   "source": [
    "# try every combination of parameters using grid search Cv\n",
    "rf = RandomForestRegressor()\n",
    "param_grid_rf = { \n",
    "    'n_estimators': [100, 200, 700],\n",
    "    'max_features': ['auto', 'sqrt', 'log2'],\n",
    "    'max_depth': [1,3,5,7, 10]\n",
    "}\n",
    "CV_rf = GridSearchCV(rf, param_grid=param_grid_rf, cv=5, verbose=2, scoring=rmse)\n",
    "#Uncomment to run\n",
    "CV_rf.fit(X, y)"
   ]
  },
  {
   "cell_type": "code",
   "execution_count": 16,
   "metadata": {
    "collapsed": false
   },
   "outputs": [
    {
     "name": "stdout",
     "output_type": "stream",
     "text": [
      "best score: 38.0549373003 \n",
      "with parameters: {'max_depth': 1, 'max_features': 'log2', 'n_estimators': 200}\n"
     ]
    }
   ],
   "source": [
    "print('best score:', CV_rf.best_score_, '\\nwith parameters:', CV_rf.best_params_)"
   ]
  },
  {
   "cell_type": "code",
   "execution_count": 17,
   "metadata": {
    "collapsed": false
   },
   "outputs": [],
   "source": [
    "best_rf = RandomForestRegressor(n_estimators=100, max_depth=1, max_features='log2')"
   ]
  },
  {
   "cell_type": "code",
   "execution_count": 18,
   "metadata": {
    "collapsed": false
   },
   "outputs": [
    {
     "data": {
      "image/png": "[encoded data removed]",
      "text/plain": [
       "<matplotlib.figure.Figure at 0x1133e1e48>"
      ]
     },
     "metadata": {},
     "output_type": "display_data"
    }
   ],
   "source": [
    "plot_learning_curve(best_rf, 'Learning curve for random forest', X, y);"
   ]
  },
  {
   "cell_type": "markdown",
   "metadata": {},
   "source": [
    "## Multi-layer Perceptron (MLP) Regressor"
   ]
  },
  {
   "cell_type": "code",
   "execution_count": 19,
   "metadata": {
    "collapsed": false
   },
   "outputs": [
    {
     "name": "stdout",
     "output_type": "stream",
     "text": [
      "Fitting 5 folds for each of 8 candidates, totalling 40 fits\n",
      "[CV] early_stopping=True, activation=logistic, power_t=0.5, learning_rate=adaptive, max_iter=200, batch_size=auto \n",
      "[CV]  early_stopping=True, activation=logistic, power_t=0.5, learning_rate=adaptive, max_iter=200, batch_size=auto, score=39.624379, total=   6.6s\n",
      "[CV] early_stopping=True, activation=logistic, power_t=0.5, learning_rate=adaptive, max_iter=200, batch_size=auto \n"
     ]
    },
    {
     "name": "stderr",
     "output_type": "stream",
     "text": [
      "[Parallel(n_jobs=1)]: Done   1 out of   1 | elapsed:    6.6s remaining:    0.0s\n",
      "/Users/seth/anaconda/lib/python3.5/site-packages/sklearn/neural_network/multilayer_perceptron.py:563: ConvergenceWarning: Stochastic Optimizer: Maximum iterations reached and the optimization hasn't converged yet.\n",
      "  % (), ConvergenceWarning)\n",
      "[Parallel(n_jobs=1)]: Done   2 out of   2 | elapsed:   13.3s remaining:    0.0s\n"
     ]
    },
    {
     "name": "stdout",
     "output_type": "stream",
     "text": [
      "[CV]  early_stopping=True, activation=logistic, power_t=0.5, learning_rate=adaptive, max_iter=200, batch_size=auto, score=41.167650, total=   6.6s\n",
      "[CV] early_stopping=True, activation=logistic, power_t=0.5, learning_rate=adaptive, max_iter=200, batch_size=auto \n",
      "[CV]  early_stopping=True, activation=logistic, power_t=0.5, learning_rate=adaptive, max_iter=200, batch_size=auto, score=40.138526, total=   6.6s\n",
      "[CV] early_stopping=True, activation=logistic, power_t=0.5, learning_rate=adaptive, max_iter=200, batch_size=auto \n",
      "[CV]  early_stopping=True, activation=logistic, power_t=0.5, learning_rate=adaptive, max_iter=200, batch_size=auto, score=39.735220, total=   7.6s\n",
      "[CV] early_stopping=True, activation=logistic, power_t=0.5, learning_rate=adaptive, max_iter=200, batch_size=auto \n"
     ]
    },
    {
     "name": "stderr",
     "output_type": "stream",
     "text": [
      "/Users/seth/anaconda/lib/python3.5/site-packages/sklearn/neural_network/multilayer_perceptron.py:563: ConvergenceWarning: Stochastic Optimizer: Maximum iterations reached and the optimization hasn't converged yet.\n",
      "  % (), ConvergenceWarning)\n"
     ]
    },
    {
     "name": "stdout",
     "output_type": "stream",
     "text": [
      "[CV]  early_stopping=True, activation=logistic, power_t=0.5, learning_rate=adaptive, max_iter=200, batch_size=auto, score=39.618643, total=  12.2s\n",
      "[CV] early_stopping=False, activation=logistic, power_t=0.5, learning_rate=adaptive, max_iter=200, batch_size=auto \n"
     ]
    },
    {
     "name": "stderr",
     "output_type": "stream",
     "text": [
      "/Users/seth/anaconda/lib/python3.5/site-packages/sklearn/neural_network/multilayer_perceptron.py:563: ConvergenceWarning: Stochastic Optimizer: Maximum iterations reached and the optimization hasn't converged yet.\n",
      "  % (), ConvergenceWarning)\n"
     ]
    },
    {
     "name": "stdout",
     "output_type": "stream",
     "text": [
      "[CV]  early_stopping=False, activation=logistic, power_t=0.5, learning_rate=adaptive, max_iter=200, batch_size=auto, score=39.193612, total=   8.4s\n",
      "[CV] early_stopping=False, activation=logistic, power_t=0.5, learning_rate=adaptive, max_iter=200, batch_size=auto \n"
     ]
    },
    {
     "name": "stderr",
     "output_type": "stream",
     "text": [
      "/Users/seth/anaconda/lib/python3.5/site-packages/sklearn/neural_network/multilayer_perceptron.py:563: ConvergenceWarning: Stochastic Optimizer: Maximum iterations reached and the optimization hasn't converged yet.\n",
      "  % (), ConvergenceWarning)\n"
     ]
    },
    {
     "name": "stdout",
     "output_type": "stream",
     "text": [
      "[CV]  early_stopping=False, activation=logistic, power_t=0.5, learning_rate=adaptive, max_iter=200, batch_size=auto, score=40.999584, total=   7.5s\n",
      "[CV] early_stopping=False, activation=logistic, power_t=0.5, learning_rate=adaptive, max_iter=200, batch_size=auto \n"
     ]
    },
    {
     "name": "stderr",
     "output_type": "stream",
     "text": [
      "/Users/seth/anaconda/lib/python3.5/site-packages/sklearn/neural_network/multilayer_perceptron.py:563: ConvergenceWarning: Stochastic Optimizer: Maximum iterations reached and the optimization hasn't converged yet.\n",
      "  % (), ConvergenceWarning)\n"
     ]
    },
    {
     "name": "stdout",
     "output_type": "stream",
     "text": [
      "[CV]  early_stopping=False, activation=logistic, power_t=0.5, learning_rate=adaptive, max_iter=200, batch_size=auto, score=39.870343, total=   9.5s\n",
      "[CV] early_stopping=False, activation=logistic, power_t=0.5, learning_rate=adaptive, max_iter=200, batch_size=auto \n"
     ]
    },
    {
     "name": "stderr",
     "output_type": "stream",
     "text": [
      "/Users/seth/anaconda/lib/python3.5/site-packages/sklearn/neural_network/multilayer_perceptron.py:563: ConvergenceWarning: Stochastic Optimizer: Maximum iterations reached and the optimization hasn't converged yet.\n",
      "  % (), ConvergenceWarning)\n"
     ]
    },
    {
     "name": "stdout",
     "output_type": "stream",
     "text": [
      "[CV]  early_stopping=False, activation=logistic, power_t=0.5, learning_rate=adaptive, max_iter=200, batch_size=auto, score=39.604612, total=   8.6s\n",
      "[CV] early_stopping=False, activation=logistic, power_t=0.5, learning_rate=adaptive, max_iter=200, batch_size=auto \n"
     ]
    },
    {
     "name": "stderr",
     "output_type": "stream",
     "text": [
      "/Users/seth/anaconda/lib/python3.5/site-packages/sklearn/neural_network/multilayer_perceptron.py:563: ConvergenceWarning: Stochastic Optimizer: Maximum iterations reached and the optimization hasn't converged yet.\n",
      "  % (), ConvergenceWarning)\n"
     ]
    },
    {
     "name": "stdout",
     "output_type": "stream",
     "text": [
      "[CV]  early_stopping=False, activation=logistic, power_t=0.5, learning_rate=adaptive, max_iter=200, batch_size=auto, score=39.463873, total=   8.6s\n",
      "[CV] early_stopping=True, activation=logistic, power_t=0.5, learning_rate=adaptive, max_iter=200, batch_size=50 \n",
      "[CV]  early_stopping=True, activation=logistic, power_t=0.5, learning_rate=adaptive, max_iter=200, batch_size=50, score=38.879181, total=   9.4s\n",
      "[CV] early_stopping=True, activation=logistic, power_t=0.5, learning_rate=adaptive, max_iter=200, batch_size=50 \n",
      "[CV]  early_stopping=True, activation=logistic, power_t=0.5, learning_rate=adaptive, max_iter=200, batch_size=50, score=40.700362, total=   9.3s\n",
      "[CV] early_stopping=True, activation=logistic, power_t=0.5, learning_rate=adaptive, max_iter=200, batch_size=50 \n",
      "[CV]  early_stopping=True, activation=logistic, power_t=0.5, learning_rate=adaptive, max_iter=200, batch_size=50, score=39.612269, total=   9.3s\n",
      "[CV] early_stopping=True, activation=logistic, power_t=0.5, learning_rate=adaptive, max_iter=200, batch_size=50 \n",
      "[CV]  early_stopping=True, activation=logistic, power_t=0.5, learning_rate=adaptive, max_iter=200, batch_size=50, score=39.423695, total=   8.6s\n",
      "[CV] early_stopping=True, activation=logistic, power_t=0.5, learning_rate=adaptive, max_iter=200, batch_size=50 \n",
      "[CV]  early_stopping=True, activation=logistic, power_t=0.5, learning_rate=adaptive, max_iter=200, batch_size=50, score=40.606578, total=   0.9s\n",
      "[CV] early_stopping=False, activation=logistic, power_t=0.5, learning_rate=adaptive, max_iter=200, batch_size=50 \n",
      "[CV]  early_stopping=False, activation=logistic, power_t=0.5, learning_rate=adaptive, max_iter=200, batch_size=50, score=38.594128, total=  15.1s\n",
      "[CV] early_stopping=False, activation=logistic, power_t=0.5, learning_rate=adaptive, max_iter=200, batch_size=50 \n",
      "[CV]  early_stopping=False, activation=logistic, power_t=0.5, learning_rate=adaptive, max_iter=200, batch_size=50, score=40.300150, total=  13.7s\n",
      "[CV] early_stopping=False, activation=logistic, power_t=0.5, learning_rate=adaptive, max_iter=200, batch_size=50 \n",
      "[CV]  early_stopping=False, activation=logistic, power_t=0.5, learning_rate=adaptive, max_iter=200, batch_size=50, score=39.505869, total=  16.6s\n",
      "[CV] early_stopping=False, activation=logistic, power_t=0.5, learning_rate=adaptive, max_iter=200, batch_size=50 \n",
      "[CV]  early_stopping=False, activation=logistic, power_t=0.5, learning_rate=adaptive, max_iter=200, batch_size=50, score=39.398776, total=  19.2s\n",
      "[CV] early_stopping=False, activation=logistic, power_t=0.5, learning_rate=adaptive, max_iter=200, batch_size=50 \n",
      "[CV]  early_stopping=False, activation=logistic, power_t=0.5, learning_rate=adaptive, max_iter=200, batch_size=50, score=39.352517, total=  14.3s\n",
      "[CV] early_stopping=True, activation=logistic, power_t=0.5, learning_rate=adaptive, max_iter=200, batch_size=100 \n",
      "[CV]  early_stopping=True, activation=logistic, power_t=0.5, learning_rate=adaptive, max_iter=200, batch_size=100, score=39.887047, total=   4.9s\n",
      "[CV] early_stopping=True, activation=logistic, power_t=0.5, learning_rate=adaptive, max_iter=200, batch_size=100 \n"
     ]
    },
    {
     "name": "stderr",
     "output_type": "stream",
     "text": [
      "/Users/seth/anaconda/lib/python3.5/site-packages/sklearn/neural_network/multilayer_perceptron.py:563: ConvergenceWarning: Stochastic Optimizer: Maximum iterations reached and the optimization hasn't converged yet.\n",
      "  % (), ConvergenceWarning)\n"
     ]
    },
    {
     "name": "stdout",
     "output_type": "stream",
     "text": [
      "[CV]  early_stopping=True, activation=logistic, power_t=0.5, learning_rate=adaptive, max_iter=200, batch_size=100, score=40.547375, total=  13.0s\n",
      "[CV] early_stopping=True, activation=logistic, power_t=0.5, learning_rate=adaptive, max_iter=200, batch_size=100 \n",
      "[CV]  early_stopping=True, activation=logistic, power_t=0.5, learning_rate=adaptive, max_iter=200, batch_size=100, score=40.325864, total=   6.9s\n",
      "[CV] early_stopping=True, activation=logistic, power_t=0.5, learning_rate=adaptive, max_iter=200, batch_size=100 \n",
      "[CV]  early_stopping=True, activation=logistic, power_t=0.5, learning_rate=adaptive, max_iter=200, batch_size=100, score=39.474604, total=  14.3s\n",
      "[CV] early_stopping=True, activation=logistic, power_t=0.5, learning_rate=adaptive, max_iter=200, batch_size=100 \n",
      "[CV]  early_stopping=True, activation=logistic, power_t=0.5, learning_rate=adaptive, max_iter=200, batch_size=100, score=39.300572, total=   9.4s\n",
      "[CV] early_stopping=False, activation=logistic, power_t=0.5, learning_rate=adaptive, max_iter=200, batch_size=100 \n"
     ]
    },
    {
     "name": "stderr",
     "output_type": "stream",
     "text": [
      "/Users/seth/anaconda/lib/python3.5/site-packages/sklearn/neural_network/multilayer_perceptron.py:563: ConvergenceWarning: Stochastic Optimizer: Maximum iterations reached and the optimization hasn't converged yet.\n",
      "  % (), ConvergenceWarning)\n"
     ]
    },
    {
     "name": "stdout",
     "output_type": "stream",
     "text": [
      "[CV]  early_stopping=False, activation=logistic, power_t=0.5, learning_rate=adaptive, max_iter=200, batch_size=100, score=38.681683, total=  12.0s\n",
      "[CV] early_stopping=False, activation=logistic, power_t=0.5, learning_rate=adaptive, max_iter=200, batch_size=100 \n"
     ]
    },
    {
     "name": "stderr",
     "output_type": "stream",
     "text": [
      "/Users/seth/anaconda/lib/python3.5/site-packages/sklearn/neural_network/multilayer_perceptron.py:563: ConvergenceWarning: Stochastic Optimizer: Maximum iterations reached and the optimization hasn't converged yet.\n",
      "  % (), ConvergenceWarning)\n"
     ]
    },
    {
     "name": "stdout",
     "output_type": "stream",
     "text": [
      "[CV]  early_stopping=False, activation=logistic, power_t=0.5, learning_rate=adaptive, max_iter=200, batch_size=100, score=40.405831, total=  10.7s\n",
      "[CV] early_stopping=False, activation=logistic, power_t=0.5, learning_rate=adaptive, max_iter=200, batch_size=100 \n"
     ]
    },
    {
     "name": "stderr",
     "output_type": "stream",
     "text": [
      "/Users/seth/anaconda/lib/python3.5/site-packages/sklearn/neural_network/multilayer_perceptron.py:563: ConvergenceWarning: Stochastic Optimizer: Maximum iterations reached and the optimization hasn't converged yet.\n",
      "  % (), ConvergenceWarning)\n"
     ]
    },
    {
     "name": "stdout",
     "output_type": "stream",
     "text": [
      "[CV]  early_stopping=False, activation=logistic, power_t=0.5, learning_rate=adaptive, max_iter=200, batch_size=100, score=39.566816, total=  10.4s\n",
      "[CV] early_stopping=False, activation=logistic, power_t=0.5, learning_rate=adaptive, max_iter=200, batch_size=100 \n"
     ]
    },
    {
     "name": "stderr",
     "output_type": "stream",
     "text": [
      "/Users/seth/anaconda/lib/python3.5/site-packages/sklearn/neural_network/multilayer_perceptron.py:563: ConvergenceWarning: Stochastic Optimizer: Maximum iterations reached and the optimization hasn't converged yet.\n",
      "  % (), ConvergenceWarning)\n"
     ]
    },
    {
     "name": "stdout",
     "output_type": "stream",
     "text": [
      "[CV]  early_stopping=False, activation=logistic, power_t=0.5, learning_rate=adaptive, max_iter=200, batch_size=100, score=39.430900, total=  12.9s\n",
      "[CV] early_stopping=False, activation=logistic, power_t=0.5, learning_rate=adaptive, max_iter=200, batch_size=100 \n"
     ]
    },
    {
     "name": "stderr",
     "output_type": "stream",
     "text": [
      "/Users/seth/anaconda/lib/python3.5/site-packages/sklearn/neural_network/multilayer_perceptron.py:563: ConvergenceWarning: Stochastic Optimizer: Maximum iterations reached and the optimization hasn't converged yet.\n",
      "  % (), ConvergenceWarning)\n"
     ]
    },
    {
     "name": "stdout",
     "output_type": "stream",
     "text": [
      "[CV]  early_stopping=False, activation=logistic, power_t=0.5, learning_rate=adaptive, max_iter=200, batch_size=100, score=39.287661, total=  14.1s\n",
      "[CV] early_stopping=True, activation=logistic, power_t=0.5, learning_rate=adaptive, max_iter=200, batch_size=500 \n",
      "[CV]  early_stopping=True, activation=logistic, power_t=0.5, learning_rate=adaptive, max_iter=200, batch_size=500, score=39.968459, total=   5.3s\n",
      "[CV] early_stopping=True, activation=logistic, power_t=0.5, learning_rate=adaptive, max_iter=200, batch_size=500 \n"
     ]
    },
    {
     "name": "stderr",
     "output_type": "stream",
     "text": [
      "/Users/seth/anaconda/lib/python3.5/site-packages/sklearn/neural_network/multilayer_perceptron.py:563: ConvergenceWarning: Stochastic Optimizer: Maximum iterations reached and the optimization hasn't converged yet.\n",
      "  % (), ConvergenceWarning)\n"
     ]
    },
    {
     "name": "stdout",
     "output_type": "stream",
     "text": [
      "[CV]  early_stopping=True, activation=logistic, power_t=0.5, learning_rate=adaptive, max_iter=200, batch_size=500, score=41.642481, total=   9.3s\n",
      "[CV] early_stopping=True, activation=logistic, power_t=0.5, learning_rate=adaptive, max_iter=200, batch_size=500 \n"
     ]
    },
    {
     "name": "stderr",
     "output_type": "stream",
     "text": [
      "/Users/seth/anaconda/lib/python3.5/site-packages/sklearn/neural_network/multilayer_perceptron.py:563: ConvergenceWarning: Stochastic Optimizer: Maximum iterations reached and the optimization hasn't converged yet.\n",
      "  % (), ConvergenceWarning)\n"
     ]
    },
    {
     "name": "stdout",
     "output_type": "stream",
     "text": [
      "[CV]  early_stopping=True, activation=logistic, power_t=0.5, learning_rate=adaptive, max_iter=200, batch_size=500, score=40.292785, total=   6.8s\n",
      "[CV] early_stopping=True, activation=logistic, power_t=0.5, learning_rate=adaptive, max_iter=200, batch_size=500 \n"
     ]
    },
    {
     "name": "stderr",
     "output_type": "stream",
     "text": [
      "/Users/seth/anaconda/lib/python3.5/site-packages/sklearn/neural_network/multilayer_perceptron.py:563: ConvergenceWarning: Stochastic Optimizer: Maximum iterations reached and the optimization hasn't converged yet.\n",
      "  % (), ConvergenceWarning)\n"
     ]
    },
    {
     "name": "stdout",
     "output_type": "stream",
     "text": [
      "[CV]  early_stopping=True, activation=logistic, power_t=0.5, learning_rate=adaptive, max_iter=200, batch_size=500, score=39.965307, total=   5.6s\n",
      "[CV] early_stopping=True, activation=logistic, power_t=0.5, learning_rate=adaptive, max_iter=200, batch_size=500 \n"
     ]
    },
    {
     "name": "stderr",
     "output_type": "stream",
     "text": [
      "/Users/seth/anaconda/lib/python3.5/site-packages/sklearn/neural_network/multilayer_perceptron.py:563: ConvergenceWarning: Stochastic Optimizer: Maximum iterations reached and the optimization hasn't converged yet.\n",
      "  % (), ConvergenceWarning)\n"
     ]
    },
    {
     "name": "stdout",
     "output_type": "stream",
     "text": [
      "[CV]  early_stopping=True, activation=logistic, power_t=0.5, learning_rate=adaptive, max_iter=200, batch_size=500, score=39.987696, total=   6.3s\n",
      "[CV] early_stopping=False, activation=logistic, power_t=0.5, learning_rate=adaptive, max_iter=200, batch_size=500 \n"
     ]
    },
    {
     "name": "stderr",
     "output_type": "stream",
     "text": [
      "/Users/seth/anaconda/lib/python3.5/site-packages/sklearn/neural_network/multilayer_perceptron.py:563: ConvergenceWarning: Stochastic Optimizer: Maximum iterations reached and the optimization hasn't converged yet.\n",
      "  % (), ConvergenceWarning)\n"
     ]
    },
    {
     "name": "stdout",
     "output_type": "stream",
     "text": [
      "[CV]  early_stopping=False, activation=logistic, power_t=0.5, learning_rate=adaptive, max_iter=200, batch_size=500, score=39.850707, total=   7.0s\n",
      "[CV] early_stopping=False, activation=logistic, power_t=0.5, learning_rate=adaptive, max_iter=200, batch_size=500 \n"
     ]
    },
    {
     "name": "stderr",
     "output_type": "stream",
     "text": [
      "/Users/seth/anaconda/lib/python3.5/site-packages/sklearn/neural_network/multilayer_perceptron.py:563: ConvergenceWarning: Stochastic Optimizer: Maximum iterations reached and the optimization hasn't converged yet.\n",
      "  % (), ConvergenceWarning)\n"
     ]
    },
    {
     "name": "stdout",
     "output_type": "stream",
     "text": [
      "[CV]  early_stopping=False, activation=logistic, power_t=0.5, learning_rate=adaptive, max_iter=200, batch_size=500, score=41.526310, total=  13.4s\n",
      "[CV] early_stopping=False, activation=logistic, power_t=0.5, learning_rate=adaptive, max_iter=200, batch_size=500 \n"
     ]
    },
    {
     "name": "stderr",
     "output_type": "stream",
     "text": [
      "/Users/seth/anaconda/lib/python3.5/site-packages/sklearn/neural_network/multilayer_perceptron.py:563: ConvergenceWarning: Stochastic Optimizer: Maximum iterations reached and the optimization hasn't converged yet.\n",
      "  % (), ConvergenceWarning)\n"
     ]
    },
    {
     "name": "stdout",
     "output_type": "stream",
     "text": [
      "[CV]  early_stopping=False, activation=logistic, power_t=0.5, learning_rate=adaptive, max_iter=200, batch_size=500, score=40.257284, total=   6.3s\n",
      "[CV] early_stopping=False, activation=logistic, power_t=0.5, learning_rate=adaptive, max_iter=200, batch_size=500 \n"
     ]
    },
    {
     "name": "stderr",
     "output_type": "stream",
     "text": [
      "/Users/seth/anaconda/lib/python3.5/site-packages/sklearn/neural_network/multilayer_perceptron.py:563: ConvergenceWarning: Stochastic Optimizer: Maximum iterations reached and the optimization hasn't converged yet.\n",
      "  % (), ConvergenceWarning)\n"
     ]
    },
    {
     "name": "stdout",
     "output_type": "stream",
     "text": [
      "[CV]  early_stopping=False, activation=logistic, power_t=0.5, learning_rate=adaptive, max_iter=200, batch_size=500, score=39.900237, total=   7.1s\n",
      "[CV] early_stopping=False, activation=logistic, power_t=0.5, learning_rate=adaptive, max_iter=200, batch_size=500 \n"
     ]
    },
    {
     "name": "stderr",
     "output_type": "stream",
     "text": [
      "/Users/seth/anaconda/lib/python3.5/site-packages/sklearn/neural_network/multilayer_perceptron.py:563: ConvergenceWarning: Stochastic Optimizer: Maximum iterations reached and the optimization hasn't converged yet.\n",
      "  % (), ConvergenceWarning)\n",
      "[Parallel(n_jobs=1)]: Done  40 out of  40 | elapsed:  6.4min finished\n"
     ]
    },
    {
     "name": "stdout",
     "output_type": "stream",
     "text": [
      "[CV]  early_stopping=False, activation=logistic, power_t=0.5, learning_rate=adaptive, max_iter=200, batch_size=500, score=39.947867, total=   8.8s\n"
     ]
    },
    {
     "name": "stderr",
     "output_type": "stream",
     "text": [
      "/Users/seth/anaconda/lib/python3.5/site-packages/sklearn/neural_network/multilayer_perceptron.py:563: ConvergenceWarning: Stochastic Optimizer: Maximum iterations reached and the optimization hasn't converged yet.\n",
      "  % (), ConvergenceWarning)\n"
     ]
    },
    {
     "data": {
      "text/plain": [
       "GridSearchCV(cv=5, error_score='raise',\n",
       "       estimator=MLPRegressor(activation='relu', alpha=0.0001, batch_size='auto', beta_1=0.9,\n",
       "       beta_2=0.999, early_stopping=False, epsilon=1e-08,\n",
       "       hidden_layer_sizes=(100,), learning_rate='constant',\n",
       "       learning_rate_init=0.001, max_iter=200, momentum=0.9,\n",
       "       nesterovs_momentum=True, power_t=0.5, random_state=None,\n",
       "       shuffle=True, solver='adam', tol=0.0001, validation_fraction=0.1,\n",
       "       verbose=False, warm_start=False),\n",
       "       fit_params={}, iid=True, n_jobs=1,\n",
       "       param_grid={'early_stopping': [True, False], 'batch_size': ['auto', 50, 100, 500], 'power_t': [0.5], 'learning_rate': ['adaptive'], 'max_iter': [200], 'activation': ['logistic']},\n",
       "       pre_dispatch='2*n_jobs', refit=True, return_train_score=True,\n",
       "       scoring=make_scorer(rmse_scorer), verbose=3)"
      ]
     },
     "execution_count": 19,
     "metadata": {},
     "output_type": "execute_result"
    }
   ],
   "source": [
    "mlp = MLPRegressor()\n",
    "param_grid_mlp = {\n",
    "    'learning_rate': ['adaptive'],\n",
    "    'max_iter': [200],\n",
    "    'power_t': [0.5],\n",
    "    'activation': ['logistic'],\n",
    "    'batch_size': ['auto', 50, 100, 500],\n",
    "    'early_stopping': [True, False]\n",
    "}\n",
    "CV_mlp = GridSearchCV(mlp, param_grid=param_grid_mlp, cv=5, verbose=3, scoring=rmse)\n",
    "X_scaled = preprocessing.minmax_scale(X)\n",
    "CV_mlp.fit(X_scaled,y)"
   ]
  },
  {
   "cell_type": "code",
   "execution_count": 20,
   "metadata": {
    "collapsed": false
   },
   "outputs": [
    {
     "name": "stdout",
     "output_type": "stream",
     "text": [
      "best score: 40.3713455355 \n",
      "with parameters: {'early_stopping': True, 'activation': 'logistic', 'power_t': 0.5, 'learning_rate': 'adaptive', 'max_iter': 200, 'batch_size': 500}\n"
     ]
    }
   ],
   "source": [
    "print('best score:', CV_mlp.best_score_, '\\nwith parameters:', CV_mlp.best_params_)"
   ]
  },
  {
   "cell_type": "code",
   "execution_count": 21,
   "metadata": {
    "collapsed": true
   },
   "outputs": [],
   "source": [
    "best_mlp = MLPRegressor(power_t=0.5, max_iter=200, activation='logistic', learning_rate='adaptive', early_stopping=True, batch_size=500)"
   ]
  },
  {
   "cell_type": "code",
   "execution_count": 22,
   "metadata": {
    "collapsed": false
   },
   "outputs": [
    {
     "name": "stderr",
     "output_type": "stream",
     "text": [
      "/Users/seth/anaconda/lib/python3.5/site-packages/sklearn/neural_network/multilayer_perceptron.py:357: UserWarning: Got `batch_size` less than 1 or larger than sample size. It is going to be clipped\n",
      "  warnings.warn(\"Got `batch_size` less than 1 or larger than \"\n",
      "/Users/seth/anaconda/lib/python3.5/site-packages/sklearn/neural_network/multilayer_perceptron.py:563: ConvergenceWarning: Stochastic Optimizer: Maximum iterations reached and the optimization hasn't converged yet.\n",
      "  % (), ConvergenceWarning)\n",
      "/Users/seth/anaconda/lib/python3.5/site-packages/sklearn/neural_network/multilayer_perceptron.py:563: ConvergenceWarning: Stochastic Optimizer: Maximum iterations reached and the optimization hasn't converged yet.\n",
      "  % (), ConvergenceWarning)\n",
      "/Users/seth/anaconda/lib/python3.5/site-packages/sklearn/neural_network/multilayer_perceptron.py:563: ConvergenceWarning: Stochastic Optimizer: Maximum iterations reached and the optimization hasn't converged yet.\n",
      "  % (), ConvergenceWarning)\n",
      "/Users/seth/anaconda/lib/python3.5/site-packages/sklearn/neural_network/multilayer_perceptron.py:357: UserWarning: Got `batch_size` less than 1 or larger than sample size. It is going to be clipped\n",
      "  warnings.warn(\"Got `batch_size` less than 1 or larger than \"\n",
      "/Users/seth/anaconda/lib/python3.5/site-packages/sklearn/neural_network/multilayer_perceptron.py:563: ConvergenceWarning: Stochastic Optimizer: Maximum iterations reached and the optimization hasn't converged yet.\n",
      "  % (), ConvergenceWarning)\n",
      "/Users/seth/anaconda/lib/python3.5/site-packages/sklearn/neural_network/multilayer_perceptron.py:563: ConvergenceWarning: Stochastic Optimizer: Maximum iterations reached and the optimization hasn't converged yet.\n",
      "  % (), ConvergenceWarning)\n",
      "/Users/seth/anaconda/lib/python3.5/site-packages/sklearn/neural_network/multilayer_perceptron.py:563: ConvergenceWarning: Stochastic Optimizer: Maximum iterations reached and the optimization hasn't converged yet.\n",
      "  % (), ConvergenceWarning)\n",
      "/Users/seth/anaconda/lib/python3.5/site-packages/sklearn/neural_network/multilayer_perceptron.py:357: UserWarning: Got `batch_size` less than 1 or larger than sample size. It is going to be clipped\n",
      "  warnings.warn(\"Got `batch_size` less than 1 or larger than \"\n",
      "/Users/seth/anaconda/lib/python3.5/site-packages/sklearn/neural_network/multilayer_perceptron.py:563: ConvergenceWarning: Stochastic Optimizer: Maximum iterations reached and the optimization hasn't converged yet.\n",
      "  % (), ConvergenceWarning)\n",
      "/Users/seth/anaconda/lib/python3.5/site-packages/sklearn/neural_network/multilayer_perceptron.py:563: ConvergenceWarning: Stochastic Optimizer: Maximum iterations reached and the optimization hasn't converged yet.\n",
      "  % (), ConvergenceWarning)\n"
     ]
    },
    {
     "data": {
      "image/png": "[encoded data removed]",
      "text/plain": [
       "<matplotlib.figure.Figure at 0x1133e1748>"
      ]
     },
     "metadata": {},
     "output_type": "display_data"
    }
   ],
   "source": [
    "plot_learning_curve(best_mlp, 'Learning curve for MLP', X, y);"
   ]
  },
  {
   "cell_type": "markdown",
   "metadata": {},
   "source": [
    "## k-nearest Neighbors "
   ]
  },
  {
   "cell_type": "code",
   "execution_count": 23,
   "metadata": {
    "collapsed": false,
    "scrolled": true
   },
   "outputs": [
    {
     "name": "stdout",
     "output_type": "stream",
     "text": [
      "Fitting 5 folds for each of 36 candidates, totalling 180 fits\n",
      "[CV] n_neighbors=3, weights=uniform, leaf_size=5 .....................\n",
      "[CV] ...... n_neighbors=3, weights=uniform, leaf_size=5, total=   0.2s\n",
      "[CV] n_neighbors=3, weights=uniform, leaf_size=5 .....................\n"
     ]
    },
    {
     "name": "stderr",
     "output_type": "stream",
     "text": [
      "[Parallel(n_jobs=1)]: Done   1 out of   1 | elapsed:    0.7s remaining:    0.0s\n"
     ]
    },
    {
     "name": "stdout",
     "output_type": "stream",
     "text": [
      "[CV] ...... n_neighbors=3, weights=uniform, leaf_size=5, total=   0.3s\n",
      "[CV] n_neighbors=3, weights=uniform, leaf_size=5 .....................\n",
      "[CV] ...... n_neighbors=3, weights=uniform, leaf_size=5, total=   0.2s\n",
      "[CV] n_neighbors=3, weights=uniform, leaf_size=5 .....................\n",
      "[CV] ...... n_neighbors=3, weights=uniform, leaf_size=5, total=   0.2s\n",
      "[CV] n_neighbors=3, weights=uniform, leaf_size=5 .....................\n",
      "[CV] ...... n_neighbors=3, weights=uniform, leaf_size=5, total=   0.1s\n",
      "[CV] n_neighbors=3, weights=distance, leaf_size=5 ....................\n",
      "[CV] ..... n_neighbors=3, weights=distance, leaf_size=5, total=   0.2s\n",
      "[CV] n_neighbors=3, weights=distance, leaf_size=5 ....................\n",
      "[CV] ..... n_neighbors=3, weights=distance, leaf_size=5, total=   0.2s\n",
      "[CV] n_neighbors=3, weights=distance, leaf_size=5 ....................\n",
      "[CV] ..... n_neighbors=3, weights=distance, leaf_size=5, total=   0.2s\n",
      "[CV] n_neighbors=3, weights=distance, leaf_size=5 ....................\n",
      "[CV] ..... n_neighbors=3, weights=distance, leaf_size=5, total=   0.1s\n",
      "[CV] n_neighbors=3, weights=distance, leaf_size=5 ....................\n",
      "[CV] ..... n_neighbors=3, weights=distance, leaf_size=5, total=   0.1s\n",
      "[CV] n_neighbors=5, weights=uniform, leaf_size=5 .....................\n",
      "[CV] ...... n_neighbors=5, weights=uniform, leaf_size=5, total=   0.1s\n",
      "[CV] n_neighbors=5, weights=uniform, leaf_size=5 .....................\n",
      "[CV] ...... n_neighbors=5, weights=uniform, leaf_size=5, total=   0.2s\n",
      "[CV] n_neighbors=5, weights=uniform, leaf_size=5 .....................\n",
      "[CV] ...... n_neighbors=5, weights=uniform, leaf_size=5, total=   0.2s\n",
      "[CV] n_neighbors=5, weights=uniform, leaf_size=5 .....................\n",
      "[CV] ...... n_neighbors=5, weights=uniform, leaf_size=5, total=   0.2s\n",
      "[CV] n_neighbors=5, weights=uniform, leaf_size=5 .....................\n",
      "[CV] ...... n_neighbors=5, weights=uniform, leaf_size=5, total=   0.2s\n",
      "[CV] n_neighbors=5, weights=distance, leaf_size=5 ....................\n",
      "[CV] ..... n_neighbors=5, weights=distance, leaf_size=5, total=   0.2s\n",
      "[CV] n_neighbors=5, weights=distance, leaf_size=5 ....................\n",
      "[CV] ..... n_neighbors=5, weights=distance, leaf_size=5, total=   0.2s\n",
      "[CV] n_neighbors=5, weights=distance, leaf_size=5 ....................\n",
      "[CV] ..... n_neighbors=5, weights=distance, leaf_size=5, total=   0.2s\n",
      "[CV] n_neighbors=5, weights=distance, leaf_size=5 ....................\n",
      "[CV] ..... n_neighbors=5, weights=distance, leaf_size=5, total=   0.2s\n",
      "[CV] n_neighbors=5, weights=distance, leaf_size=5 ....................\n",
      "[CV] ..... n_neighbors=5, weights=distance, leaf_size=5, total=   0.1s\n",
      "[CV] n_neighbors=7, weights=uniform, leaf_size=5 .....................\n",
      "[CV] ...... n_neighbors=7, weights=uniform, leaf_size=5, total=   0.2s\n",
      "[CV] n_neighbors=7, weights=uniform, leaf_size=5 .....................\n",
      "[CV] ...... n_neighbors=7, weights=uniform, leaf_size=5, total=   0.1s\n",
      "[CV] n_neighbors=7, weights=uniform, leaf_size=5 .....................\n",
      "[CV] ...... n_neighbors=7, weights=uniform, leaf_size=5, total=   0.2s\n",
      "[CV] n_neighbors=7, weights=uniform, leaf_size=5 .....................\n",
      "[CV] ...... n_neighbors=7, weights=uniform, leaf_size=5, total=   0.2s\n",
      "[CV] n_neighbors=7, weights=uniform, leaf_size=5 .....................\n",
      "[CV] ...... n_neighbors=7, weights=uniform, leaf_size=5, total=   0.4s\n",
      "[CV] n_neighbors=7, weights=distance, leaf_size=5 ....................\n",
      "[CV] ..... n_neighbors=7, weights=distance, leaf_size=5, total=   0.1s\n",
      "[CV] n_neighbors=7, weights=distance, leaf_size=5 ....................\n",
      "[CV] ..... n_neighbors=7, weights=distance, leaf_size=5, total=   0.2s\n",
      "[CV] n_neighbors=7, weights=distance, leaf_size=5 ....................\n",
      "[CV] ..... n_neighbors=7, weights=distance, leaf_size=5, total=   0.2s\n",
      "[CV] n_neighbors=7, weights=distance, leaf_size=5 ....................\n",
      "[CV] ..... n_neighbors=7, weights=distance, leaf_size=5, total=   0.4s\n",
      "[CV] n_neighbors=7, weights=distance, leaf_size=5 ....................\n",
      "[CV] ..... n_neighbors=7, weights=distance, leaf_size=5, total=   0.1s\n",
      "[CV] n_neighbors=3, weights=uniform, leaf_size=10 ....................\n",
      "[CV] ..... n_neighbors=3, weights=uniform, leaf_size=10, total=   0.1s\n",
      "[CV] n_neighbors=3, weights=uniform, leaf_size=10 ....................\n",
      "[CV] ..... n_neighbors=3, weights=uniform, leaf_size=10, total=   0.1s\n",
      "[CV] n_neighbors=3, weights=uniform, leaf_size=10 ....................\n",
      "[CV] ..... n_neighbors=3, weights=uniform, leaf_size=10, total=   0.1s\n",
      "[CV] n_neighbors=3, weights=uniform, leaf_size=10 ....................\n",
      "[CV] ..... n_neighbors=3, weights=uniform, leaf_size=10, total=   0.1s\n",
      "[CV] n_neighbors=3, weights=uniform, leaf_size=10 ....................\n",
      "[CV] ..... n_neighbors=3, weights=uniform, leaf_size=10, total=   0.1s\n",
      "[CV] n_neighbors=3, weights=distance, leaf_size=10 ...................\n",
      "[CV] .... n_neighbors=3, weights=distance, leaf_size=10, total=   0.2s\n",
      "[CV] n_neighbors=3, weights=distance, leaf_size=10 ...................\n",
      "[CV] .... n_neighbors=3, weights=distance, leaf_size=10, total=   0.1s\n",
      "[CV] n_neighbors=3, weights=distance, leaf_size=10 ...................\n",
      "[CV] .... n_neighbors=3, weights=distance, leaf_size=10, total=   0.1s\n",
      "[CV] n_neighbors=3, weights=distance, leaf_size=10 ...................\n",
      "[CV] .... n_neighbors=3, weights=distance, leaf_size=10, total=   0.1s\n",
      "[CV] n_neighbors=3, weights=distance, leaf_size=10 ...................\n",
      "[CV] .... n_neighbors=3, weights=distance, leaf_size=10, total=   0.1s\n",
      "[CV] n_neighbors=5, weights=uniform, leaf_size=10 ....................\n",
      "[CV] ..... n_neighbors=5, weights=uniform, leaf_size=10, total=   0.1s\n",
      "[CV] n_neighbors=5, weights=uniform, leaf_size=10 ....................\n",
      "[CV] ..... n_neighbors=5, weights=uniform, leaf_size=10, total=   0.1s\n",
      "[CV] n_neighbors=5, weights=uniform, leaf_size=10 ....................\n",
      "[CV] ..... n_neighbors=5, weights=uniform, leaf_size=10, total=   0.1s\n",
      "[CV] n_neighbors=5, weights=uniform, leaf_size=10 ....................\n",
      "[CV] ..... n_neighbors=5, weights=uniform, leaf_size=10, total=   0.1s\n",
      "[CV] n_neighbors=5, weights=uniform, leaf_size=10 ....................\n",
      "[CV] ..... n_neighbors=5, weights=uniform, leaf_size=10, total=   0.1s\n",
      "[CV] n_neighbors=5, weights=distance, leaf_size=10 ...................\n",
      "[CV] .... n_neighbors=5, weights=distance, leaf_size=10, total=   0.1s\n",
      "[CV] n_neighbors=5, weights=distance, leaf_size=10 ...................\n",
      "[CV] .... n_neighbors=5, weights=distance, leaf_size=10, total=   0.1s\n",
      "[CV] n_neighbors=5, weights=distance, leaf_size=10 ...................\n",
      "[CV] .... n_neighbors=5, weights=distance, leaf_size=10, total=   0.1s\n",
      "[CV] n_neighbors=5, weights=distance, leaf_size=10 ...................\n",
      "[CV] .... n_neighbors=5, weights=distance, leaf_size=10, total=   0.1s\n",
      "[CV] n_neighbors=5, weights=distance, leaf_size=10 ...................\n",
      "[CV] .... n_neighbors=5, weights=distance, leaf_size=10, total=   0.1s\n",
      "[CV] n_neighbors=7, weights=uniform, leaf_size=10 ....................\n",
      "[CV] ..... n_neighbors=7, weights=uniform, leaf_size=10, total=   0.2s\n",
      "[CV] n_neighbors=7, weights=uniform, leaf_size=10 ....................\n",
      "[CV] ..... n_neighbors=7, weights=uniform, leaf_size=10, total=   0.2s\n",
      "[CV] n_neighbors=7, weights=uniform, leaf_size=10 ....................\n",
      "[CV] ..... n_neighbors=7, weights=uniform, leaf_size=10, total=   0.1s\n",
      "[CV] n_neighbors=7, weights=uniform, leaf_size=10 ....................\n",
      "[CV] ..... n_neighbors=7, weights=uniform, leaf_size=10, total=   0.1s\n",
      "[CV] n_neighbors=7, weights=uniform, leaf_size=10 ....................\n",
      "[CV] ..... n_neighbors=7, weights=uniform, leaf_size=10, total=   0.1s\n",
      "[CV] n_neighbors=7, weights=distance, leaf_size=10 ...................\n",
      "[CV] .... n_neighbors=7, weights=distance, leaf_size=10, total=   0.1s\n",
      "[CV] n_neighbors=7, weights=distance, leaf_size=10 ...................\n",
      "[CV] .... n_neighbors=7, weights=distance, leaf_size=10, total=   0.1s\n",
      "[CV] n_neighbors=7, weights=distance, leaf_size=10 ...................\n",
      "[CV] .... n_neighbors=7, weights=distance, leaf_size=10, total=   0.1s\n",
      "[CV] n_neighbors=7, weights=distance, leaf_size=10 ...................\n",
      "[CV] .... n_neighbors=7, weights=distance, leaf_size=10, total=   0.1s\n",
      "[CV] n_neighbors=7, weights=distance, leaf_size=10 ...................\n",
      "[CV] .... n_neighbors=7, weights=distance, leaf_size=10, total=   0.1s\n",
      "[CV] n_neighbors=3, weights=uniform, leaf_size=20 ....................\n",
      "[CV] ..... n_neighbors=3, weights=uniform, leaf_size=20, total=   0.1s\n",
      "[CV] n_neighbors=3, weights=uniform, leaf_size=20 ....................\n",
      "[CV] ..... n_neighbors=3, weights=uniform, leaf_size=20, total=   0.1s\n",
      "[CV] n_neighbors=3, weights=uniform, leaf_size=20 ....................\n",
      "[CV] ..... n_neighbors=3, weights=uniform, leaf_size=20, total=   0.1s\n",
      "[CV] n_neighbors=3, weights=uniform, leaf_size=20 ....................\n",
      "[CV] ..... n_neighbors=3, weights=uniform, leaf_size=20, total=   0.1s\n",
      "[CV] n_neighbors=3, weights=uniform, leaf_size=20 ....................\n",
      "[CV] ..... n_neighbors=3, weights=uniform, leaf_size=20, total=   0.1s\n",
      "[CV] n_neighbors=3, weights=distance, leaf_size=20 ...................\n",
      "[CV] .... n_neighbors=3, weights=distance, leaf_size=20, total=   0.1s\n",
      "[CV] n_neighbors=3, weights=distance, leaf_size=20 ...................\n",
      "[CV] .... n_neighbors=3, weights=distance, leaf_size=20, total=   0.1s\n",
      "[CV] n_neighbors=3, weights=distance, leaf_size=20 ...................\n",
      "[CV] .... n_neighbors=3, weights=distance, leaf_size=20, total=   0.1s\n",
      "[CV] n_neighbors=3, weights=distance, leaf_size=20 ...................\n",
      "[CV] .... n_neighbors=3, weights=distance, leaf_size=20, total=   0.1s\n",
      "[CV] n_neighbors=3, weights=distance, leaf_size=20 ...................\n",
      "[CV] .... n_neighbors=3, weights=distance, leaf_size=20, total=   0.1s\n",
      "[CV] n_neighbors=5, weights=uniform, leaf_size=20 ....................\n",
      "[CV] ..... n_neighbors=5, weights=uniform, leaf_size=20, total=   0.1s\n",
      "[CV] n_neighbors=5, weights=uniform, leaf_size=20 ....................\n",
      "[CV] ..... n_neighbors=5, weights=uniform, leaf_size=20, total=   0.1s\n",
      "[CV] n_neighbors=5, weights=uniform, leaf_size=20 ....................\n",
      "[CV] ..... n_neighbors=5, weights=uniform, leaf_size=20, total=   0.1s\n",
      "[CV] n_neighbors=5, weights=uniform, leaf_size=20 ....................\n",
      "[CV] ..... n_neighbors=5, weights=uniform, leaf_size=20, total=   0.1s\n",
      "[CV] n_neighbors=5, weights=uniform, leaf_size=20 ....................\n",
      "[CV] ..... n_neighbors=5, weights=uniform, leaf_size=20, total=   0.1s\n",
      "[CV] n_neighbors=5, weights=distance, leaf_size=20 ...................\n",
      "[CV] .... n_neighbors=5, weights=distance, leaf_size=20, total=   0.2s\n",
      "[CV] n_neighbors=5, weights=distance, leaf_size=20 ...................\n",
      "[CV] .... n_neighbors=5, weights=distance, leaf_size=20, total=   0.1s\n",
      "[CV] n_neighbors=5, weights=distance, leaf_size=20 ...................\n",
      "[CV] .... n_neighbors=5, weights=distance, leaf_size=20, total=   0.1s\n",
      "[CV] n_neighbors=5, weights=distance, leaf_size=20 ...................\n",
      "[CV] .... n_neighbors=5, weights=distance, leaf_size=20, total=   0.1s\n",
      "[CV] n_neighbors=5, weights=distance, leaf_size=20 ...................\n",
      "[CV] .... n_neighbors=5, weights=distance, leaf_size=20, total=   0.1s\n",
      "[CV] n_neighbors=7, weights=uniform, leaf_size=20 ....................\n",
      "[CV] ..... n_neighbors=7, weights=uniform, leaf_size=20, total=   0.1s\n",
      "[CV] n_neighbors=7, weights=uniform, leaf_size=20 ....................\n",
      "[CV] ..... n_neighbors=7, weights=uniform, leaf_size=20, total=   0.1s\n",
      "[CV] n_neighbors=7, weights=uniform, leaf_size=20 ....................\n",
      "[CV] ..... n_neighbors=7, weights=uniform, leaf_size=20, total=   0.1s\n",
      "[CV] n_neighbors=7, weights=uniform, leaf_size=20 ....................\n",
      "[CV] ..... n_neighbors=7, weights=uniform, leaf_size=20, total=   0.1s\n",
      "[CV] n_neighbors=7, weights=uniform, leaf_size=20 ....................\n",
      "[CV] ..... n_neighbors=7, weights=uniform, leaf_size=20, total=   0.1s\n",
      "[CV] n_neighbors=7, weights=distance, leaf_size=20 ...................\n",
      "[CV] .... n_neighbors=7, weights=distance, leaf_size=20, total=   0.1s\n",
      "[CV] n_neighbors=7, weights=distance, leaf_size=20 ...................\n",
      "[CV] .... n_neighbors=7, weights=distance, leaf_size=20, total=   0.1s\n",
      "[CV] n_neighbors=7, weights=distance, leaf_size=20 ...................\n",
      "[CV] .... n_neighbors=7, weights=distance, leaf_size=20, total=   0.2s\n",
      "[CV] n_neighbors=7, weights=distance, leaf_size=20 ...................\n",
      "[CV] .... n_neighbors=7, weights=distance, leaf_size=20, total=   0.1s\n",
      "[CV] n_neighbors=7, weights=distance, leaf_size=20 ...................\n",
      "[CV] .... n_neighbors=7, weights=distance, leaf_size=20, total=   0.1s\n",
      "[CV] n_neighbors=3, weights=uniform, leaf_size=30 ....................\n",
      "[CV] ..... n_neighbors=3, weights=uniform, leaf_size=30, total=   0.1s\n",
      "[CV] n_neighbors=3, weights=uniform, leaf_size=30 ....................\n",
      "[CV] ..... n_neighbors=3, weights=uniform, leaf_size=30, total=   0.1s\n",
      "[CV] n_neighbors=3, weights=uniform, leaf_size=30 ....................\n",
      "[CV] ..... n_neighbors=3, weights=uniform, leaf_size=30, total=   0.1s\n",
      "[CV] n_neighbors=3, weights=uniform, leaf_size=30 ....................\n",
      "[CV] ..... n_neighbors=3, weights=uniform, leaf_size=30, total=   0.1s\n",
      "[CV] n_neighbors=3, weights=uniform, leaf_size=30 ....................\n",
      "[CV] ..... n_neighbors=3, weights=uniform, leaf_size=30, total=   0.1s\n",
      "[CV] n_neighbors=3, weights=distance, leaf_size=30 ...................\n",
      "[CV] .... n_neighbors=3, weights=distance, leaf_size=30, total=   0.1s\n",
      "[CV] n_neighbors=3, weights=distance, leaf_size=30 ...................\n",
      "[CV] .... n_neighbors=3, weights=distance, leaf_size=30, total=   0.1s\n",
      "[CV] n_neighbors=3, weights=distance, leaf_size=30 ...................\n",
      "[CV] .... n_neighbors=3, weights=distance, leaf_size=30, total=   0.1s\n",
      "[CV] n_neighbors=3, weights=distance, leaf_size=30 ...................\n",
      "[CV] .... n_neighbors=3, weights=distance, leaf_size=30, total=   0.1s\n",
      "[CV] n_neighbors=3, weights=distance, leaf_size=30 ...................\n",
      "[CV] .... n_neighbors=3, weights=distance, leaf_size=30, total=   0.1s\n",
      "[CV] n_neighbors=5, weights=uniform, leaf_size=30 ....................\n",
      "[CV] ..... n_neighbors=5, weights=uniform, leaf_size=30, total=   0.1s\n",
      "[CV] n_neighbors=5, weights=uniform, leaf_size=30 ....................\n",
      "[CV] ..... n_neighbors=5, weights=uniform, leaf_size=30, total=   0.1s\n",
      "[CV] n_neighbors=5, weights=uniform, leaf_size=30 ....................\n",
      "[CV] ..... n_neighbors=5, weights=uniform, leaf_size=30, total=   0.1s\n",
      "[CV] n_neighbors=5, weights=uniform, leaf_size=30 ....................\n",
      "[CV] ..... n_neighbors=5, weights=uniform, leaf_size=30, total=   0.1s\n",
      "[CV] n_neighbors=5, weights=uniform, leaf_size=30 ....................\n",
      "[CV] ..... n_neighbors=5, weights=uniform, leaf_size=30, total=   0.1s\n",
      "[CV] n_neighbors=5, weights=distance, leaf_size=30 ...................\n",
      "[CV] .... n_neighbors=5, weights=distance, leaf_size=30, total=   0.1s\n",
      "[CV] n_neighbors=5, weights=distance, leaf_size=30 ...................\n",
      "[CV] .... n_neighbors=5, weights=distance, leaf_size=30, total=   0.1s\n",
      "[CV] n_neighbors=5, weights=distance, leaf_size=30 ...................\n",
      "[CV] .... n_neighbors=5, weights=distance, leaf_size=30, total=   0.1s\n",
      "[CV] n_neighbors=5, weights=distance, leaf_size=30 ...................\n",
      "[CV] .... n_neighbors=5, weights=distance, leaf_size=30, total=   0.1s\n",
      "[CV] n_neighbors=5, weights=distance, leaf_size=30 ...................\n",
      "[CV] .... n_neighbors=5, weights=distance, leaf_size=30, total=   0.1s\n",
      "[CV] n_neighbors=7, weights=uniform, leaf_size=30 ....................\n",
      "[CV] ..... n_neighbors=7, weights=uniform, leaf_size=30, total=   0.1s\n",
      "[CV] n_neighbors=7, weights=uniform, leaf_size=30 ....................\n",
      "[CV] ..... n_neighbors=7, weights=uniform, leaf_size=30, total=   0.1s\n",
      "[CV] n_neighbors=7, weights=uniform, leaf_size=30 ....................\n",
      "[CV] ..... n_neighbors=7, weights=uniform, leaf_size=30, total=   0.1s\n",
      "[CV] n_neighbors=7, weights=uniform, leaf_size=30 ....................\n",
      "[CV] ..... n_neighbors=7, weights=uniform, leaf_size=30, total=   0.1s\n",
      "[CV] n_neighbors=7, weights=uniform, leaf_size=30 ....................\n",
      "[CV] ..... n_neighbors=7, weights=uniform, leaf_size=30, total=   0.1s\n",
      "[CV] n_neighbors=7, weights=distance, leaf_size=30 ...................\n",
      "[CV] .... n_neighbors=7, weights=distance, leaf_size=30, total=   0.1s\n",
      "[CV] n_neighbors=7, weights=distance, leaf_size=30 ...................\n",
      "[CV] .... n_neighbors=7, weights=distance, leaf_size=30, total=   0.1s\n",
      "[CV] n_neighbors=7, weights=distance, leaf_size=30 ...................\n",
      "[CV] .... n_neighbors=7, weights=distance, leaf_size=30, total=   0.1s\n",
      "[CV] n_neighbors=7, weights=distance, leaf_size=30 ...................\n",
      "[CV] .... n_neighbors=7, weights=distance, leaf_size=30, total=   0.1s\n",
      "[CV] n_neighbors=7, weights=distance, leaf_size=30 ...................\n",
      "[CV] .... n_neighbors=7, weights=distance, leaf_size=30, total=   0.1s\n",
      "[CV] n_neighbors=3, weights=uniform, leaf_size=40 ....................\n",
      "[CV] ..... n_neighbors=3, weights=uniform, leaf_size=40, total=   0.1s\n",
      "[CV] n_neighbors=3, weights=uniform, leaf_size=40 ....................\n",
      "[CV] ..... n_neighbors=3, weights=uniform, leaf_size=40, total=   0.2s\n",
      "[CV] n_neighbors=3, weights=uniform, leaf_size=40 ....................\n",
      "[CV] ..... n_neighbors=3, weights=uniform, leaf_size=40, total=   0.1s\n",
      "[CV] n_neighbors=3, weights=uniform, leaf_size=40 ....................\n",
      "[CV] ..... n_neighbors=3, weights=uniform, leaf_size=40, total=   0.1s\n",
      "[CV] n_neighbors=3, weights=uniform, leaf_size=40 ....................\n",
      "[CV] ..... n_neighbors=3, weights=uniform, leaf_size=40, total=   0.1s\n",
      "[CV] n_neighbors=3, weights=distance, leaf_size=40 ...................\n",
      "[CV] .... n_neighbors=3, weights=distance, leaf_size=40, total=   0.1s\n",
      "[CV] n_neighbors=3, weights=distance, leaf_size=40 ...................\n",
      "[CV] .... n_neighbors=3, weights=distance, leaf_size=40, total=   0.2s\n",
      "[CV] n_neighbors=3, weights=distance, leaf_size=40 ...................\n",
      "[CV] .... n_neighbors=3, weights=distance, leaf_size=40, total=   0.1s\n",
      "[CV] n_neighbors=3, weights=distance, leaf_size=40 ...................\n",
      "[CV] .... n_neighbors=3, weights=distance, leaf_size=40, total=   0.1s\n",
      "[CV] n_neighbors=3, weights=distance, leaf_size=40 ...................\n",
      "[CV] .... n_neighbors=3, weights=distance, leaf_size=40, total=   0.1s\n",
      "[CV] n_neighbors=5, weights=uniform, leaf_size=40 ....................\n",
      "[CV] ..... n_neighbors=5, weights=uniform, leaf_size=40, total=   0.1s\n",
      "[CV] n_neighbors=5, weights=uniform, leaf_size=40 ....................\n",
      "[CV] ..... n_neighbors=5, weights=uniform, leaf_size=40, total=   0.2s\n",
      "[CV] n_neighbors=5, weights=uniform, leaf_size=40 ....................\n",
      "[CV] ..... n_neighbors=5, weights=uniform, leaf_size=40, total=   0.2s\n",
      "[CV] n_neighbors=5, weights=uniform, leaf_size=40 ....................\n",
      "[CV] ..... n_neighbors=5, weights=uniform, leaf_size=40, total=   0.1s\n",
      "[CV] n_neighbors=5, weights=uniform, leaf_size=40 ....................\n",
      "[CV] ..... n_neighbors=5, weights=uniform, leaf_size=40, total=   0.1s\n",
      "[CV] n_neighbors=5, weights=distance, leaf_size=40 ...................\n",
      "[CV] .... n_neighbors=5, weights=distance, leaf_size=40, total=   0.1s\n",
      "[CV] n_neighbors=5, weights=distance, leaf_size=40 ...................\n",
      "[CV] .... n_neighbors=5, weights=distance, leaf_size=40, total=   0.1s\n",
      "[CV] n_neighbors=5, weights=distance, leaf_size=40 ...................\n",
      "[CV] .... n_neighbors=5, weights=distance, leaf_size=40, total=   0.1s\n",
      "[CV] n_neighbors=5, weights=distance, leaf_size=40 ...................\n",
      "[CV] .... n_neighbors=5, weights=distance, leaf_size=40, total=   0.1s\n",
      "[CV] n_neighbors=5, weights=distance, leaf_size=40 ...................\n",
      "[CV] .... n_neighbors=5, weights=distance, leaf_size=40, total=   0.1s\n",
      "[CV] n_neighbors=7, weights=uniform, leaf_size=40 ....................\n",
      "[CV] ..... n_neighbors=7, weights=uniform, leaf_size=40, total=   0.1s\n",
      "[CV] n_neighbors=7, weights=uniform, leaf_size=40 ....................\n",
      "[CV] ..... n_neighbors=7, weights=uniform, leaf_size=40, total=   0.1s\n",
      "[CV] n_neighbors=7, weights=uniform, leaf_size=40 ....................\n",
      "[CV] ..... n_neighbors=7, weights=uniform, leaf_size=40, total=   0.1s\n",
      "[CV] n_neighbors=7, weights=uniform, leaf_size=40 ....................\n",
      "[CV] ..... n_neighbors=7, weights=uniform, leaf_size=40, total=   0.1s\n",
      "[CV] n_neighbors=7, weights=uniform, leaf_size=40 ....................\n",
      "[CV] ..... n_neighbors=7, weights=uniform, leaf_size=40, total=   0.1s\n",
      "[CV] n_neighbors=7, weights=distance, leaf_size=40 ...................\n",
      "[CV] .... n_neighbors=7, weights=distance, leaf_size=40, total=   0.1s\n",
      "[CV] n_neighbors=7, weights=distance, leaf_size=40 ...................\n",
      "[CV] .... n_neighbors=7, weights=distance, leaf_size=40, total=   0.1s\n",
      "[CV] n_neighbors=7, weights=distance, leaf_size=40 ...................\n",
      "[CV] .... n_neighbors=7, weights=distance, leaf_size=40, total=   0.1s\n",
      "[CV] n_neighbors=7, weights=distance, leaf_size=40 ...................\n",
      "[CV] .... n_neighbors=7, weights=distance, leaf_size=40, total=   0.1s\n",
      "[CV] n_neighbors=7, weights=distance, leaf_size=40 ...................\n",
      "[CV] .... n_neighbors=7, weights=distance, leaf_size=40, total=   0.1s\n",
      "[CV] n_neighbors=3, weights=uniform, leaf_size=50 ....................\n",
      "[CV] ..... n_neighbors=3, weights=uniform, leaf_size=50, total=   0.0s\n",
      "[CV] n_neighbors=3, weights=uniform, leaf_size=50 ....................\n",
      "[CV] ..... n_neighbors=3, weights=uniform, leaf_size=50, total=   0.1s\n",
      "[CV] n_neighbors=3, weights=uniform, leaf_size=50 ....................\n",
      "[CV] ..... n_neighbors=3, weights=uniform, leaf_size=50, total=   0.1s\n",
      "[CV] n_neighbors=3, weights=uniform, leaf_size=50 ....................\n",
      "[CV] ..... n_neighbors=3, weights=uniform, leaf_size=50, total=   0.1s\n",
      "[CV] n_neighbors=3, weights=uniform, leaf_size=50 ....................\n",
      "[CV] ..... n_neighbors=3, weights=uniform, leaf_size=50, total=   0.1s\n",
      "[CV] n_neighbors=3, weights=distance, leaf_size=50 ...................\n",
      "[CV] .... n_neighbors=3, weights=distance, leaf_size=50, total=   0.1s\n",
      "[CV] n_neighbors=3, weights=distance, leaf_size=50 ...................\n",
      "[CV] .... n_neighbors=3, weights=distance, leaf_size=50, total=   0.1s\n",
      "[CV] n_neighbors=3, weights=distance, leaf_size=50 ...................\n",
      "[CV] .... n_neighbors=3, weights=distance, leaf_size=50, total=   0.0s\n",
      "[CV] n_neighbors=3, weights=distance, leaf_size=50 ...................\n",
      "[CV] .... n_neighbors=3, weights=distance, leaf_size=50, total=   0.1s\n",
      "[CV] n_neighbors=3, weights=distance, leaf_size=50 ...................\n",
      "[CV] .... n_neighbors=3, weights=distance, leaf_size=50, total=   0.1s\n",
      "[CV] n_neighbors=5, weights=uniform, leaf_size=50 ....................\n",
      "[CV] ..... n_neighbors=5, weights=uniform, leaf_size=50, total=   0.1s\n",
      "[CV] n_neighbors=5, weights=uniform, leaf_size=50 ....................\n",
      "[CV] ..... n_neighbors=5, weights=uniform, leaf_size=50, total=   0.1s\n",
      "[CV] n_neighbors=5, weights=uniform, leaf_size=50 ....................\n",
      "[CV] ..... n_neighbors=5, weights=uniform, leaf_size=50, total=   0.1s\n",
      "[CV] n_neighbors=5, weights=uniform, leaf_size=50 ....................\n",
      "[CV] ..... n_neighbors=5, weights=uniform, leaf_size=50, total=   0.1s\n",
      "[CV] n_neighbors=5, weights=uniform, leaf_size=50 ....................\n",
      "[CV] ..... n_neighbors=5, weights=uniform, leaf_size=50, total=   0.1s\n",
      "[CV] n_neighbors=5, weights=distance, leaf_size=50 ...................\n",
      "[CV] .... n_neighbors=5, weights=distance, leaf_size=50, total=   0.1s\n",
      "[CV] n_neighbors=5, weights=distance, leaf_size=50 ...................\n",
      "[CV] .... n_neighbors=5, weights=distance, leaf_size=50, total=   0.1s\n",
      "[CV] n_neighbors=5, weights=distance, leaf_size=50 ...................\n",
      "[CV] .... n_neighbors=5, weights=distance, leaf_size=50, total=   0.1s\n",
      "[CV] n_neighbors=5, weights=distance, leaf_size=50 ...................\n",
      "[CV] .... n_neighbors=5, weights=distance, leaf_size=50, total=   0.1s\n",
      "[CV] n_neighbors=5, weights=distance, leaf_size=50 ...................\n",
      "[CV] .... n_neighbors=5, weights=distance, leaf_size=50, total=   0.1s\n",
      "[CV] n_neighbors=7, weights=uniform, leaf_size=50 ....................\n",
      "[CV] ..... n_neighbors=7, weights=uniform, leaf_size=50, total=   0.1s\n",
      "[CV] n_neighbors=7, weights=uniform, leaf_size=50 ....................\n",
      "[CV] ..... n_neighbors=7, weights=uniform, leaf_size=50, total=   0.1s\n",
      "[CV] n_neighbors=7, weights=uniform, leaf_size=50 ....................\n",
      "[CV] ..... n_neighbors=7, weights=uniform, leaf_size=50, total=   0.1s\n",
      "[CV] n_neighbors=7, weights=uniform, leaf_size=50 ....................\n",
      "[CV] ..... n_neighbors=7, weights=uniform, leaf_size=50, total=   0.1s\n",
      "[CV] n_neighbors=7, weights=uniform, leaf_size=50 ....................\n",
      "[CV] ..... n_neighbors=7, weights=uniform, leaf_size=50, total=   0.1s\n",
      "[CV] n_neighbors=7, weights=distance, leaf_size=50 ...................\n",
      "[CV] .... n_neighbors=7, weights=distance, leaf_size=50, total=   0.1s\n",
      "[CV] n_neighbors=7, weights=distance, leaf_size=50 ...................\n",
      "[CV] .... n_neighbors=7, weights=distance, leaf_size=50, total=   0.1s\n",
      "[CV] n_neighbors=7, weights=distance, leaf_size=50 ...................\n",
      "[CV] .... n_neighbors=7, weights=distance, leaf_size=50, total=   0.1s\n",
      "[CV] n_neighbors=7, weights=distance, leaf_size=50 ...................\n",
      "[CV] .... n_neighbors=7, weights=distance, leaf_size=50, total=   0.1s\n",
      "[CV] n_neighbors=7, weights=distance, leaf_size=50 ...................\n",
      "[CV] .... n_neighbors=7, weights=distance, leaf_size=50, total=   0.1s\n"
     ]
    },
    {
     "name": "stderr",
     "output_type": "stream",
     "text": [
      "[Parallel(n_jobs=1)]: Done 180 out of 180 | elapsed:  1.2min finished\n"
     ]
    },
    {
     "data": {
      "text/plain": [
       "GridSearchCV(cv=5, error_score='raise',\n",
       "       estimator=KNeighborsRegressor(algorithm='auto', leaf_size=30, metric='minkowski',\n",
       "          metric_params=None, n_jobs=1, n_neighbors=5, p=2,\n",
       "          weights='uniform'),\n",
       "       fit_params={}, iid=True, n_jobs=1,\n",
       "       param_grid={'n_neighbors': [3, 5, 7], 'weights': ['uniform', 'distance'], 'leaf_size': [5, 10, 20, 30, 40, 50]},\n",
       "       pre_dispatch='2*n_jobs', refit=True, return_train_score=True,\n",
       "       scoring=make_scorer(rmse_scorer), verbose=2)"
      ]
     },
     "execution_count": 23,
     "metadata": {},
     "output_type": "execute_result"
    }
   ],
   "source": [
    "knn = KNeighborsRegressor()\n",
    "param_grid_knn = {\n",
    "    'n_neighbors': [3, 5, 7],\n",
    "    'weights': ['uniform', 'distance'],\n",
    "    'leaf_size': [5 ,10, 20, 30, 40, 50]\n",
    "}\n",
    "CV_knn = GridSearchCV(knn, param_grid_knn, scoring=rmse, cv=5, verbose=2)\n",
    "CV_knn.fit(X, y)"
   ]
  },
  {
   "cell_type": "code",
   "execution_count": 24,
   "metadata": {
    "collapsed": false
   },
   "outputs": [
    {
     "name": "stdout",
     "output_type": "stream",
     "text": [
      "best score: 36.5171332432 \n",
      "with parameters: {'n_neighbors': 3, 'weights': 'distance', 'leaf_size': 5}\n"
     ]
    }
   ],
   "source": [
    "print('best score:', CV_knn.best_score_, '\\nwith parameters:', CV_knn.best_params_)"
   ]
  },
  {
   "cell_type": "code",
   "execution_count": 25,
   "metadata": {
    "collapsed": true
   },
   "outputs": [],
   "source": [
    "best_knn = KNeighborsRegressor(leaf_size=5, n_neighbors=3, weights='distance')"
   ]
  },
  {
   "cell_type": "code",
   "execution_count": 26,
   "metadata": {
    "collapsed": false
   },
   "outputs": [
    {
     "data": {
      "image/png": "[encoded data removed]",
      "text/plain": [
       "<matplotlib.figure.Figure at 0x1133f50b8>"
      ]
     },
     "metadata": {},
     "output_type": "display_data"
    }
   ],
   "source": [
    "plot_learning_curve(best_knn, 'Learning curve for KNN', X, y);"
   ]
  },
  {
   "cell_type": "markdown",
   "metadata": {},
   "source": [
    "From this plot we can see that KNN is clearly overfitting, we should increase the number of neighbors to reduce the model complexity"
   ]
  },
  {
   "cell_type": "code",
   "execution_count": 27,
   "metadata": {
    "collapsed": false,
    "scrolled": true
   },
   "outputs": [
    {
     "name": "stdout",
     "output_type": "stream",
     "text": [
      "Fitting 5 folds for each of 18 candidates, totalling 90 fits\n",
      "[CV] n_neighbors=10, weights=uniform, leaf_size=2 ....................\n",
      "[CV] ..... n_neighbors=10, weights=uniform, leaf_size=2, total=   0.1s\n",
      "[CV] n_neighbors=10, weights=uniform, leaf_size=2 ....................\n"
     ]
    },
    {
     "name": "stderr",
     "output_type": "stream",
     "text": [
      "[Parallel(n_jobs=1)]: Done   1 out of   1 | elapsed:    0.3s remaining:    0.0s\n"
     ]
    },
    {
     "name": "stdout",
     "output_type": "stream",
     "text": [
      "[CV] ..... n_neighbors=10, weights=uniform, leaf_size=2, total=   0.1s\n",
      "[CV] n_neighbors=10, weights=uniform, leaf_size=2 ....................\n",
      "[CV] ..... n_neighbors=10, weights=uniform, leaf_size=2, total=   0.1s\n",
      "[CV] n_neighbors=10, weights=uniform, leaf_size=2 ....................\n",
      "[CV] ..... n_neighbors=10, weights=uniform, leaf_size=2, total=   0.1s\n",
      "[CV] n_neighbors=10, weights=uniform, leaf_size=2 ....................\n",
      "[CV] ..... n_neighbors=10, weights=uniform, leaf_size=2, total=   0.1s\n",
      "[CV] n_neighbors=10, weights=distance, leaf_size=2 ...................\n",
      "[CV] .... n_neighbors=10, weights=distance, leaf_size=2, total=   0.1s\n",
      "[CV] n_neighbors=10, weights=distance, leaf_size=2 ...................\n",
      "[CV] .... n_neighbors=10, weights=distance, leaf_size=2, total=   0.1s\n",
      "[CV] n_neighbors=10, weights=distance, leaf_size=2 ...................\n",
      "[CV] .... n_neighbors=10, weights=distance, leaf_size=2, total=   0.1s\n",
      "[CV] n_neighbors=10, weights=distance, leaf_size=2 ...................\n",
      "[CV] .... n_neighbors=10, weights=distance, leaf_size=2, total=   0.1s\n",
      "[CV] n_neighbors=10, weights=distance, leaf_size=2 ...................\n",
      "[CV] .... n_neighbors=10, weights=distance, leaf_size=2, total=   0.1s\n",
      "[CV] n_neighbors=11, weights=uniform, leaf_size=2 ....................\n",
      "[CV] ..... n_neighbors=11, weights=uniform, leaf_size=2, total=   0.1s\n",
      "[CV] n_neighbors=11, weights=uniform, leaf_size=2 ....................\n",
      "[CV] ..... n_neighbors=11, weights=uniform, leaf_size=2, total=   0.1s\n",
      "[CV] n_neighbors=11, weights=uniform, leaf_size=2 ....................\n",
      "[CV] ..... n_neighbors=11, weights=uniform, leaf_size=2, total=   0.1s\n",
      "[CV] n_neighbors=11, weights=uniform, leaf_size=2 ....................\n",
      "[CV] ..... n_neighbors=11, weights=uniform, leaf_size=2, total=   0.1s\n",
      "[CV] n_neighbors=11, weights=uniform, leaf_size=2 ....................\n",
      "[CV] ..... n_neighbors=11, weights=uniform, leaf_size=2, total=   0.1s\n",
      "[CV] n_neighbors=11, weights=distance, leaf_size=2 ...................\n",
      "[CV] .... n_neighbors=11, weights=distance, leaf_size=2, total=   0.1s\n",
      "[CV] n_neighbors=11, weights=distance, leaf_size=2 ...................\n",
      "[CV] .... n_neighbors=11, weights=distance, leaf_size=2, total=   0.1s\n",
      "[CV] n_neighbors=11, weights=distance, leaf_size=2 ...................\n",
      "[CV] .... n_neighbors=11, weights=distance, leaf_size=2, total=   0.1s\n",
      "[CV] n_neighbors=11, weights=distance, leaf_size=2 ...................\n",
      "[CV] .... n_neighbors=11, weights=distance, leaf_size=2, total=   0.1s\n",
      "[CV] n_neighbors=11, weights=distance, leaf_size=2 ...................\n",
      "[CV] .... n_neighbors=11, weights=distance, leaf_size=2, total=   0.1s\n",
      "[CV] n_neighbors=12, weights=uniform, leaf_size=2 ....................\n",
      "[CV] ..... n_neighbors=12, weights=uniform, leaf_size=2, total=   0.1s\n",
      "[CV] n_neighbors=12, weights=uniform, leaf_size=2 ....................\n",
      "[CV] ..... n_neighbors=12, weights=uniform, leaf_size=2, total=   0.1s\n",
      "[CV] n_neighbors=12, weights=uniform, leaf_size=2 ....................\n",
      "[CV] ..... n_neighbors=12, weights=uniform, leaf_size=2, total=   0.1s\n",
      "[CV] n_neighbors=12, weights=uniform, leaf_size=2 ....................\n",
      "[CV] ..... n_neighbors=12, weights=uniform, leaf_size=2, total=   0.1s\n",
      "[CV] n_neighbors=12, weights=uniform, leaf_size=2 ....................\n",
      "[CV] ..... n_neighbors=12, weights=uniform, leaf_size=2, total=   0.1s\n",
      "[CV] n_neighbors=12, weights=distance, leaf_size=2 ...................\n",
      "[CV] .... n_neighbors=12, weights=distance, leaf_size=2, total=   0.1s\n",
      "[CV] n_neighbors=12, weights=distance, leaf_size=2 ...................\n",
      "[CV] .... n_neighbors=12, weights=distance, leaf_size=2, total=   0.1s\n",
      "[CV] n_neighbors=12, weights=distance, leaf_size=2 ...................\n",
      "[CV] .... n_neighbors=12, weights=distance, leaf_size=2, total=   0.1s\n",
      "[CV] n_neighbors=12, weights=distance, leaf_size=2 ...................\n",
      "[CV] .... n_neighbors=12, weights=distance, leaf_size=2, total=   0.1s\n",
      "[CV] n_neighbors=12, weights=distance, leaf_size=2 ...................\n",
      "[CV] .... n_neighbors=12, weights=distance, leaf_size=2, total=   0.1s\n",
      "[CV] n_neighbors=10, weights=uniform, leaf_size=5 ....................\n",
      "[CV] ..... n_neighbors=10, weights=uniform, leaf_size=5, total=   0.1s\n",
      "[CV] n_neighbors=10, weights=uniform, leaf_size=5 ....................\n",
      "[CV] ..... n_neighbors=10, weights=uniform, leaf_size=5, total=   0.1s\n",
      "[CV] n_neighbors=10, weights=uniform, leaf_size=5 ....................\n",
      "[CV] ..... n_neighbors=10, weights=uniform, leaf_size=5, total=   0.1s\n",
      "[CV] n_neighbors=10, weights=uniform, leaf_size=5 ....................\n",
      "[CV] ..... n_neighbors=10, weights=uniform, leaf_size=5, total=   0.1s\n",
      "[CV] n_neighbors=10, weights=uniform, leaf_size=5 ....................\n",
      "[CV] ..... n_neighbors=10, weights=uniform, leaf_size=5, total=   0.1s\n",
      "[CV] n_neighbors=10, weights=distance, leaf_size=5 ...................\n",
      "[CV] .... n_neighbors=10, weights=distance, leaf_size=5, total=   0.1s\n",
      "[CV] n_neighbors=10, weights=distance, leaf_size=5 ...................\n",
      "[CV] .... n_neighbors=10, weights=distance, leaf_size=5, total=   0.1s\n",
      "[CV] n_neighbors=10, weights=distance, leaf_size=5 ...................\n",
      "[CV] .... n_neighbors=10, weights=distance, leaf_size=5, total=   0.1s\n",
      "[CV] n_neighbors=10, weights=distance, leaf_size=5 ...................\n",
      "[CV] .... n_neighbors=10, weights=distance, leaf_size=5, total=   0.1s\n",
      "[CV] n_neighbors=10, weights=distance, leaf_size=5 ...................\n",
      "[CV] .... n_neighbors=10, weights=distance, leaf_size=5, total=   0.1s\n",
      "[CV] n_neighbors=11, weights=uniform, leaf_size=5 ....................\n",
      "[CV] ..... n_neighbors=11, weights=uniform, leaf_size=5, total=   0.1s\n",
      "[CV] n_neighbors=11, weights=uniform, leaf_size=5 ....................\n",
      "[CV] ..... n_neighbors=11, weights=uniform, leaf_size=5, total=   0.1s\n",
      "[CV] n_neighbors=11, weights=uniform, leaf_size=5 ....................\n",
      "[CV] ..... n_neighbors=11, weights=uniform, leaf_size=5, total=   0.1s\n",
      "[CV] n_neighbors=11, weights=uniform, leaf_size=5 ....................\n",
      "[CV] ..... n_neighbors=11, weights=uniform, leaf_size=5, total=   0.1s\n",
      "[CV] n_neighbors=11, weights=uniform, leaf_size=5 ....................\n",
      "[CV] ..... n_neighbors=11, weights=uniform, leaf_size=5, total=   0.1s\n",
      "[CV] n_neighbors=11, weights=distance, leaf_size=5 ...................\n",
      "[CV] .... n_neighbors=11, weights=distance, leaf_size=5, total=   0.1s\n",
      "[CV] n_neighbors=11, weights=distance, leaf_size=5 ...................\n",
      "[CV] .... n_neighbors=11, weights=distance, leaf_size=5, total=   0.1s\n",
      "[CV] n_neighbors=11, weights=distance, leaf_size=5 ...................\n",
      "[CV] .... n_neighbors=11, weights=distance, leaf_size=5, total=   0.1s\n",
      "[CV] n_neighbors=11, weights=distance, leaf_size=5 ...................\n",
      "[CV] .... n_neighbors=11, weights=distance, leaf_size=5, total=   0.1s\n",
      "[CV] n_neighbors=11, weights=distance, leaf_size=5 ...................\n",
      "[CV] .... n_neighbors=11, weights=distance, leaf_size=5, total=   0.1s\n",
      "[CV] n_neighbors=12, weights=uniform, leaf_size=5 ....................\n",
      "[CV] ..... n_neighbors=12, weights=uniform, leaf_size=5, total=   0.1s\n",
      "[CV] n_neighbors=12, weights=uniform, leaf_size=5 ....................\n",
      "[CV] ..... n_neighbors=12, weights=uniform, leaf_size=5, total=   0.1s\n",
      "[CV] n_neighbors=12, weights=uniform, leaf_size=5 ....................\n",
      "[CV] ..... n_neighbors=12, weights=uniform, leaf_size=5, total=   0.1s\n",
      "[CV] n_neighbors=12, weights=uniform, leaf_size=5 ....................\n",
      "[CV] ..... n_neighbors=12, weights=uniform, leaf_size=5, total=   0.1s\n",
      "[CV] n_neighbors=12, weights=uniform, leaf_size=5 ....................\n",
      "[CV] ..... n_neighbors=12, weights=uniform, leaf_size=5, total=   0.1s\n",
      "[CV] n_neighbors=12, weights=distance, leaf_size=5 ...................\n",
      "[CV] .... n_neighbors=12, weights=distance, leaf_size=5, total=   0.1s\n",
      "[CV] n_neighbors=12, weights=distance, leaf_size=5 ...................\n",
      "[CV] .... n_neighbors=12, weights=distance, leaf_size=5, total=   0.1s\n",
      "[CV] n_neighbors=12, weights=distance, leaf_size=5 ...................\n",
      "[CV] .... n_neighbors=12, weights=distance, leaf_size=5, total=   0.1s\n",
      "[CV] n_neighbors=12, weights=distance, leaf_size=5 ...................\n",
      "[CV] .... n_neighbors=12, weights=distance, leaf_size=5, total=   0.1s\n",
      "[CV] n_neighbors=12, weights=distance, leaf_size=5 ...................\n",
      "[CV] .... n_neighbors=12, weights=distance, leaf_size=5, total=   0.1s\n",
      "[CV] n_neighbors=10, weights=uniform, leaf_size=10 ...................\n",
      "[CV] .... n_neighbors=10, weights=uniform, leaf_size=10, total=   0.1s\n",
      "[CV] n_neighbors=10, weights=uniform, leaf_size=10 ...................\n",
      "[CV] .... n_neighbors=10, weights=uniform, leaf_size=10, total=   0.1s\n",
      "[CV] n_neighbors=10, weights=uniform, leaf_size=10 ...................\n",
      "[CV] .... n_neighbors=10, weights=uniform, leaf_size=10, total=   0.1s\n",
      "[CV] n_neighbors=10, weights=uniform, leaf_size=10 ...................\n",
      "[CV] .... n_neighbors=10, weights=uniform, leaf_size=10, total=   0.1s\n",
      "[CV] n_neighbors=10, weights=uniform, leaf_size=10 ...................\n",
      "[CV] .... n_neighbors=10, weights=uniform, leaf_size=10, total=   0.1s\n",
      "[CV] n_neighbors=10, weights=distance, leaf_size=10 ..................\n",
      "[CV] ... n_neighbors=10, weights=distance, leaf_size=10, total=   0.1s\n",
      "[CV] n_neighbors=10, weights=distance, leaf_size=10 ..................\n",
      "[CV] ... n_neighbors=10, weights=distance, leaf_size=10, total=   0.1s\n",
      "[CV] n_neighbors=10, weights=distance, leaf_size=10 ..................\n",
      "[CV] ... n_neighbors=10, weights=distance, leaf_size=10, total=   0.1s\n",
      "[CV] n_neighbors=10, weights=distance, leaf_size=10 ..................\n",
      "[CV] ... n_neighbors=10, weights=distance, leaf_size=10, total=   0.1s\n",
      "[CV] n_neighbors=10, weights=distance, leaf_size=10 ..................\n",
      "[CV] ... n_neighbors=10, weights=distance, leaf_size=10, total=   0.1s\n",
      "[CV] n_neighbors=11, weights=uniform, leaf_size=10 ...................\n",
      "[CV] .... n_neighbors=11, weights=uniform, leaf_size=10, total=   0.1s\n",
      "[CV] n_neighbors=11, weights=uniform, leaf_size=10 ...................\n",
      "[CV] .... n_neighbors=11, weights=uniform, leaf_size=10, total=   0.1s\n",
      "[CV] n_neighbors=11, weights=uniform, leaf_size=10 ...................\n",
      "[CV] .... n_neighbors=11, weights=uniform, leaf_size=10, total=   0.1s\n",
      "[CV] n_neighbors=11, weights=uniform, leaf_size=10 ...................\n",
      "[CV] .... n_neighbors=11, weights=uniform, leaf_size=10, total=   0.1s\n",
      "[CV] n_neighbors=11, weights=uniform, leaf_size=10 ...................\n",
      "[CV] .... n_neighbors=11, weights=uniform, leaf_size=10, total=   0.1s\n",
      "[CV] n_neighbors=11, weights=distance, leaf_size=10 ..................\n",
      "[CV] ... n_neighbors=11, weights=distance, leaf_size=10, total=   0.1s\n",
      "[CV] n_neighbors=11, weights=distance, leaf_size=10 ..................\n",
      "[CV] ... n_neighbors=11, weights=distance, leaf_size=10, total=   0.1s\n",
      "[CV] n_neighbors=11, weights=distance, leaf_size=10 ..................\n",
      "[CV] ... n_neighbors=11, weights=distance, leaf_size=10, total=   0.1s\n",
      "[CV] n_neighbors=11, weights=distance, leaf_size=10 ..................\n",
      "[CV] ... n_neighbors=11, weights=distance, leaf_size=10, total=   0.1s\n",
      "[CV] n_neighbors=11, weights=distance, leaf_size=10 ..................\n",
      "[CV] ... n_neighbors=11, weights=distance, leaf_size=10, total=   0.1s\n",
      "[CV] n_neighbors=12, weights=uniform, leaf_size=10 ...................\n",
      "[CV] .... n_neighbors=12, weights=uniform, leaf_size=10, total=   0.1s\n",
      "[CV] n_neighbors=12, weights=uniform, leaf_size=10 ...................\n",
      "[CV] .... n_neighbors=12, weights=uniform, leaf_size=10, total=   0.1s\n",
      "[CV] n_neighbors=12, weights=uniform, leaf_size=10 ...................\n",
      "[CV] .... n_neighbors=12, weights=uniform, leaf_size=10, total=   0.1s\n",
      "[CV] n_neighbors=12, weights=uniform, leaf_size=10 ...................\n",
      "[CV] .... n_neighbors=12, weights=uniform, leaf_size=10, total=   0.1s\n",
      "[CV] n_neighbors=12, weights=uniform, leaf_size=10 ...................\n",
      "[CV] .... n_neighbors=12, weights=uniform, leaf_size=10, total=   0.1s\n",
      "[CV] n_neighbors=12, weights=distance, leaf_size=10 ..................\n",
      "[CV] ... n_neighbors=12, weights=distance, leaf_size=10, total=   0.1s\n",
      "[CV] n_neighbors=12, weights=distance, leaf_size=10 ..................\n",
      "[CV] ... n_neighbors=12, weights=distance, leaf_size=10, total=   0.1s\n",
      "[CV] n_neighbors=12, weights=distance, leaf_size=10 ..................\n",
      "[CV] ... n_neighbors=12, weights=distance, leaf_size=10, total=   0.1s\n",
      "[CV] n_neighbors=12, weights=distance, leaf_size=10 ..................\n",
      "[CV] ... n_neighbors=12, weights=distance, leaf_size=10, total=   0.1s\n",
      "[CV] n_neighbors=12, weights=distance, leaf_size=10 ..................\n",
      "[CV] ... n_neighbors=12, weights=distance, leaf_size=10, total=   0.1s\n"
     ]
    },
    {
     "name": "stderr",
     "output_type": "stream",
     "text": [
      "[Parallel(n_jobs=1)]: Done  90 out of  90 | elapsed:   22.7s finished\n"
     ]
    },
    {
     "data": {
      "text/plain": [
       "GridSearchCV(cv=5, error_score='raise',\n",
       "       estimator=KNeighborsRegressor(algorithm='auto', leaf_size=30, metric='minkowski',\n",
       "          metric_params=None, n_jobs=1, n_neighbors=5, p=2,\n",
       "          weights='uniform'),\n",
       "       fit_params={}, iid=True, n_jobs=1,\n",
       "       param_grid={'n_neighbors': [10, 11, 12], 'weights': ['uniform', 'distance'], 'leaf_size': [2, 5, 10]},\n",
       "       pre_dispatch='2*n_jobs', refit=True, return_train_score=True,\n",
       "       scoring=make_scorer(rmse_scorer), verbose=2)"
      ]
     },
     "execution_count": 27,
     "metadata": {},
     "output_type": "execute_result"
    }
   ],
   "source": [
    "knn2 = KNeighborsRegressor()\n",
    "param_grid_knn2 = {\n",
    "    'n_neighbors': [10, 11, 12],\n",
    "    'weights': ['uniform', 'distance'],\n",
    "    'leaf_size': [2, 5 ,10]\n",
    "}\n",
    "CV_knn2 = GridSearchCV(knn, param_grid_knn2, scoring=rmse, cv=5, verbose=2)\n",
    "CV_knn2.fit(X, y)"
   ]
  },
  {
   "cell_type": "code",
   "execution_count": 28,
   "metadata": {
    "collapsed": false
   },
   "outputs": [
    {
     "name": "stdout",
     "output_type": "stream",
     "text": [
      "best score: 33.8769185425 \n",
      "with parameters: {'n_neighbors': 10, 'weights': 'distance', 'leaf_size': 10}\n"
     ]
    }
   ],
   "source": [
    "print('best score:', CV_knn2.best_score_, '\\nwith parameters:', CV_knn2.best_params_)"
   ]
  },
  {
   "cell_type": "code",
   "execution_count": 29,
   "metadata": {
    "collapsed": false
   },
   "outputs": [
    {
     "data": {
      "image/png": "[encoded data removed]",
      "text/plain": [
       "<matplotlib.figure.Figure at 0x11315f9e8>"
      ]
     },
     "metadata": {},
     "output_type": "display_data"
    }
   ],
   "source": [
    "best_knn2 = KNeighborsRegressor(leaf_size=10, n_neighbors=5, weights='distance')\n",
    "plot_learning_curve(best_knn2, 'Learning curve for KNN', X, y);"
   ]
  },
  {
   "cell_type": "markdown",
   "metadata": {},
   "source": [
    "## Import test data"
   ]
  },
  {
   "cell_type": "code",
   "execution_count": 30,
   "metadata": {
    "collapsed": true
   },
   "outputs": [],
   "source": [
    "test_df = pd.read_csv('OutputTable_test.csv')\n",
    "test_df.fillna(0, inplace=True)\n",
    "test_df.query('SubmissionNumber > 0', inplace=True)\n",
    "test_df['NVideoAndForum'] = test_df['NVideoEvents'].add(test_df['NForumEvents'])"
   ]
  },
  {
   "cell_type": "code",
   "execution_count": 31,
   "metadata": {
    "collapsed": false
   },
   "outputs": [
    {
     "data": {
      "text/html": [
       "<div>\n",
       "<table border=\"1\" class=\"dataframe\">\n",
       "  <thead>\n",
       "    <tr style=\"text-align: right;\">\n",
       "      <th></th>\n",
       "      <th></th>\n",
       "      <th>DurationOfVideoActivity</th>\n",
       "      <th>ActivityRate</th>\n",
       "      <th>log_TotalNVideoAndFom</th>\n",
       "      <th>TotalNumberOfSubmissions</th>\n",
       "      <th>log_TimeSpentOnForum</th>\n",
       "      <th>log_AvgTimeBwSubs</th>\n",
       "      <th>GradeDiff</th>\n",
       "      <th>NumberOfThreadViews</th>\n",
       "      <th>NumberOfPosts</th>\n",
       "      <th>NumberOfThreadCreated</th>\n",
       "      <th>NumberOfVideoInteractions</th>\n",
       "      <th>NForumEvents</th>\n",
       "      <th>log_NForumEvents</th>\n",
       "      <th>NumberOfUpvotes</th>\n",
       "      <th>log_NVideoEvents</th>\n",
       "      <th>NumberVideoWatched</th>\n",
       "      <th>RewatchingScore</th>\n",
       "      <th>MeanProblemSubmissionNumber</th>\n",
       "    </tr>\n",
       "    <tr>\n",
       "      <th>UserID</th>\n",
       "      <th>ProblemID</th>\n",
       "      <th></th>\n",
       "      <th></th>\n",
       "      <th></th>\n",
       "      <th></th>\n",
       "      <th></th>\n",
       "      <th></th>\n",
       "      <th></th>\n",
       "      <th></th>\n",
       "      <th></th>\n",
       "      <th></th>\n",
       "      <th></th>\n",
       "      <th></th>\n",
       "      <th></th>\n",
       "      <th></th>\n",
       "      <th></th>\n",
       "      <th></th>\n",
       "      <th></th>\n",
       "      <th></th>\n",
       "    </tr>\n",
       "  </thead>\n",
       "  <tbody>\n",
       "    <tr>\n",
       "      <th rowspan=\"4\" valign=\"top\">000143a7618ac9cae91b0bf7d059c1fd</th>\n",
       "      <th>4</th>\n",
       "      <td>0.0</td>\n",
       "      <td>0.0</td>\n",
       "      <td>0.000000</td>\n",
       "      <td>2</td>\n",
       "      <td>0.0</td>\n",
       "      <td>5.209486</td>\n",
       "      <td>0.0</td>\n",
       "      <td>0.0</td>\n",
       "      <td>0.0</td>\n",
       "      <td>0.0</td>\n",
       "      <td>0.0</td>\n",
       "      <td>0.0</td>\n",
       "      <td>0.0</td>\n",
       "      <td>0.0</td>\n",
       "      <td>0.000000</td>\n",
       "      <td>0.0</td>\n",
       "      <td>0.0</td>\n",
       "      <td>4.724490</td>\n",
       "    </tr>\n",
       "    <tr>\n",
       "      <th>5</th>\n",
       "      <td>0.0</td>\n",
       "      <td>0.0</td>\n",
       "      <td>0.000000</td>\n",
       "      <td>13</td>\n",
       "      <td>0.0</td>\n",
       "      <td>8.222636</td>\n",
       "      <td>0.0</td>\n",
       "      <td>0.0</td>\n",
       "      <td>0.0</td>\n",
       "      <td>0.0</td>\n",
       "      <td>0.0</td>\n",
       "      <td>0.0</td>\n",
       "      <td>0.0</td>\n",
       "      <td>0.0</td>\n",
       "      <td>0.000000</td>\n",
       "      <td>0.0</td>\n",
       "      <td>0.0</td>\n",
       "      <td>5.255208</td>\n",
       "    </tr>\n",
       "    <tr>\n",
       "      <th>6</th>\n",
       "      <td>0.0</td>\n",
       "      <td>0.0</td>\n",
       "      <td>0.000000</td>\n",
       "      <td>2</td>\n",
       "      <td>0.0</td>\n",
       "      <td>6.791783</td>\n",
       "      <td>0.0</td>\n",
       "      <td>0.0</td>\n",
       "      <td>0.0</td>\n",
       "      <td>0.0</td>\n",
       "      <td>0.0</td>\n",
       "      <td>0.0</td>\n",
       "      <td>0.0</td>\n",
       "      <td>0.0</td>\n",
       "      <td>0.000000</td>\n",
       "      <td>0.0</td>\n",
       "      <td>0.0</td>\n",
       "      <td>2.746269</td>\n",
       "    </tr>\n",
       "    <tr>\n",
       "      <th>7</th>\n",
       "      <td>0.0</td>\n",
       "      <td>0.0</td>\n",
       "      <td>0.000000</td>\n",
       "      <td>2</td>\n",
       "      <td>0.0</td>\n",
       "      <td>6.280396</td>\n",
       "      <td>0.0</td>\n",
       "      <td>0.0</td>\n",
       "      <td>0.0</td>\n",
       "      <td>0.0</td>\n",
       "      <td>0.0</td>\n",
       "      <td>0.0</td>\n",
       "      <td>0.0</td>\n",
       "      <td>0.0</td>\n",
       "      <td>0.000000</td>\n",
       "      <td>0.0</td>\n",
       "      <td>0.0</td>\n",
       "      <td>4.996667</td>\n",
       "    </tr>\n",
       "    <tr>\n",
       "      <th>0019bbc70f71e4620273237a1e99bfde</th>\n",
       "      <th>1</th>\n",
       "      <td>977978.0</td>\n",
       "      <td>0.5</td>\n",
       "      <td>5.283204</td>\n",
       "      <td>2</td>\n",
       "      <td>0.0</td>\n",
       "      <td>13.336700</td>\n",
       "      <td>0.0</td>\n",
       "      <td>0.0</td>\n",
       "      <td>0.0</td>\n",
       "      <td>0.0</td>\n",
       "      <td>89.0</td>\n",
       "      <td>0.0</td>\n",
       "      <td>0.0</td>\n",
       "      <td>0.0</td>\n",
       "      <td>5.283204</td>\n",
       "      <td>14.0</td>\n",
       "      <td>2.0</td>\n",
       "      <td>4.157407</td>\n",
       "    </tr>\n",
       "  </tbody>\n",
       "</table>\n",
       "</div>"
      ],
      "text/plain": [
       "                                            DurationOfVideoActivity  \\\n",
       "UserID                           ProblemID                            \n",
       "000143a7618ac9cae91b0bf7d059c1fd 4                              0.0   \n",
       "                                 5                              0.0   \n",
       "                                 6                              0.0   \n",
       "                                 7                              0.0   \n",
       "0019bbc70f71e4620273237a1e99bfde 1                         977978.0   \n",
       "\n",
       "                                            ActivityRate  \\\n",
       "UserID                           ProblemID                 \n",
       "000143a7618ac9cae91b0bf7d059c1fd 4                   0.0   \n",
       "                                 5                   0.0   \n",
       "                                 6                   0.0   \n",
       "                                 7                   0.0   \n",
       "0019bbc70f71e4620273237a1e99bfde 1                   0.5   \n",
       "\n",
       "                                            log_TotalNVideoAndFom  \\\n",
       "UserID                           ProblemID                          \n",
       "000143a7618ac9cae91b0bf7d059c1fd 4                       0.000000   \n",
       "                                 5                       0.000000   \n",
       "                                 6                       0.000000   \n",
       "                                 7                       0.000000   \n",
       "0019bbc70f71e4620273237a1e99bfde 1                       5.283204   \n",
       "\n",
       "                                            TotalNumberOfSubmissions  \\\n",
       "UserID                           ProblemID                             \n",
       "000143a7618ac9cae91b0bf7d059c1fd 4                                 2   \n",
       "                                 5                                13   \n",
       "                                 6                                 2   \n",
       "                                 7                                 2   \n",
       "0019bbc70f71e4620273237a1e99bfde 1                                 2   \n",
       "\n",
       "                                            log_TimeSpentOnForum  \\\n",
       "UserID                           ProblemID                         \n",
       "000143a7618ac9cae91b0bf7d059c1fd 4                           0.0   \n",
       "                                 5                           0.0   \n",
       "                                 6                           0.0   \n",
       "                                 7                           0.0   \n",
       "0019bbc70f71e4620273237a1e99bfde 1                           0.0   \n",
       "\n",
       "                                            log_AvgTimeBwSubs  GradeDiff  \\\n",
       "UserID                           ProblemID                                 \n",
       "000143a7618ac9cae91b0bf7d059c1fd 4                   5.209486        0.0   \n",
       "                                 5                   8.222636        0.0   \n",
       "                                 6                   6.791783        0.0   \n",
       "                                 7                   6.280396        0.0   \n",
       "0019bbc70f71e4620273237a1e99bfde 1                  13.336700        0.0   \n",
       "\n",
       "                                            NumberOfThreadViews  \\\n",
       "UserID                           ProblemID                        \n",
       "000143a7618ac9cae91b0bf7d059c1fd 4                          0.0   \n",
       "                                 5                          0.0   \n",
       "                                 6                          0.0   \n",
       "                                 7                          0.0   \n",
       "0019bbc70f71e4620273237a1e99bfde 1                          0.0   \n",
       "\n",
       "                                            NumberOfPosts  \\\n",
       "UserID                           ProblemID                  \n",
       "000143a7618ac9cae91b0bf7d059c1fd 4                    0.0   \n",
       "                                 5                    0.0   \n",
       "                                 6                    0.0   \n",
       "                                 7                    0.0   \n",
       "0019bbc70f71e4620273237a1e99bfde 1                    0.0   \n",
       "\n",
       "                                            NumberOfThreadCreated  \\\n",
       "UserID                           ProblemID                          \n",
       "000143a7618ac9cae91b0bf7d059c1fd 4                            0.0   \n",
       "                                 5                            0.0   \n",
       "                                 6                            0.0   \n",
       "                                 7                            0.0   \n",
       "0019bbc70f71e4620273237a1e99bfde 1                            0.0   \n",
       "\n",
       "                                            NumberOfVideoInteractions  \\\n",
       "UserID                           ProblemID                              \n",
       "000143a7618ac9cae91b0bf7d059c1fd 4                                0.0   \n",
       "                                 5                                0.0   \n",
       "                                 6                                0.0   \n",
       "                                 7                                0.0   \n",
       "0019bbc70f71e4620273237a1e99bfde 1                               89.0   \n",
       "\n",
       "                                            NForumEvents  log_NForumEvents  \\\n",
       "UserID                           ProblemID                                   \n",
       "000143a7618ac9cae91b0bf7d059c1fd 4                   0.0               0.0   \n",
       "                                 5                   0.0               0.0   \n",
       "                                 6                   0.0               0.0   \n",
       "                                 7                   0.0               0.0   \n",
       "0019bbc70f71e4620273237a1e99bfde 1                   0.0               0.0   \n",
       "\n",
       "                                            NumberOfUpvotes  log_NVideoEvents  \\\n",
       "UserID                           ProblemID                                      \n",
       "000143a7618ac9cae91b0bf7d059c1fd 4                      0.0          0.000000   \n",
       "                                 5                      0.0          0.000000   \n",
       "                                 6                      0.0          0.000000   \n",
       "                                 7                      0.0          0.000000   \n",
       "0019bbc70f71e4620273237a1e99bfde 1                      0.0          5.283204   \n",
       "\n",
       "                                            NumberVideoWatched  \\\n",
       "UserID                           ProblemID                       \n",
       "000143a7618ac9cae91b0bf7d059c1fd 4                         0.0   \n",
       "                                 5                         0.0   \n",
       "                                 6                         0.0   \n",
       "                                 7                         0.0   \n",
       "0019bbc70f71e4620273237a1e99bfde 1                        14.0   \n",
       "\n",
       "                                            RewatchingScore  \\\n",
       "UserID                           ProblemID                    \n",
       "000143a7618ac9cae91b0bf7d059c1fd 4                      0.0   \n",
       "                                 5                      0.0   \n",
       "                                 6                      0.0   \n",
       "                                 7                      0.0   \n",
       "0019bbc70f71e4620273237a1e99bfde 1                      2.0   \n",
       "\n",
       "                                            MeanProblemSubmissionNumber  \n",
       "UserID                           ProblemID                               \n",
       "000143a7618ac9cae91b0bf7d059c1fd 4                             4.724490  \n",
       "                                 5                             5.255208  \n",
       "                                 6                             2.746269  \n",
       "                                 7                             4.996667  \n",
       "0019bbc70f71e4620273237a1e99bfde 1                             4.157407  "
      ]
     },
     "execution_count": 31,
     "metadata": {},
     "output_type": "execute_result"
    }
   ],
   "source": [
    "test_data = aggregate_df(test_df)\n",
    "test_data['MeanProblemSubmissionNumber'] = test_data['TotalNumberOfSubmissions'].groupby(level=1).transform(np.mean)\n",
    "\n",
    "test_data.head()"
   ]
  },
  {
   "cell_type": "code",
   "execution_count": 32,
   "metadata": {
    "collapsed": false
   },
   "outputs": [],
   "source": [
    "X_test = test_data.drop('GradeDiff', axis=1).as_matrix()\n",
    "best_model = CV_knn2\n",
    "preds = best_model.predict(X_test)"
   ]
  },
  {
   "cell_type": "code",
   "execution_count": 33,
   "metadata": {
    "collapsed": false
   },
   "outputs": [],
   "source": [
    "test_data['OveralGradeDiff'] = preds\n",
    "test_data[test_data['OveralGradeDiff'] > 100] = 100\n",
    "test_data[test_data['OveralGradeDiff'] < 0] = 0\n",
    "test_data.reset_index(inplace=True)\n",
    "test_data['uniqRowID'] = test_data.UserID.astype(str) + '_' + test_data.ProblemID.astype(str)"
   ]
  },
  {
   "cell_type": "code",
   "execution_count": 34,
   "metadata": {
    "collapsed": false
   },
   "outputs": [],
   "source": [
    "classifier_template = pd.read_csv('data/regression_template.csv')\n",
    "kaggle_submission = pd.merge(test_data, classifier_template, on='uniqRowID')\n",
    "kaggle_submission = kaggle_submission[['uniqRowID', 'OveralGradeDiff']]"
   ]
  },
  {
   "cell_type": "code",
   "execution_count": 35,
   "metadata": {
    "collapsed": false
   },
   "outputs": [
    {
     "data": {
      "text/plain": [
       "(3767, 2)"
      ]
     },
     "execution_count": 35,
     "metadata": {},
     "output_type": "execute_result"
    }
   ],
   "source": [
    "kaggle_submission.shape"
   ]
  },
  {
   "cell_type": "code",
   "execution_count": 36,
   "metadata": {
    "collapsed": false
   },
   "outputs": [],
   "source": [
    "kaggle_submission.to_csv('data/regression_results.csv', index=False)"
   ]
  }
 ],
 "metadata": {
  "anaconda-cloud": {},
  "kernelspec": {
   "display_name": "Python [Root]",
   "language": "python",
   "name": "Python [Root]"
  },
  "language_info": {
   "codemirror_mode": {
    "name": "ipython",
    "version": 3
   },
   "file_extension": ".py",
   "mimetype": "text/x-python",
   "name": "python",
   "nbconvert_exporter": "python",
   "pygments_lexer": "ipython3",
   "version": "3.5.2"
  }
 },
 "nbformat": 4,
 "nbformat_minor": 2
}
